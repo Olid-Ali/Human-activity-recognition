{
  "nbformat": 4,
  "nbformat_minor": 0,
  "metadata": {
    "colab": {
      "provenance": []
    },
    "kernelspec": {
      "name": "python3",
      "display_name": "Python 3"
    },
    "language_info": {
      "name": "python"
    }
  },
  "cells": [
    {
      "cell_type": "code",
      "metadata": {
        "colab": {
          "base_uri": "https://localhost:8080/"
        },
        "id": "1oKMoQ2pIwAP",
        "outputId": "669faaf9-4be8-4348-982a-47de185d063e"
      },
      "source": [
        "from google.colab import drive\n",
        "drive.mount('/content/drive')"
      ],
      "execution_count": null,
      "outputs": [
        {
          "output_type": "stream",
          "name": "stdout",
          "text": [
            "Mounted at /content/drive\n"
          ]
        }
      ]
    },
    {
      "cell_type": "markdown",
      "source": [
        "Important Library Import"
      ],
      "metadata": {
        "id": "jSjuKmvQD4IQ"
      }
    },
    {
      "cell_type": "code",
      "metadata": {
        "id": "INUXK3b6Ixqu"
      },
      "source": [
        "import numpy as np\n",
        "import pandas as pd\n",
        "import matplotlib.pyplot as plt\n",
        "from matplotlib import rcParams\n",
        "from matplotlib.cm import rainbow\n",
        "%matplotlib inline\n",
        "import warnings\n",
        "warnings.filterwarnings('ignore')"
      ],
      "execution_count": null,
      "outputs": []
    },
    {
      "cell_type": "code",
      "metadata": {
        "id": "AHZLEoR7JCNG"
      },
      "source": [
        "import seaborn"
      ],
      "execution_count": null,
      "outputs": []
    },
    {
      "cell_type": "markdown",
      "source": [
        "Dataset load"
      ],
      "metadata": {
        "id": "dlwKmMcyD9gU"
      }
    },
    {
      "cell_type": "code",
      "metadata": {
        "id": "NVSbqf4jJEJW"
      },
      "source": [
        "df=pd.read_csv(\"/content/drive/MyDrive/CSE499/AllData.csv\")"
      ],
      "execution_count": null,
      "outputs": []
    },
    {
      "cell_type": "code",
      "metadata": {
        "colab": {
          "base_uri": "https://localhost:8080/",
          "height": 424
        },
        "id": "OQ0Gf2QCJOMZ",
        "outputId": "a107f3bf-e2eb-4ccb-e2c7-8dfbc1e0b6b7"
      },
      "source": [
        "df.head(200)"
      ],
      "execution_count": null,
      "outputs": [
        {
          "output_type": "execute_result",
          "data": {
            "text/plain": [
              "             Time     Acc_x     Acc_y     Acc_z      Gry_x      Gry_y  \\\n",
              "0    1.560000e+12  0.499756  0.798584 -0.313110 -16.768293 -10.091463   \n",
              "1    1.560000e+12  0.497314  0.826172 -0.312622  -6.981707 -11.310976   \n",
              "2    1.560000e+12  0.495605  0.825562 -0.313477  -5.823171 -11.402439   \n",
              "3    1.560000e+12  0.493408  0.823242 -0.314697  -5.091463 -11.067073   \n",
              "4    1.560000e+12  0.495605  0.819336 -0.315552  -4.115854 -11.189024   \n",
              "..            ...       ...       ...       ...        ...        ...   \n",
              "195  1.560000e+12 -0.415161  0.886719 -0.390259  -4.024390  -3.384146   \n",
              "196  1.560000e+12 -0.360596  0.836304 -0.378174 -18.506098   4.451220   \n",
              "197  1.560000e+12 -0.408447  0.833862 -0.339233 -17.713415   6.463415   \n",
              "198  1.560000e+12 -0.367920  0.877563 -0.336914  -8.780488   1.615854   \n",
              "199  1.560000e+12 -0.365601  0.885864 -0.378784   0.792683  -4.237805   \n",
              "\n",
              "         Gry_Z  Person   Class  \n",
              "0    11.189024       4  Eating  \n",
              "1    10.731707       4  Eating  \n",
              "2     3.993902       4  Eating  \n",
              "3     6.890244       4  Eating  \n",
              "4    16.890244       4  Eating  \n",
              "..         ...     ...     ...  \n",
              "195  22.408537       4  Eating  \n",
              "196   3.993902       4  Eating  \n",
              "197  -1.463415       4  Eating  \n",
              "198   8.628049       4  Eating  \n",
              "199   3.871951       4  Eating  \n",
              "\n",
              "[200 rows x 9 columns]"
            ],
            "text/html": [
              "\n",
              "\n",
              "  <div id=\"df-0f402e3b-63c8-4b1c-810a-e4c8d8827c1d\">\n",
              "    <div class=\"colab-df-container\">\n",
              "      <div>\n",
              "<style scoped>\n",
              "    .dataframe tbody tr th:only-of-type {\n",
              "        vertical-align: middle;\n",
              "    }\n",
              "\n",
              "    .dataframe tbody tr th {\n",
              "        vertical-align: top;\n",
              "    }\n",
              "\n",
              "    .dataframe thead th {\n",
              "        text-align: right;\n",
              "    }\n",
              "</style>\n",
              "<table border=\"1\" class=\"dataframe\">\n",
              "  <thead>\n",
              "    <tr style=\"text-align: right;\">\n",
              "      <th></th>\n",
              "      <th>Time</th>\n",
              "      <th>Acc_x</th>\n",
              "      <th>Acc_y</th>\n",
              "      <th>Acc_z</th>\n",
              "      <th>Gry_x</th>\n",
              "      <th>Gry_y</th>\n",
              "      <th>Gry_Z</th>\n",
              "      <th>Person</th>\n",
              "      <th>Class</th>\n",
              "    </tr>\n",
              "  </thead>\n",
              "  <tbody>\n",
              "    <tr>\n",
              "      <th>0</th>\n",
              "      <td>1.560000e+12</td>\n",
              "      <td>0.499756</td>\n",
              "      <td>0.798584</td>\n",
              "      <td>-0.313110</td>\n",
              "      <td>-16.768293</td>\n",
              "      <td>-10.091463</td>\n",
              "      <td>11.189024</td>\n",
              "      <td>4</td>\n",
              "      <td>Eating</td>\n",
              "    </tr>\n",
              "    <tr>\n",
              "      <th>1</th>\n",
              "      <td>1.560000e+12</td>\n",
              "      <td>0.497314</td>\n",
              "      <td>0.826172</td>\n",
              "      <td>-0.312622</td>\n",
              "      <td>-6.981707</td>\n",
              "      <td>-11.310976</td>\n",
              "      <td>10.731707</td>\n",
              "      <td>4</td>\n",
              "      <td>Eating</td>\n",
              "    </tr>\n",
              "    <tr>\n",
              "      <th>2</th>\n",
              "      <td>1.560000e+12</td>\n",
              "      <td>0.495605</td>\n",
              "      <td>0.825562</td>\n",
              "      <td>-0.313477</td>\n",
              "      <td>-5.823171</td>\n",
              "      <td>-11.402439</td>\n",
              "      <td>3.993902</td>\n",
              "      <td>4</td>\n",
              "      <td>Eating</td>\n",
              "    </tr>\n",
              "    <tr>\n",
              "      <th>3</th>\n",
              "      <td>1.560000e+12</td>\n",
              "      <td>0.493408</td>\n",
              "      <td>0.823242</td>\n",
              "      <td>-0.314697</td>\n",
              "      <td>-5.091463</td>\n",
              "      <td>-11.067073</td>\n",
              "      <td>6.890244</td>\n",
              "      <td>4</td>\n",
              "      <td>Eating</td>\n",
              "    </tr>\n",
              "    <tr>\n",
              "      <th>4</th>\n",
              "      <td>1.560000e+12</td>\n",
              "      <td>0.495605</td>\n",
              "      <td>0.819336</td>\n",
              "      <td>-0.315552</td>\n",
              "      <td>-4.115854</td>\n",
              "      <td>-11.189024</td>\n",
              "      <td>16.890244</td>\n",
              "      <td>4</td>\n",
              "      <td>Eating</td>\n",
              "    </tr>\n",
              "    <tr>\n",
              "      <th>...</th>\n",
              "      <td>...</td>\n",
              "      <td>...</td>\n",
              "      <td>...</td>\n",
              "      <td>...</td>\n",
              "      <td>...</td>\n",
              "      <td>...</td>\n",
              "      <td>...</td>\n",
              "      <td>...</td>\n",
              "      <td>...</td>\n",
              "    </tr>\n",
              "    <tr>\n",
              "      <th>195</th>\n",
              "      <td>1.560000e+12</td>\n",
              "      <td>-0.415161</td>\n",
              "      <td>0.886719</td>\n",
              "      <td>-0.390259</td>\n",
              "      <td>-4.024390</td>\n",
              "      <td>-3.384146</td>\n",
              "      <td>22.408537</td>\n",
              "      <td>4</td>\n",
              "      <td>Eating</td>\n",
              "    </tr>\n",
              "    <tr>\n",
              "      <th>196</th>\n",
              "      <td>1.560000e+12</td>\n",
              "      <td>-0.360596</td>\n",
              "      <td>0.836304</td>\n",
              "      <td>-0.378174</td>\n",
              "      <td>-18.506098</td>\n",
              "      <td>4.451220</td>\n",
              "      <td>3.993902</td>\n",
              "      <td>4</td>\n",
              "      <td>Eating</td>\n",
              "    </tr>\n",
              "    <tr>\n",
              "      <th>197</th>\n",
              "      <td>1.560000e+12</td>\n",
              "      <td>-0.408447</td>\n",
              "      <td>0.833862</td>\n",
              "      <td>-0.339233</td>\n",
              "      <td>-17.713415</td>\n",
              "      <td>6.463415</td>\n",
              "      <td>-1.463415</td>\n",
              "      <td>4</td>\n",
              "      <td>Eating</td>\n",
              "    </tr>\n",
              "    <tr>\n",
              "      <th>198</th>\n",
              "      <td>1.560000e+12</td>\n",
              "      <td>-0.367920</td>\n",
              "      <td>0.877563</td>\n",
              "      <td>-0.336914</td>\n",
              "      <td>-8.780488</td>\n",
              "      <td>1.615854</td>\n",
              "      <td>8.628049</td>\n",
              "      <td>4</td>\n",
              "      <td>Eating</td>\n",
              "    </tr>\n",
              "    <tr>\n",
              "      <th>199</th>\n",
              "      <td>1.560000e+12</td>\n",
              "      <td>-0.365601</td>\n",
              "      <td>0.885864</td>\n",
              "      <td>-0.378784</td>\n",
              "      <td>0.792683</td>\n",
              "      <td>-4.237805</td>\n",
              "      <td>3.871951</td>\n",
              "      <td>4</td>\n",
              "      <td>Eating</td>\n",
              "    </tr>\n",
              "  </tbody>\n",
              "</table>\n",
              "<p>200 rows × 9 columns</p>\n",
              "</div>\n",
              "      <button class=\"colab-df-convert\" onclick=\"convertToInteractive('df-0f402e3b-63c8-4b1c-810a-e4c8d8827c1d')\"\n",
              "              title=\"Convert this dataframe to an interactive table.\"\n",
              "              style=\"display:none;\">\n",
              "\n",
              "  <svg xmlns=\"http://www.w3.org/2000/svg\" height=\"24px\"viewBox=\"0 0 24 24\"\n",
              "       width=\"24px\">\n",
              "    <path d=\"M0 0h24v24H0V0z\" fill=\"none\"/>\n",
              "    <path d=\"M18.56 5.44l.94 2.06.94-2.06 2.06-.94-2.06-.94-.94-2.06-.94 2.06-2.06.94zm-11 1L8.5 8.5l.94-2.06 2.06-.94-2.06-.94L8.5 2.5l-.94 2.06-2.06.94zm10 10l.94 2.06.94-2.06 2.06-.94-2.06-.94-.94-2.06-.94 2.06-2.06.94z\"/><path d=\"M17.41 7.96l-1.37-1.37c-.4-.4-.92-.59-1.43-.59-.52 0-1.04.2-1.43.59L10.3 9.45l-7.72 7.72c-.78.78-.78 2.05 0 2.83L4 21.41c.39.39.9.59 1.41.59.51 0 1.02-.2 1.41-.59l7.78-7.78 2.81-2.81c.8-.78.8-2.07 0-2.86zM5.41 20L4 18.59l7.72-7.72 1.47 1.35L5.41 20z\"/>\n",
              "  </svg>\n",
              "      </button>\n",
              "\n",
              "\n",
              "\n",
              "    <div id=\"df-c78f1866-dbd3-4bef-aef4-bc099ba727be\">\n",
              "      <button class=\"colab-df-quickchart\" onclick=\"quickchart('df-c78f1866-dbd3-4bef-aef4-bc099ba727be')\"\n",
              "              title=\"Suggest charts.\"\n",
              "              style=\"display:none;\">\n",
              "\n",
              "<svg xmlns=\"http://www.w3.org/2000/svg\" height=\"24px\"viewBox=\"0 0 24 24\"\n",
              "     width=\"24px\">\n",
              "    <g>\n",
              "        <path d=\"M19 3H5c-1.1 0-2 .9-2 2v14c0 1.1.9 2 2 2h14c1.1 0 2-.9 2-2V5c0-1.1-.9-2-2-2zM9 17H7v-7h2v7zm4 0h-2V7h2v10zm4 0h-2v-4h2v4z\"/>\n",
              "    </g>\n",
              "</svg>\n",
              "      </button>\n",
              "    </div>\n",
              "\n",
              "<style>\n",
              "  .colab-df-quickchart {\n",
              "    background-color: #E8F0FE;\n",
              "    border: none;\n",
              "    border-radius: 50%;\n",
              "    cursor: pointer;\n",
              "    display: none;\n",
              "    fill: #1967D2;\n",
              "    height: 32px;\n",
              "    padding: 0 0 0 0;\n",
              "    width: 32px;\n",
              "  }\n",
              "\n",
              "  .colab-df-quickchart:hover {\n",
              "    background-color: #E2EBFA;\n",
              "    box-shadow: 0px 1px 2px rgba(60, 64, 67, 0.3), 0px 1px 3px 1px rgba(60, 64, 67, 0.15);\n",
              "    fill: #174EA6;\n",
              "  }\n",
              "\n",
              "  [theme=dark] .colab-df-quickchart {\n",
              "    background-color: #3B4455;\n",
              "    fill: #D2E3FC;\n",
              "  }\n",
              "\n",
              "  [theme=dark] .colab-df-quickchart:hover {\n",
              "    background-color: #434B5C;\n",
              "    box-shadow: 0px 1px 3px 1px rgba(0, 0, 0, 0.15);\n",
              "    filter: drop-shadow(0px 1px 2px rgba(0, 0, 0, 0.3));\n",
              "    fill: #FFFFFF;\n",
              "  }\n",
              "</style>\n",
              "\n",
              "    <script>\n",
              "      async function quickchart(key) {\n",
              "        const containerElement = document.querySelector('#' + key);\n",
              "        const charts = await google.colab.kernel.invokeFunction(\n",
              "            'suggestCharts', [key], {});\n",
              "      }\n",
              "    </script>\n",
              "\n",
              "      <script>\n",
              "\n",
              "function displayQuickchartButton(domScope) {\n",
              "  let quickchartButtonEl =\n",
              "    domScope.querySelector('#df-c78f1866-dbd3-4bef-aef4-bc099ba727be button.colab-df-quickchart');\n",
              "  quickchartButtonEl.style.display =\n",
              "    google.colab.kernel.accessAllowed ? 'block' : 'none';\n",
              "}\n",
              "\n",
              "        displayQuickchartButton(document);\n",
              "      </script>\n",
              "      <style>\n",
              "    .colab-df-container {\n",
              "      display:flex;\n",
              "      flex-wrap:wrap;\n",
              "      gap: 12px;\n",
              "    }\n",
              "\n",
              "    .colab-df-convert {\n",
              "      background-color: #E8F0FE;\n",
              "      border: none;\n",
              "      border-radius: 50%;\n",
              "      cursor: pointer;\n",
              "      display: none;\n",
              "      fill: #1967D2;\n",
              "      height: 32px;\n",
              "      padding: 0 0 0 0;\n",
              "      width: 32px;\n",
              "    }\n",
              "\n",
              "    .colab-df-convert:hover {\n",
              "      background-color: #E2EBFA;\n",
              "      box-shadow: 0px 1px 2px rgba(60, 64, 67, 0.3), 0px 1px 3px 1px rgba(60, 64, 67, 0.15);\n",
              "      fill: #174EA6;\n",
              "    }\n",
              "\n",
              "    [theme=dark] .colab-df-convert {\n",
              "      background-color: #3B4455;\n",
              "      fill: #D2E3FC;\n",
              "    }\n",
              "\n",
              "    [theme=dark] .colab-df-convert:hover {\n",
              "      background-color: #434B5C;\n",
              "      box-shadow: 0px 1px 3px 1px rgba(0, 0, 0, 0.15);\n",
              "      filter: drop-shadow(0px 1px 2px rgba(0, 0, 0, 0.3));\n",
              "      fill: #FFFFFF;\n",
              "    }\n",
              "  </style>\n",
              "\n",
              "      <script>\n",
              "        const buttonEl =\n",
              "          document.querySelector('#df-0f402e3b-63c8-4b1c-810a-e4c8d8827c1d button.colab-df-convert');\n",
              "        buttonEl.style.display =\n",
              "          google.colab.kernel.accessAllowed ? 'block' : 'none';\n",
              "\n",
              "        async function convertToInteractive(key) {\n",
              "          const element = document.querySelector('#df-0f402e3b-63c8-4b1c-810a-e4c8d8827c1d');\n",
              "          const dataTable =\n",
              "            await google.colab.kernel.invokeFunction('convertToInteractive',\n",
              "                                                     [key], {});\n",
              "          if (!dataTable) return;\n",
              "\n",
              "          const docLinkHtml = 'Like what you see? Visit the ' +\n",
              "            '<a target=\"_blank\" href=https://colab.research.google.com/notebooks/data_table.ipynb>data table notebook</a>'\n",
              "            + ' to learn more about interactive tables.';\n",
              "          element.innerHTML = '';\n",
              "          dataTable['output_type'] = 'display_data';\n",
              "          await google.colab.output.renderOutput(dataTable, element);\n",
              "          const docLink = document.createElement('div');\n",
              "          docLink.innerHTML = docLinkHtml;\n",
              "          element.appendChild(docLink);\n",
              "        }\n",
              "      </script>\n",
              "    </div>\n",
              "  </div>\n"
            ]
          },
          "metadata": {},
          "execution_count": 5
        }
      ]
    },
    {
      "cell_type": "code",
      "source": [
        "df=df.drop('Person',axis=1)\n",
        "df=df.drop('Time',axis=1)"
      ],
      "metadata": {
        "id": "TxeOgVCuXrZn"
      },
      "execution_count": null,
      "outputs": []
    },
    {
      "cell_type": "code",
      "source": [
        "df"
      ],
      "metadata": {
        "colab": {
          "base_uri": "https://localhost:8080/",
          "height": 423
        },
        "id": "Dtnzy9nfX3MF",
        "outputId": "999170eb-da05-4946-a3b5-591c066878a0"
      },
      "execution_count": null,
      "outputs": [
        {
          "output_type": "execute_result",
          "data": {
            "text/plain": [
              "          Acc_x     Acc_y     Acc_z      Gry_x      Gry_y      Gry_Z    Class\n",
              "0      0.499756  0.798584 -0.313110 -16.768293 -10.091463  11.189024   Eating\n",
              "1      0.497314  0.826172 -0.312622  -6.981707 -11.310976  10.731707   Eating\n",
              "2      0.495605  0.825562 -0.313477  -5.823171 -11.402439   3.993902   Eating\n",
              "3      0.493408  0.823242 -0.314697  -5.091463 -11.067073   6.890244   Eating\n",
              "4      0.495605  0.819336 -0.315552  -4.115854 -11.189024  16.890244   Eating\n",
              "...         ...       ...       ...        ...        ...        ...      ...\n",
              "72089 -0.945923 -0.182861  0.105103 -70.457317 -11.829268  11.463415  Walking\n",
              "72090 -0.898315 -0.176880  0.078857 -71.280488 -11.890244  10.884146  Walking\n",
              "72091 -0.863159 -0.199097  0.086548 -71.676829 -19.390244  -1.006098  Walking\n",
              "72092 -0.904907 -0.189941  0.088989 -58.963415 -10.152439  25.731707  Walking\n",
              "72093 -0.941895 -0.152100  0.086914 -58.658537  -9.207317  23.048780  Walking\n",
              "\n",
              "[72094 rows x 7 columns]"
            ],
            "text/html": [
              "\n",
              "\n",
              "  <div id=\"df-1b911feb-f02a-4d86-bda8-3a744f2b61fe\">\n",
              "    <div class=\"colab-df-container\">\n",
              "      <div>\n",
              "<style scoped>\n",
              "    .dataframe tbody tr th:only-of-type {\n",
              "        vertical-align: middle;\n",
              "    }\n",
              "\n",
              "    .dataframe tbody tr th {\n",
              "        vertical-align: top;\n",
              "    }\n",
              "\n",
              "    .dataframe thead th {\n",
              "        text-align: right;\n",
              "    }\n",
              "</style>\n",
              "<table border=\"1\" class=\"dataframe\">\n",
              "  <thead>\n",
              "    <tr style=\"text-align: right;\">\n",
              "      <th></th>\n",
              "      <th>Acc_x</th>\n",
              "      <th>Acc_y</th>\n",
              "      <th>Acc_z</th>\n",
              "      <th>Gry_x</th>\n",
              "      <th>Gry_y</th>\n",
              "      <th>Gry_Z</th>\n",
              "      <th>Class</th>\n",
              "    </tr>\n",
              "  </thead>\n",
              "  <tbody>\n",
              "    <tr>\n",
              "      <th>0</th>\n",
              "      <td>0.499756</td>\n",
              "      <td>0.798584</td>\n",
              "      <td>-0.313110</td>\n",
              "      <td>-16.768293</td>\n",
              "      <td>-10.091463</td>\n",
              "      <td>11.189024</td>\n",
              "      <td>Eating</td>\n",
              "    </tr>\n",
              "    <tr>\n",
              "      <th>1</th>\n",
              "      <td>0.497314</td>\n",
              "      <td>0.826172</td>\n",
              "      <td>-0.312622</td>\n",
              "      <td>-6.981707</td>\n",
              "      <td>-11.310976</td>\n",
              "      <td>10.731707</td>\n",
              "      <td>Eating</td>\n",
              "    </tr>\n",
              "    <tr>\n",
              "      <th>2</th>\n",
              "      <td>0.495605</td>\n",
              "      <td>0.825562</td>\n",
              "      <td>-0.313477</td>\n",
              "      <td>-5.823171</td>\n",
              "      <td>-11.402439</td>\n",
              "      <td>3.993902</td>\n",
              "      <td>Eating</td>\n",
              "    </tr>\n",
              "    <tr>\n",
              "      <th>3</th>\n",
              "      <td>0.493408</td>\n",
              "      <td>0.823242</td>\n",
              "      <td>-0.314697</td>\n",
              "      <td>-5.091463</td>\n",
              "      <td>-11.067073</td>\n",
              "      <td>6.890244</td>\n",
              "      <td>Eating</td>\n",
              "    </tr>\n",
              "    <tr>\n",
              "      <th>4</th>\n",
              "      <td>0.495605</td>\n",
              "      <td>0.819336</td>\n",
              "      <td>-0.315552</td>\n",
              "      <td>-4.115854</td>\n",
              "      <td>-11.189024</td>\n",
              "      <td>16.890244</td>\n",
              "      <td>Eating</td>\n",
              "    </tr>\n",
              "    <tr>\n",
              "      <th>...</th>\n",
              "      <td>...</td>\n",
              "      <td>...</td>\n",
              "      <td>...</td>\n",
              "      <td>...</td>\n",
              "      <td>...</td>\n",
              "      <td>...</td>\n",
              "      <td>...</td>\n",
              "    </tr>\n",
              "    <tr>\n",
              "      <th>72089</th>\n",
              "      <td>-0.945923</td>\n",
              "      <td>-0.182861</td>\n",
              "      <td>0.105103</td>\n",
              "      <td>-70.457317</td>\n",
              "      <td>-11.829268</td>\n",
              "      <td>11.463415</td>\n",
              "      <td>Walking</td>\n",
              "    </tr>\n",
              "    <tr>\n",
              "      <th>72090</th>\n",
              "      <td>-0.898315</td>\n",
              "      <td>-0.176880</td>\n",
              "      <td>0.078857</td>\n",
              "      <td>-71.280488</td>\n",
              "      <td>-11.890244</td>\n",
              "      <td>10.884146</td>\n",
              "      <td>Walking</td>\n",
              "    </tr>\n",
              "    <tr>\n",
              "      <th>72091</th>\n",
              "      <td>-0.863159</td>\n",
              "      <td>-0.199097</td>\n",
              "      <td>0.086548</td>\n",
              "      <td>-71.676829</td>\n",
              "      <td>-19.390244</td>\n",
              "      <td>-1.006098</td>\n",
              "      <td>Walking</td>\n",
              "    </tr>\n",
              "    <tr>\n",
              "      <th>72092</th>\n",
              "      <td>-0.904907</td>\n",
              "      <td>-0.189941</td>\n",
              "      <td>0.088989</td>\n",
              "      <td>-58.963415</td>\n",
              "      <td>-10.152439</td>\n",
              "      <td>25.731707</td>\n",
              "      <td>Walking</td>\n",
              "    </tr>\n",
              "    <tr>\n",
              "      <th>72093</th>\n",
              "      <td>-0.941895</td>\n",
              "      <td>-0.152100</td>\n",
              "      <td>0.086914</td>\n",
              "      <td>-58.658537</td>\n",
              "      <td>-9.207317</td>\n",
              "      <td>23.048780</td>\n",
              "      <td>Walking</td>\n",
              "    </tr>\n",
              "  </tbody>\n",
              "</table>\n",
              "<p>72094 rows × 7 columns</p>\n",
              "</div>\n",
              "      <button class=\"colab-df-convert\" onclick=\"convertToInteractive('df-1b911feb-f02a-4d86-bda8-3a744f2b61fe')\"\n",
              "              title=\"Convert this dataframe to an interactive table.\"\n",
              "              style=\"display:none;\">\n",
              "\n",
              "  <svg xmlns=\"http://www.w3.org/2000/svg\" height=\"24px\"viewBox=\"0 0 24 24\"\n",
              "       width=\"24px\">\n",
              "    <path d=\"M0 0h24v24H0V0z\" fill=\"none\"/>\n",
              "    <path d=\"M18.56 5.44l.94 2.06.94-2.06 2.06-.94-2.06-.94-.94-2.06-.94 2.06-2.06.94zm-11 1L8.5 8.5l.94-2.06 2.06-.94-2.06-.94L8.5 2.5l-.94 2.06-2.06.94zm10 10l.94 2.06.94-2.06 2.06-.94-2.06-.94-.94-2.06-.94 2.06-2.06.94z\"/><path d=\"M17.41 7.96l-1.37-1.37c-.4-.4-.92-.59-1.43-.59-.52 0-1.04.2-1.43.59L10.3 9.45l-7.72 7.72c-.78.78-.78 2.05 0 2.83L4 21.41c.39.39.9.59 1.41.59.51 0 1.02-.2 1.41-.59l7.78-7.78 2.81-2.81c.8-.78.8-2.07 0-2.86zM5.41 20L4 18.59l7.72-7.72 1.47 1.35L5.41 20z\"/>\n",
              "  </svg>\n",
              "      </button>\n",
              "\n",
              "\n",
              "\n",
              "    <div id=\"df-22bcdb77-b441-4497-9694-b318515cac8f\">\n",
              "      <button class=\"colab-df-quickchart\" onclick=\"quickchart('df-22bcdb77-b441-4497-9694-b318515cac8f')\"\n",
              "              title=\"Suggest charts.\"\n",
              "              style=\"display:none;\">\n",
              "\n",
              "<svg xmlns=\"http://www.w3.org/2000/svg\" height=\"24px\"viewBox=\"0 0 24 24\"\n",
              "     width=\"24px\">\n",
              "    <g>\n",
              "        <path d=\"M19 3H5c-1.1 0-2 .9-2 2v14c0 1.1.9 2 2 2h14c1.1 0 2-.9 2-2V5c0-1.1-.9-2-2-2zM9 17H7v-7h2v7zm4 0h-2V7h2v10zm4 0h-2v-4h2v4z\"/>\n",
              "    </g>\n",
              "</svg>\n",
              "      </button>\n",
              "    </div>\n",
              "\n",
              "<style>\n",
              "  .colab-df-quickchart {\n",
              "    background-color: #E8F0FE;\n",
              "    border: none;\n",
              "    border-radius: 50%;\n",
              "    cursor: pointer;\n",
              "    display: none;\n",
              "    fill: #1967D2;\n",
              "    height: 32px;\n",
              "    padding: 0 0 0 0;\n",
              "    width: 32px;\n",
              "  }\n",
              "\n",
              "  .colab-df-quickchart:hover {\n",
              "    background-color: #E2EBFA;\n",
              "    box-shadow: 0px 1px 2px rgba(60, 64, 67, 0.3), 0px 1px 3px 1px rgba(60, 64, 67, 0.15);\n",
              "    fill: #174EA6;\n",
              "  }\n",
              "\n",
              "  [theme=dark] .colab-df-quickchart {\n",
              "    background-color: #3B4455;\n",
              "    fill: #D2E3FC;\n",
              "  }\n",
              "\n",
              "  [theme=dark] .colab-df-quickchart:hover {\n",
              "    background-color: #434B5C;\n",
              "    box-shadow: 0px 1px 3px 1px rgba(0, 0, 0, 0.15);\n",
              "    filter: drop-shadow(0px 1px 2px rgba(0, 0, 0, 0.3));\n",
              "    fill: #FFFFFF;\n",
              "  }\n",
              "</style>\n",
              "\n",
              "    <script>\n",
              "      async function quickchart(key) {\n",
              "        const containerElement = document.querySelector('#' + key);\n",
              "        const charts = await google.colab.kernel.invokeFunction(\n",
              "            'suggestCharts', [key], {});\n",
              "      }\n",
              "    </script>\n",
              "\n",
              "      <script>\n",
              "\n",
              "function displayQuickchartButton(domScope) {\n",
              "  let quickchartButtonEl =\n",
              "    domScope.querySelector('#df-22bcdb77-b441-4497-9694-b318515cac8f button.colab-df-quickchart');\n",
              "  quickchartButtonEl.style.display =\n",
              "    google.colab.kernel.accessAllowed ? 'block' : 'none';\n",
              "}\n",
              "\n",
              "        displayQuickchartButton(document);\n",
              "      </script>\n",
              "      <style>\n",
              "    .colab-df-container {\n",
              "      display:flex;\n",
              "      flex-wrap:wrap;\n",
              "      gap: 12px;\n",
              "    }\n",
              "\n",
              "    .colab-df-convert {\n",
              "      background-color: #E8F0FE;\n",
              "      border: none;\n",
              "      border-radius: 50%;\n",
              "      cursor: pointer;\n",
              "      display: none;\n",
              "      fill: #1967D2;\n",
              "      height: 32px;\n",
              "      padding: 0 0 0 0;\n",
              "      width: 32px;\n",
              "    }\n",
              "\n",
              "    .colab-df-convert:hover {\n",
              "      background-color: #E2EBFA;\n",
              "      box-shadow: 0px 1px 2px rgba(60, 64, 67, 0.3), 0px 1px 3px 1px rgba(60, 64, 67, 0.15);\n",
              "      fill: #174EA6;\n",
              "    }\n",
              "\n",
              "    [theme=dark] .colab-df-convert {\n",
              "      background-color: #3B4455;\n",
              "      fill: #D2E3FC;\n",
              "    }\n",
              "\n",
              "    [theme=dark] .colab-df-convert:hover {\n",
              "      background-color: #434B5C;\n",
              "      box-shadow: 0px 1px 3px 1px rgba(0, 0, 0, 0.15);\n",
              "      filter: drop-shadow(0px 1px 2px rgba(0, 0, 0, 0.3));\n",
              "      fill: #FFFFFF;\n",
              "    }\n",
              "  </style>\n",
              "\n",
              "      <script>\n",
              "        const buttonEl =\n",
              "          document.querySelector('#df-1b911feb-f02a-4d86-bda8-3a744f2b61fe button.colab-df-convert');\n",
              "        buttonEl.style.display =\n",
              "          google.colab.kernel.accessAllowed ? 'block' : 'none';\n",
              "\n",
              "        async function convertToInteractive(key) {\n",
              "          const element = document.querySelector('#df-1b911feb-f02a-4d86-bda8-3a744f2b61fe');\n",
              "          const dataTable =\n",
              "            await google.colab.kernel.invokeFunction('convertToInteractive',\n",
              "                                                     [key], {});\n",
              "          if (!dataTable) return;\n",
              "\n",
              "          const docLinkHtml = 'Like what you see? Visit the ' +\n",
              "            '<a target=\"_blank\" href=https://colab.research.google.com/notebooks/data_table.ipynb>data table notebook</a>'\n",
              "            + ' to learn more about interactive tables.';\n",
              "          element.innerHTML = '';\n",
              "          dataTable['output_type'] = 'display_data';\n",
              "          await google.colab.output.renderOutput(dataTable, element);\n",
              "          const docLink = document.createElement('div');\n",
              "          docLink.innerHTML = docLinkHtml;\n",
              "          element.appendChild(docLink);\n",
              "        }\n",
              "      </script>\n",
              "    </div>\n",
              "  </div>\n"
            ]
          },
          "metadata": {},
          "execution_count": 7
        }
      ]
    },
    {
      "cell_type": "markdown",
      "source": [
        "Dataset shape (Number of row, number of column)"
      ],
      "metadata": {
        "id": "Jc7iLbGKEA13"
      }
    },
    {
      "cell_type": "code",
      "metadata": {
        "colab": {
          "base_uri": "https://localhost:8080/"
        },
        "id": "qrn3fhd2JPGG",
        "outputId": "4e189d12-90df-4439-c72a-33615f0b2d22"
      },
      "source": [
        "df.shape"
      ],
      "execution_count": null,
      "outputs": [
        {
          "output_type": "execute_result",
          "data": {
            "text/plain": [
              "(72094, 7)"
            ]
          },
          "metadata": {},
          "execution_count": 8
        }
      ]
    },
    {
      "cell_type": "markdown",
      "source": [
        "\n",
        "\n",
        "```\n",
        "# This is formatted as code\n",
        "```\n",
        "\n",
        "label is the target column which we need to predict"
      ],
      "metadata": {
        "id": "fGuB2YZiEGxk"
      }
    },
    {
      "cell_type": "code",
      "metadata": {
        "colab": {
          "base_uri": "https://localhost:8080/"
        },
        "id": "TMjgUDSQJRRn",
        "outputId": "34286281-8d04-4e32-e0df-e09c08873e21"
      },
      "source": [
        "df['Class'].value_counts()"
      ],
      "execution_count": null,
      "outputs": [
        {
          "output_type": "execute_result",
          "data": {
            "text/plain": [
              "Speak and Walk    18673\n",
              "Staying           16453\n",
              "Walking           14541\n",
              "Speaking          12867\n",
              "Eating             9560\n",
              "Name: Class, dtype: int64"
            ]
          },
          "metadata": {},
          "execution_count": 9
        }
      ]
    },
    {
      "cell_type": "code",
      "metadata": {
        "colab": {
          "base_uri": "https://localhost:8080/"
        },
        "id": "n8K8tpI8JWH1",
        "outputId": "06167296-d4e8-4ad0-eeb3-7dc0c8956c74"
      },
      "source": [
        "df.isnull().sum() #find missing data"
      ],
      "execution_count": null,
      "outputs": [
        {
          "output_type": "execute_result",
          "data": {
            "text/plain": [
              "Acc_x    0\n",
              "Acc_y    0\n",
              "Acc_z    0\n",
              "Gry_x    0\n",
              "Gry_y    0\n",
              "Gry_Z    0\n",
              "Class    0\n",
              "dtype: int64"
            ]
          },
          "metadata": {},
          "execution_count": 10
        }
      ]
    },
    {
      "cell_type": "code",
      "source": [
        "df.isnull().values.any() #no missing data"
      ],
      "metadata": {
        "colab": {
          "base_uri": "https://localhost:8080/"
        },
        "id": "hIIbj5Ic34rB",
        "outputId": "7b800550-05a2-4aca-fbcb-7afcc9a5c1ed"
      },
      "execution_count": null,
      "outputs": [
        {
          "output_type": "execute_result",
          "data": {
            "text/plain": [
              "False"
            ]
          },
          "metadata": {},
          "execution_count": 11
        }
      ]
    },
    {
      "cell_type": "code",
      "metadata": {
        "colab": {
          "base_uri": "https://localhost:8080/",
          "height": 300
        },
        "id": "Yl6EE_WbJ2BG",
        "outputId": "9b4e5d98-b64e-4494-e86b-22a9783bd25e"
      },
      "source": [
        "df.describe() #feature engineering"
      ],
      "execution_count": null,
      "outputs": [
        {
          "output_type": "execute_result",
          "data": {
            "text/plain": [
              "              Acc_x         Acc_y         Acc_z         Gry_x         Gry_y  \\\n",
              "count  72094.000000  72094.000000  72094.000000  72094.000000  72094.000000   \n",
              "mean      -0.447154      0.402126     -0.189126     -2.895353     -0.584548   \n",
              "std        0.572069      0.465418      0.210580     42.258991     41.297331   \n",
              "min       -1.283447     -1.066040     -1.184326   -588.658537   -664.634146   \n",
              "25%       -0.863892     -0.031494     -0.349243    -11.615854    -10.091463   \n",
              "50%       -0.743408      0.556519     -0.214478     -5.274390      0.000000   \n",
              "75%       -0.036987      0.782440     -0.057495      4.359756      4.756098   \n",
              "max        1.146362      1.199951      0.564331    414.878049    625.335366   \n",
              "\n",
              "              Gry_Z  \n",
              "count  72094.000000  \n",
              "mean      -0.605051  \n",
              "std       27.830226  \n",
              "min     -340.792683  \n",
              "25%       -8.864329  \n",
              "50%        1.006098  \n",
              "75%        8.445122  \n",
              "max      504.054878  "
            ],
            "text/html": [
              "\n",
              "\n",
              "  <div id=\"df-28546ee9-05e6-451c-bab1-3d95272e9cbb\">\n",
              "    <div class=\"colab-df-container\">\n",
              "      <div>\n",
              "<style scoped>\n",
              "    .dataframe tbody tr th:only-of-type {\n",
              "        vertical-align: middle;\n",
              "    }\n",
              "\n",
              "    .dataframe tbody tr th {\n",
              "        vertical-align: top;\n",
              "    }\n",
              "\n",
              "    .dataframe thead th {\n",
              "        text-align: right;\n",
              "    }\n",
              "</style>\n",
              "<table border=\"1\" class=\"dataframe\">\n",
              "  <thead>\n",
              "    <tr style=\"text-align: right;\">\n",
              "      <th></th>\n",
              "      <th>Acc_x</th>\n",
              "      <th>Acc_y</th>\n",
              "      <th>Acc_z</th>\n",
              "      <th>Gry_x</th>\n",
              "      <th>Gry_y</th>\n",
              "      <th>Gry_Z</th>\n",
              "    </tr>\n",
              "  </thead>\n",
              "  <tbody>\n",
              "    <tr>\n",
              "      <th>count</th>\n",
              "      <td>72094.000000</td>\n",
              "      <td>72094.000000</td>\n",
              "      <td>72094.000000</td>\n",
              "      <td>72094.000000</td>\n",
              "      <td>72094.000000</td>\n",
              "      <td>72094.000000</td>\n",
              "    </tr>\n",
              "    <tr>\n",
              "      <th>mean</th>\n",
              "      <td>-0.447154</td>\n",
              "      <td>0.402126</td>\n",
              "      <td>-0.189126</td>\n",
              "      <td>-2.895353</td>\n",
              "      <td>-0.584548</td>\n",
              "      <td>-0.605051</td>\n",
              "    </tr>\n",
              "    <tr>\n",
              "      <th>std</th>\n",
              "      <td>0.572069</td>\n",
              "      <td>0.465418</td>\n",
              "      <td>0.210580</td>\n",
              "      <td>42.258991</td>\n",
              "      <td>41.297331</td>\n",
              "      <td>27.830226</td>\n",
              "    </tr>\n",
              "    <tr>\n",
              "      <th>min</th>\n",
              "      <td>-1.283447</td>\n",
              "      <td>-1.066040</td>\n",
              "      <td>-1.184326</td>\n",
              "      <td>-588.658537</td>\n",
              "      <td>-664.634146</td>\n",
              "      <td>-340.792683</td>\n",
              "    </tr>\n",
              "    <tr>\n",
              "      <th>25%</th>\n",
              "      <td>-0.863892</td>\n",
              "      <td>-0.031494</td>\n",
              "      <td>-0.349243</td>\n",
              "      <td>-11.615854</td>\n",
              "      <td>-10.091463</td>\n",
              "      <td>-8.864329</td>\n",
              "    </tr>\n",
              "    <tr>\n",
              "      <th>50%</th>\n",
              "      <td>-0.743408</td>\n",
              "      <td>0.556519</td>\n",
              "      <td>-0.214478</td>\n",
              "      <td>-5.274390</td>\n",
              "      <td>0.000000</td>\n",
              "      <td>1.006098</td>\n",
              "    </tr>\n",
              "    <tr>\n",
              "      <th>75%</th>\n",
              "      <td>-0.036987</td>\n",
              "      <td>0.782440</td>\n",
              "      <td>-0.057495</td>\n",
              "      <td>4.359756</td>\n",
              "      <td>4.756098</td>\n",
              "      <td>8.445122</td>\n",
              "    </tr>\n",
              "    <tr>\n",
              "      <th>max</th>\n",
              "      <td>1.146362</td>\n",
              "      <td>1.199951</td>\n",
              "      <td>0.564331</td>\n",
              "      <td>414.878049</td>\n",
              "      <td>625.335366</td>\n",
              "      <td>504.054878</td>\n",
              "    </tr>\n",
              "  </tbody>\n",
              "</table>\n",
              "</div>\n",
              "      <button class=\"colab-df-convert\" onclick=\"convertToInteractive('df-28546ee9-05e6-451c-bab1-3d95272e9cbb')\"\n",
              "              title=\"Convert this dataframe to an interactive table.\"\n",
              "              style=\"display:none;\">\n",
              "\n",
              "  <svg xmlns=\"http://www.w3.org/2000/svg\" height=\"24px\"viewBox=\"0 0 24 24\"\n",
              "       width=\"24px\">\n",
              "    <path d=\"M0 0h24v24H0V0z\" fill=\"none\"/>\n",
              "    <path d=\"M18.56 5.44l.94 2.06.94-2.06 2.06-.94-2.06-.94-.94-2.06-.94 2.06-2.06.94zm-11 1L8.5 8.5l.94-2.06 2.06-.94-2.06-.94L8.5 2.5l-.94 2.06-2.06.94zm10 10l.94 2.06.94-2.06 2.06-.94-2.06-.94-.94-2.06-.94 2.06-2.06.94z\"/><path d=\"M17.41 7.96l-1.37-1.37c-.4-.4-.92-.59-1.43-.59-.52 0-1.04.2-1.43.59L10.3 9.45l-7.72 7.72c-.78.78-.78 2.05 0 2.83L4 21.41c.39.39.9.59 1.41.59.51 0 1.02-.2 1.41-.59l7.78-7.78 2.81-2.81c.8-.78.8-2.07 0-2.86zM5.41 20L4 18.59l7.72-7.72 1.47 1.35L5.41 20z\"/>\n",
              "  </svg>\n",
              "      </button>\n",
              "\n",
              "\n",
              "\n",
              "    <div id=\"df-e304e6bc-4424-4edb-b073-69ca33963596\">\n",
              "      <button class=\"colab-df-quickchart\" onclick=\"quickchart('df-e304e6bc-4424-4edb-b073-69ca33963596')\"\n",
              "              title=\"Suggest charts.\"\n",
              "              style=\"display:none;\">\n",
              "\n",
              "<svg xmlns=\"http://www.w3.org/2000/svg\" height=\"24px\"viewBox=\"0 0 24 24\"\n",
              "     width=\"24px\">\n",
              "    <g>\n",
              "        <path d=\"M19 3H5c-1.1 0-2 .9-2 2v14c0 1.1.9 2 2 2h14c1.1 0 2-.9 2-2V5c0-1.1-.9-2-2-2zM9 17H7v-7h2v7zm4 0h-2V7h2v10zm4 0h-2v-4h2v4z\"/>\n",
              "    </g>\n",
              "</svg>\n",
              "      </button>\n",
              "    </div>\n",
              "\n",
              "<style>\n",
              "  .colab-df-quickchart {\n",
              "    background-color: #E8F0FE;\n",
              "    border: none;\n",
              "    border-radius: 50%;\n",
              "    cursor: pointer;\n",
              "    display: none;\n",
              "    fill: #1967D2;\n",
              "    height: 32px;\n",
              "    padding: 0 0 0 0;\n",
              "    width: 32px;\n",
              "  }\n",
              "\n",
              "  .colab-df-quickchart:hover {\n",
              "    background-color: #E2EBFA;\n",
              "    box-shadow: 0px 1px 2px rgba(60, 64, 67, 0.3), 0px 1px 3px 1px rgba(60, 64, 67, 0.15);\n",
              "    fill: #174EA6;\n",
              "  }\n",
              "\n",
              "  [theme=dark] .colab-df-quickchart {\n",
              "    background-color: #3B4455;\n",
              "    fill: #D2E3FC;\n",
              "  }\n",
              "\n",
              "  [theme=dark] .colab-df-quickchart:hover {\n",
              "    background-color: #434B5C;\n",
              "    box-shadow: 0px 1px 3px 1px rgba(0, 0, 0, 0.15);\n",
              "    filter: drop-shadow(0px 1px 2px rgba(0, 0, 0, 0.3));\n",
              "    fill: #FFFFFF;\n",
              "  }\n",
              "</style>\n",
              "\n",
              "    <script>\n",
              "      async function quickchart(key) {\n",
              "        const containerElement = document.querySelector('#' + key);\n",
              "        const charts = await google.colab.kernel.invokeFunction(\n",
              "            'suggestCharts', [key], {});\n",
              "      }\n",
              "    </script>\n",
              "\n",
              "      <script>\n",
              "\n",
              "function displayQuickchartButton(domScope) {\n",
              "  let quickchartButtonEl =\n",
              "    domScope.querySelector('#df-e304e6bc-4424-4edb-b073-69ca33963596 button.colab-df-quickchart');\n",
              "  quickchartButtonEl.style.display =\n",
              "    google.colab.kernel.accessAllowed ? 'block' : 'none';\n",
              "}\n",
              "\n",
              "        displayQuickchartButton(document);\n",
              "      </script>\n",
              "      <style>\n",
              "    .colab-df-container {\n",
              "      display:flex;\n",
              "      flex-wrap:wrap;\n",
              "      gap: 12px;\n",
              "    }\n",
              "\n",
              "    .colab-df-convert {\n",
              "      background-color: #E8F0FE;\n",
              "      border: none;\n",
              "      border-radius: 50%;\n",
              "      cursor: pointer;\n",
              "      display: none;\n",
              "      fill: #1967D2;\n",
              "      height: 32px;\n",
              "      padding: 0 0 0 0;\n",
              "      width: 32px;\n",
              "    }\n",
              "\n",
              "    .colab-df-convert:hover {\n",
              "      background-color: #E2EBFA;\n",
              "      box-shadow: 0px 1px 2px rgba(60, 64, 67, 0.3), 0px 1px 3px 1px rgba(60, 64, 67, 0.15);\n",
              "      fill: #174EA6;\n",
              "    }\n",
              "\n",
              "    [theme=dark] .colab-df-convert {\n",
              "      background-color: #3B4455;\n",
              "      fill: #D2E3FC;\n",
              "    }\n",
              "\n",
              "    [theme=dark] .colab-df-convert:hover {\n",
              "      background-color: #434B5C;\n",
              "      box-shadow: 0px 1px 3px 1px rgba(0, 0, 0, 0.15);\n",
              "      filter: drop-shadow(0px 1px 2px rgba(0, 0, 0, 0.3));\n",
              "      fill: #FFFFFF;\n",
              "    }\n",
              "  </style>\n",
              "\n",
              "      <script>\n",
              "        const buttonEl =\n",
              "          document.querySelector('#df-28546ee9-05e6-451c-bab1-3d95272e9cbb button.colab-df-convert');\n",
              "        buttonEl.style.display =\n",
              "          google.colab.kernel.accessAllowed ? 'block' : 'none';\n",
              "\n",
              "        async function convertToInteractive(key) {\n",
              "          const element = document.querySelector('#df-28546ee9-05e6-451c-bab1-3d95272e9cbb');\n",
              "          const dataTable =\n",
              "            await google.colab.kernel.invokeFunction('convertToInteractive',\n",
              "                                                     [key], {});\n",
              "          if (!dataTable) return;\n",
              "\n",
              "          const docLinkHtml = 'Like what you see? Visit the ' +\n",
              "            '<a target=\"_blank\" href=https://colab.research.google.com/notebooks/data_table.ipynb>data table notebook</a>'\n",
              "            + ' to learn more about interactive tables.';\n",
              "          element.innerHTML = '';\n",
              "          dataTable['output_type'] = 'display_data';\n",
              "          await google.colab.output.renderOutput(dataTable, element);\n",
              "          const docLink = document.createElement('div');\n",
              "          docLink.innerHTML = docLinkHtml;\n",
              "          element.appendChild(docLink);\n",
              "        }\n",
              "      </script>\n",
              "    </div>\n",
              "  </div>\n"
            ]
          },
          "metadata": {},
          "execution_count": 12
        }
      ]
    },
    {
      "cell_type": "code",
      "metadata": {
        "colab": {
          "base_uri": "https://localhost:8080/",
          "height": 237
        },
        "id": "iI3rXOpIKbHm",
        "outputId": "2cc697f0-ac42-43a8-d9bd-18f794ff3290"
      },
      "source": [
        "df.corr() #feature selection"
      ],
      "execution_count": null,
      "outputs": [
        {
          "output_type": "execute_result",
          "data": {
            "text/plain": [
              "          Acc_x     Acc_y     Acc_z     Gry_x     Gry_y     Gry_Z\n",
              "Acc_x  1.000000  0.576228 -0.427687  0.047156  0.064115  0.018388\n",
              "Acc_y  0.576228  1.000000 -0.749424 -0.033066  0.006125  0.054869\n",
              "Acc_z -0.427687 -0.749424  1.000000  0.041120 -0.007340 -0.028219\n",
              "Gry_x  0.047156 -0.033066  0.041120  1.000000  0.114890 -0.113659\n",
              "Gry_y  0.064115  0.006125 -0.007340  0.114890  1.000000 -0.383033\n",
              "Gry_Z  0.018388  0.054869 -0.028219 -0.113659 -0.383033  1.000000"
            ],
            "text/html": [
              "\n",
              "\n",
              "  <div id=\"df-ca91fed4-058b-4250-9b8a-a169294c107c\">\n",
              "    <div class=\"colab-df-container\">\n",
              "      <div>\n",
              "<style scoped>\n",
              "    .dataframe tbody tr th:only-of-type {\n",
              "        vertical-align: middle;\n",
              "    }\n",
              "\n",
              "    .dataframe tbody tr th {\n",
              "        vertical-align: top;\n",
              "    }\n",
              "\n",
              "    .dataframe thead th {\n",
              "        text-align: right;\n",
              "    }\n",
              "</style>\n",
              "<table border=\"1\" class=\"dataframe\">\n",
              "  <thead>\n",
              "    <tr style=\"text-align: right;\">\n",
              "      <th></th>\n",
              "      <th>Acc_x</th>\n",
              "      <th>Acc_y</th>\n",
              "      <th>Acc_z</th>\n",
              "      <th>Gry_x</th>\n",
              "      <th>Gry_y</th>\n",
              "      <th>Gry_Z</th>\n",
              "    </tr>\n",
              "  </thead>\n",
              "  <tbody>\n",
              "    <tr>\n",
              "      <th>Acc_x</th>\n",
              "      <td>1.000000</td>\n",
              "      <td>0.576228</td>\n",
              "      <td>-0.427687</td>\n",
              "      <td>0.047156</td>\n",
              "      <td>0.064115</td>\n",
              "      <td>0.018388</td>\n",
              "    </tr>\n",
              "    <tr>\n",
              "      <th>Acc_y</th>\n",
              "      <td>0.576228</td>\n",
              "      <td>1.000000</td>\n",
              "      <td>-0.749424</td>\n",
              "      <td>-0.033066</td>\n",
              "      <td>0.006125</td>\n",
              "      <td>0.054869</td>\n",
              "    </tr>\n",
              "    <tr>\n",
              "      <th>Acc_z</th>\n",
              "      <td>-0.427687</td>\n",
              "      <td>-0.749424</td>\n",
              "      <td>1.000000</td>\n",
              "      <td>0.041120</td>\n",
              "      <td>-0.007340</td>\n",
              "      <td>-0.028219</td>\n",
              "    </tr>\n",
              "    <tr>\n",
              "      <th>Gry_x</th>\n",
              "      <td>0.047156</td>\n",
              "      <td>-0.033066</td>\n",
              "      <td>0.041120</td>\n",
              "      <td>1.000000</td>\n",
              "      <td>0.114890</td>\n",
              "      <td>-0.113659</td>\n",
              "    </tr>\n",
              "    <tr>\n",
              "      <th>Gry_y</th>\n",
              "      <td>0.064115</td>\n",
              "      <td>0.006125</td>\n",
              "      <td>-0.007340</td>\n",
              "      <td>0.114890</td>\n",
              "      <td>1.000000</td>\n",
              "      <td>-0.383033</td>\n",
              "    </tr>\n",
              "    <tr>\n",
              "      <th>Gry_Z</th>\n",
              "      <td>0.018388</td>\n",
              "      <td>0.054869</td>\n",
              "      <td>-0.028219</td>\n",
              "      <td>-0.113659</td>\n",
              "      <td>-0.383033</td>\n",
              "      <td>1.000000</td>\n",
              "    </tr>\n",
              "  </tbody>\n",
              "</table>\n",
              "</div>\n",
              "      <button class=\"colab-df-convert\" onclick=\"convertToInteractive('df-ca91fed4-058b-4250-9b8a-a169294c107c')\"\n",
              "              title=\"Convert this dataframe to an interactive table.\"\n",
              "              style=\"display:none;\">\n",
              "\n",
              "  <svg xmlns=\"http://www.w3.org/2000/svg\" height=\"24px\"viewBox=\"0 0 24 24\"\n",
              "       width=\"24px\">\n",
              "    <path d=\"M0 0h24v24H0V0z\" fill=\"none\"/>\n",
              "    <path d=\"M18.56 5.44l.94 2.06.94-2.06 2.06-.94-2.06-.94-.94-2.06-.94 2.06-2.06.94zm-11 1L8.5 8.5l.94-2.06 2.06-.94-2.06-.94L8.5 2.5l-.94 2.06-2.06.94zm10 10l.94 2.06.94-2.06 2.06-.94-2.06-.94-.94-2.06-.94 2.06-2.06.94z\"/><path d=\"M17.41 7.96l-1.37-1.37c-.4-.4-.92-.59-1.43-.59-.52 0-1.04.2-1.43.59L10.3 9.45l-7.72 7.72c-.78.78-.78 2.05 0 2.83L4 21.41c.39.39.9.59 1.41.59.51 0 1.02-.2 1.41-.59l7.78-7.78 2.81-2.81c.8-.78.8-2.07 0-2.86zM5.41 20L4 18.59l7.72-7.72 1.47 1.35L5.41 20z\"/>\n",
              "  </svg>\n",
              "      </button>\n",
              "\n",
              "\n",
              "\n",
              "    <div id=\"df-87fb3eb7-aed6-4367-b4ed-9646f295c6f2\">\n",
              "      <button class=\"colab-df-quickchart\" onclick=\"quickchart('df-87fb3eb7-aed6-4367-b4ed-9646f295c6f2')\"\n",
              "              title=\"Suggest charts.\"\n",
              "              style=\"display:none;\">\n",
              "\n",
              "<svg xmlns=\"http://www.w3.org/2000/svg\" height=\"24px\"viewBox=\"0 0 24 24\"\n",
              "     width=\"24px\">\n",
              "    <g>\n",
              "        <path d=\"M19 3H5c-1.1 0-2 .9-2 2v14c0 1.1.9 2 2 2h14c1.1 0 2-.9 2-2V5c0-1.1-.9-2-2-2zM9 17H7v-7h2v7zm4 0h-2V7h2v10zm4 0h-2v-4h2v4z\"/>\n",
              "    </g>\n",
              "</svg>\n",
              "      </button>\n",
              "    </div>\n",
              "\n",
              "<style>\n",
              "  .colab-df-quickchart {\n",
              "    background-color: #E8F0FE;\n",
              "    border: none;\n",
              "    border-radius: 50%;\n",
              "    cursor: pointer;\n",
              "    display: none;\n",
              "    fill: #1967D2;\n",
              "    height: 32px;\n",
              "    padding: 0 0 0 0;\n",
              "    width: 32px;\n",
              "  }\n",
              "\n",
              "  .colab-df-quickchart:hover {\n",
              "    background-color: #E2EBFA;\n",
              "    box-shadow: 0px 1px 2px rgba(60, 64, 67, 0.3), 0px 1px 3px 1px rgba(60, 64, 67, 0.15);\n",
              "    fill: #174EA6;\n",
              "  }\n",
              "\n",
              "  [theme=dark] .colab-df-quickchart {\n",
              "    background-color: #3B4455;\n",
              "    fill: #D2E3FC;\n",
              "  }\n",
              "\n",
              "  [theme=dark] .colab-df-quickchart:hover {\n",
              "    background-color: #434B5C;\n",
              "    box-shadow: 0px 1px 3px 1px rgba(0, 0, 0, 0.15);\n",
              "    filter: drop-shadow(0px 1px 2px rgba(0, 0, 0, 0.3));\n",
              "    fill: #FFFFFF;\n",
              "  }\n",
              "</style>\n",
              "\n",
              "    <script>\n",
              "      async function quickchart(key) {\n",
              "        const containerElement = document.querySelector('#' + key);\n",
              "        const charts = await google.colab.kernel.invokeFunction(\n",
              "            'suggestCharts', [key], {});\n",
              "      }\n",
              "    </script>\n",
              "\n",
              "      <script>\n",
              "\n",
              "function displayQuickchartButton(domScope) {\n",
              "  let quickchartButtonEl =\n",
              "    domScope.querySelector('#df-87fb3eb7-aed6-4367-b4ed-9646f295c6f2 button.colab-df-quickchart');\n",
              "  quickchartButtonEl.style.display =\n",
              "    google.colab.kernel.accessAllowed ? 'block' : 'none';\n",
              "}\n",
              "\n",
              "        displayQuickchartButton(document);\n",
              "      </script>\n",
              "      <style>\n",
              "    .colab-df-container {\n",
              "      display:flex;\n",
              "      flex-wrap:wrap;\n",
              "      gap: 12px;\n",
              "    }\n",
              "\n",
              "    .colab-df-convert {\n",
              "      background-color: #E8F0FE;\n",
              "      border: none;\n",
              "      border-radius: 50%;\n",
              "      cursor: pointer;\n",
              "      display: none;\n",
              "      fill: #1967D2;\n",
              "      height: 32px;\n",
              "      padding: 0 0 0 0;\n",
              "      width: 32px;\n",
              "    }\n",
              "\n",
              "    .colab-df-convert:hover {\n",
              "      background-color: #E2EBFA;\n",
              "      box-shadow: 0px 1px 2px rgba(60, 64, 67, 0.3), 0px 1px 3px 1px rgba(60, 64, 67, 0.15);\n",
              "      fill: #174EA6;\n",
              "    }\n",
              "\n",
              "    [theme=dark] .colab-df-convert {\n",
              "      background-color: #3B4455;\n",
              "      fill: #D2E3FC;\n",
              "    }\n",
              "\n",
              "    [theme=dark] .colab-df-convert:hover {\n",
              "      background-color: #434B5C;\n",
              "      box-shadow: 0px 1px 3px 1px rgba(0, 0, 0, 0.15);\n",
              "      filter: drop-shadow(0px 1px 2px rgba(0, 0, 0, 0.3));\n",
              "      fill: #FFFFFF;\n",
              "    }\n",
              "  </style>\n",
              "\n",
              "      <script>\n",
              "        const buttonEl =\n",
              "          document.querySelector('#df-ca91fed4-058b-4250-9b8a-a169294c107c button.colab-df-convert');\n",
              "        buttonEl.style.display =\n",
              "          google.colab.kernel.accessAllowed ? 'block' : 'none';\n",
              "\n",
              "        async function convertToInteractive(key) {\n",
              "          const element = document.querySelector('#df-ca91fed4-058b-4250-9b8a-a169294c107c');\n",
              "          const dataTable =\n",
              "            await google.colab.kernel.invokeFunction('convertToInteractive',\n",
              "                                                     [key], {});\n",
              "          if (!dataTable) return;\n",
              "\n",
              "          const docLinkHtml = 'Like what you see? Visit the ' +\n",
              "            '<a target=\"_blank\" href=https://colab.research.google.com/notebooks/data_table.ipynb>data table notebook</a>'\n",
              "            + ' to learn more about interactive tables.';\n",
              "          element.innerHTML = '';\n",
              "          dataTable['output_type'] = 'display_data';\n",
              "          await google.colab.output.renderOutput(dataTable, element);\n",
              "          const docLink = document.createElement('div');\n",
              "          docLink.innerHTML = docLinkHtml;\n",
              "          element.appendChild(docLink);\n",
              "        }\n",
              "      </script>\n",
              "    </div>\n",
              "  </div>\n"
            ]
          },
          "metadata": {},
          "execution_count": 13
        }
      ]
    },
    {
      "cell_type": "markdown",
      "source": [
        "Feature Selection heatmap"
      ],
      "metadata": {
        "id": "cRwP2VyREzn5"
      }
    },
    {
      "cell_type": "code",
      "metadata": {
        "colab": {
          "base_uri": "https://localhost:8080/",
          "height": 984
        },
        "id": "SI7QOWNkKdXn",
        "outputId": "59ab4242-e9ef-4718-926d-05d4f3c7c0b8"
      },
      "source": [
        "import seaborn as sns\n",
        "#get correlations of each features in dataset\n",
        "corrmat = df.corr()\n",
        "top_corr_features = corrmat.index\n",
        "plt.figure(figsize=(20,20))\n",
        "#plot heat map\n",
        "g=sns.heatmap(df[top_corr_features].corr(),annot=True,cmap=\"RdYlGn\")"
      ],
      "execution_count": null,
      "outputs": [
        {
          "output_type": "display_data",
          "data": {
            "text/plain": [
              "<Figure size 2000x2000 with 2 Axes>"
            ],
            "image/png": "[encoded data removed]"
          },
          "metadata": {}
        }
      ]
    },
    {
      "cell_type": "markdown",
      "source": [
        "Extract statistical features"
      ],
      "metadata": {
        "id": "Hfsn3P1ILhox"
      }
    },
    {
      "cell_type": "code",
      "source": [
        "# Extract the accelerometer and gyroscope data into separate arrays\n",
        "acc_data = df[['Acc_x', 'Acc_y', 'Acc_z']].values\n",
        "gyro_data = df[['Gry_x', 'Gry_y', 'Gry_Z']].values\n"
      ],
      "metadata": {
        "id": "DfOyIDA5LnU3"
      },
      "execution_count": null,
      "outputs": []
    },
    {
      "cell_type": "code",
      "source": [
        "from scipy.stats import skew, kurtosis"
      ],
      "metadata": {
        "id": "KTt9JeJOMIWz"
      },
      "execution_count": null,
      "outputs": []
    },
    {
      "cell_type": "code",
      "source": [
        "data=df"
      ],
      "metadata": {
        "id": "P2U3W7OprD71"
      },
      "execution_count": null,
      "outputs": []
    },
    {
      "cell_type": "code",
      "source": [
        "# function to compute statistical features\n",
        "def compute_features(data):\n",
        "    mean = np.mean(data, axis=0)\n",
        "    std = np.std(data, axis=0)\n",
        "    min = np.min(data, axis=0)\n",
        "    max = np.max(data, axis=0)\n",
        "    rms = np.sqrt(np.mean(np.square(data), axis=0))\n",
        "    skewness = skew(data, axis=0)\n",
        "    kurtosis_ = kurtosis(data, axis=0)\n",
        "    features = []\n",
        "    for f in [mean, std, (max-min), rms, skewness, kurtosis_]:\n",
        "        if isinstance(f, float):\n",
        "            features.append(f)\n",
        "        else:\n",
        "            features.extend(f.flatten())\n",
        "    return features"
      ],
      "metadata": {
        "id": "YfCZt3urrCCB"
      },
      "execution_count": null,
      "outputs": []
    },
    {
      "cell_type": "code",
      "source": [
        "# compute features for accelerometer and gyroscope data\n",
        "acc_features = np.apply_along_axis(compute_features, 1, acc_data)\n",
        "gyro_features = np.apply_along_axis(compute_features, 1, gyro_data)\n"
      ],
      "metadata": {
        "id": "ruTaqcIgrG4k"
      },
      "execution_count": null,
      "outputs": []
    },
    {
      "cell_type": "code",
      "source": [
        "# concatenate accelerometer and gyroscope features\n",
        "features = np.concatenate([acc_features, gyro_features], axis=1)"
      ],
      "metadata": {
        "id": "7bATKWWysXAx"
      },
      "execution_count": null,
      "outputs": []
    },
    {
      "cell_type": "code",
      "source": [
        "features"
      ],
      "metadata": {
        "colab": {
          "base_uri": "https://localhost:8080/"
        },
        "id": "IzF18hVCtObN",
        "outputId": "3903f09f-2901-49a2-c8e0-f54fd23b869d"
      },
      "execution_count": null,
      "outputs": [
        {
          "output_type": "execute_result",
          "data": {
            "text/plain": [
              "array([[ 0.32840983,  0.46974154,  1.11169434, ..., 13.01547207,\n",
              "         0.54441885, -1.5       ],\n",
              "       [ 0.33695475,  0.47853898,  1.13879394, ...,  9.86326431,\n",
              "         0.59937443, -1.5       ],\n",
              "       [ 0.33589681,  0.47852696,  1.13903809, ...,  7.74330226,\n",
              "         0.32199616, -1.5       ],\n",
              "       ...,\n",
              "       [-0.325236  ,  0.39784353,  0.94970703, ..., 42.87408559,\n",
              "        -0.51243437, -1.5       ],\n",
              "       [-0.33528646,  0.41857014,  0.99389649, ..., 37.60264638,\n",
              "        -0.18429549, -1.5       ],\n",
              "       [-0.33569336,  0.43961482,  1.02880859, ..., 36.77338206,\n",
              "        -0.25090006, -1.5       ]])"
            ]
          },
          "metadata": {},
          "execution_count": 20
        }
      ]
    },
    {
      "cell_type": "code",
      "source": [
        "from sklearn.model_selection import train_test_split\n",
        "from sklearn.preprocessing import StandardScaler\n",
        "from sklearn.svm import SVC\n",
        "from sklearn.ensemble import RandomForestClassifier"
      ],
      "metadata": {
        "id": "ogMeg2mQthzo"
      },
      "execution_count": null,
      "outputs": []
    },
    {
      "cell_type": "code",
      "source": [
        "labels=df['Class']"
      ],
      "metadata": {
        "id": "N2iM-4d5uRHo"
      },
      "execution_count": null,
      "outputs": []
    },
    {
      "cell_type": "code",
      "source": [
        "# split data into training and testing sets\n",
        "X_train, X_test, y_train, y_test = train_test_split(features, labels, test_size=0.15, random_state=42)\n"
      ],
      "metadata": {
        "id": "xcnGEZ0rtfHi"
      },
      "execution_count": null,
      "outputs": []
    },
    {
      "cell_type": "code",
      "source": [
        "# standardize features\n",
        "scaler = StandardScaler()\n",
        "X_train = scaler.fit_transform(X_train)\n",
        "X_test = scaler.transform(X_test)\n"
      ],
      "metadata": {
        "id": "12orm47LugHM"
      },
      "execution_count": null,
      "outputs": []
    },
    {
      "cell_type": "code",
      "source": [
        "# train and test support vector machine classifier\n",
        "svm = SVC(kernel='rbf', C=1, gamma='auto')\n",
        "svm.fit(X_train, y_train)\n",
        "svm_acc = svm.score(X_test, y_test)"
      ],
      "metadata": {
        "id": "2ZA1rVLlumvN"
      },
      "execution_count": null,
      "outputs": []
    },
    {
      "cell_type": "code",
      "source": [
        "# train and test random forest classifier\n",
        "rf = RandomForestClassifier(n_estimators=100, random_state=42)\n",
        "rf.fit(X_train, y_train)\n",
        "rf_acc = rf.score(X_test, y_test)"
      ],
      "metadata": {
        "id": "BfdGi9Bkupt9"
      },
      "execution_count": null,
      "outputs": []
    },
    {
      "cell_type": "code",
      "source": [
        "print('SVM accuracy: {:.3f}'.format(svm_acc))\n",
        "print('Random forest accuracy: {:.3f}'.format(rf_acc))"
      ],
      "metadata": {
        "colab": {
          "base_uri": "https://localhost:8080/"
        },
        "id": "iBmZgWr1uy2h",
        "outputId": "60a2d556-a4de-4a24-a0b2-5cb74fa97c06"
      },
      "execution_count": null,
      "outputs": [
        {
          "output_type": "stream",
          "name": "stdout",
          "text": [
            "SVM accuracy: 0.748\n",
            "Random forest accuracy: 0.820\n"
          ]
        }
      ]
    },
    {
      "cell_type": "code",
      "execution_count": null,
      "metadata": {
        "id": "Ce14Vf08FoBm"
      },
      "outputs": [],
      "source": [
        "#more library for import\n",
        "from sklearn.metrics import classification_report\n",
        "from sklearn.metrics import precision_recall_fscore_support as score\n",
        "from sklearn.metrics import roc_auc_score\n",
        "from sklearn.metrics import accuracy_score\n",
        "from sklearn.preprocessing import label_binarize"
      ]
    },
    {
      "cell_type": "code",
      "execution_count": null,
      "metadata": {
        "id": "Yo5KNSfkLDe_"
      },
      "outputs": [],
      "source": [
        "from sklearn.preprocessing import StandardScaler\n",
        "s = StandardScaler()"
      ]
    },
    {
      "cell_type": "code",
      "execution_count": null,
      "metadata": {
        "id": "fXWmQ0KeLFlp"
      },
      "outputs": [],
      "source": [
        "X_train_s = s.fit_transform(X_train)\n",
        "X_test_s = s.transform(X_test)"
      ]
    },
    {
      "cell_type": "code",
      "execution_count": null,
      "metadata": {
        "id": "x6aHqK1jLddv"
      },
      "outputs": [],
      "source": [
        "import seaborn as sns\n",
        "sns.set(font_scale = 1.5)\n",
        "def conf_matrix(y_true, y_preds):\n",
        "    fig, ax = plt.subplots(figsize = (5,5))\n",
        "    ax = sns.heatmap(\n",
        "        confusion_matrix(y_true,y_preds),\n",
        "        annot=True,\n",
        "        cbar = False,\n",
        "        fmt = 'g'\n",
        "    )\n",
        "    plt.xlabel('Predicted Label')\n",
        "    plt.ylabel('True Label')"
      ]
    },
    {
      "cell_type": "code",
      "execution_count": null,
      "metadata": {
        "id": "kIrcLZTQLfxI"
      },
      "outputs": [],
      "source": [
        "from sklearn.metrics import confusion_matrix"
      ]
    },
    {
      "cell_type": "markdown",
      "metadata": {
        "id": "iCvJXAxfGFPN"
      },
      "source": [
        "**Model 2: GradientBoostingClassifier**"
      ]
    },
    {
      "cell_type": "code",
      "execution_count": null,
      "metadata": {
        "id": "OUvX5v_OLhxw",
        "colab": {
          "base_uri": "https://localhost:8080/",
          "height": 74
        },
        "outputId": "90d08330-61af-4f13-b63b-38eadab4d32c"
      },
      "outputs": [
        {
          "output_type": "execute_result",
          "data": {
            "text/plain": [
              "GradientBoostingClassifier()"
            ],
            "text/html": [
              "<style>#sk-container-id-1 {color: black;background-color: white;}#sk-container-id-1 pre{padding: 0;}#sk-container-id-1 div.sk-toggleable {background-color: white;}#sk-container-id-1 label.sk-toggleable__label {cursor: pointer;display: block;width: 100%;margin-bottom: 0;padding: 0.3em;box-sizing: border-box;text-align: center;}#sk-container-id-1 label.sk-toggleable__label-arrow:before {content: \"▸\";float: left;margin-right: 0.25em;color: #696969;}#sk-container-id-1 label.sk-toggleable__label-arrow:hover:before {color: black;}#sk-container-id-1 div.sk-estimator:hover label.sk-toggleable__label-arrow:before {color: black;}#sk-container-id-1 div.sk-toggleable__content {max-height: 0;max-width: 0;overflow: hidden;text-align: left;background-color: #f0f8ff;}#sk-container-id-1 div.sk-toggleable__content pre {margin: 0.2em;color: black;border-radius: 0.25em;background-color: #f0f8ff;}#sk-container-id-1 input.sk-toggleable__control:checked~div.sk-toggleable__content {max-height: 200px;max-width: 100%;overflow: auto;}#sk-container-id-1 input.sk-toggleable__control:checked~label.sk-toggleable__label-arrow:before {content: \"▾\";}#sk-container-id-1 div.sk-estimator input.sk-toggleable__control:checked~label.sk-toggleable__label {background-color: #d4ebff;}#sk-container-id-1 div.sk-label input.sk-toggleable__control:checked~label.sk-toggleable__label {background-color: #d4ebff;}#sk-container-id-1 input.sk-hidden--visually {border: 0;clip: rect(1px 1px 1px 1px);clip: rect(1px, 1px, 1px, 1px);height: 1px;margin: -1px;overflow: hidden;padding: 0;position: absolute;width: 1px;}#sk-container-id-1 div.sk-estimator {font-family: monospace;background-color: #f0f8ff;border: 1px dotted black;border-radius: 0.25em;box-sizing: border-box;margin-bottom: 0.5em;}#sk-container-id-1 div.sk-estimator:hover {background-color: #d4ebff;}#sk-container-id-1 div.sk-parallel-item::after {content: \"\";width: 100%;border-bottom: 1px solid gray;flex-grow: 1;}#sk-container-id-1 div.sk-label:hover label.sk-toggleable__label {background-color: #d4ebff;}#sk-container-id-1 div.sk-serial::before {content: \"\";position: absolute;border-left: 1px solid gray;box-sizing: border-box;top: 0;bottom: 0;left: 50%;z-index: 0;}#sk-container-id-1 div.sk-serial {display: flex;flex-direction: column;align-items: center;background-color: white;padding-right: 0.2em;padding-left: 0.2em;position: relative;}#sk-container-id-1 div.sk-item {position: relative;z-index: 1;}#sk-container-id-1 div.sk-parallel {display: flex;align-items: stretch;justify-content: center;background-color: white;position: relative;}#sk-container-id-1 div.sk-item::before, #sk-container-id-1 div.sk-parallel-item::before {content: \"\";position: absolute;border-left: 1px solid gray;box-sizing: border-box;top: 0;bottom: 0;left: 50%;z-index: -1;}#sk-container-id-1 div.sk-parallel-item {display: flex;flex-direction: column;z-index: 1;position: relative;background-color: white;}#sk-container-id-1 div.sk-parallel-item:first-child::after {align-self: flex-end;width: 50%;}#sk-container-id-1 div.sk-parallel-item:last-child::after {align-self: flex-start;width: 50%;}#sk-container-id-1 div.sk-parallel-item:only-child::after {width: 0;}#sk-container-id-1 div.sk-dashed-wrapped {border: 1px dashed gray;margin: 0 0.4em 0.5em 0.4em;box-sizing: border-box;padding-bottom: 0.4em;background-color: white;}#sk-container-id-1 div.sk-label label {font-family: monospace;font-weight: bold;display: inline-block;line-height: 1.2em;}#sk-container-id-1 div.sk-label-container {text-align: center;}#sk-container-id-1 div.sk-container {/* jupyter's `normalize.less` sets `[hidden] { display: none; }` but bootstrap.min.css set `[hidden] { display: none !important; }` so we also need the `!important` here to be able to override the default hidden behavior on the sphinx rendered scikit-learn.org. See: https://github.com/scikit-learn/scikit-learn/issues/21755 */display: inline-block !important;position: relative;}#sk-container-id-1 div.sk-text-repr-fallback {display: none;}</style><div id=\"sk-container-id-1\" class=\"sk-top-container\"><div class=\"sk-text-repr-fallback\"><pre>GradientBoostingClassifier()</pre><b>In a Jupyter environment, please rerun this cell to show the HTML representation or trust the notebook. <br />On GitHub, the HTML representation is unable to render, please try loading this page with nbviewer.org.</b></div><div class=\"sk-container\" hidden><div class=\"sk-item\"><div class=\"sk-estimator sk-toggleable\"><input class=\"sk-toggleable__control sk-hidden--visually\" id=\"sk-estimator-id-1\" type=\"checkbox\" checked><label for=\"sk-estimator-id-1\" class=\"sk-toggleable__label sk-toggleable__label-arrow\">GradientBoostingClassifier</label><div class=\"sk-toggleable__content\"><pre>GradientBoostingClassifier()</pre></div></div></div></div></div>"
            ]
          },
          "metadata": {},
          "execution_count": 33
        }
      ],
      "source": [
        "from sklearn.ensemble import GradientBoostingClassifier, AdaBoostClassifier, ExtraTreesClassifier, VotingClassifier\n",
        "#from xgboost import XGBClassifier\n",
        "\n",
        "grad_model = GradientBoostingClassifier()\n",
        "grad_model.fit(X_train_s,y_train)"
      ]
    },
    {
      "cell_type": "code",
      "execution_count": null,
      "metadata": {
        "id": "qgdj6L0NLmgv",
        "colab": {
          "base_uri": "https://localhost:8080/"
        },
        "outputId": "2b8e16c1-0828-4a5e-c490-9ada7309c750"
      },
      "outputs": [
        {
          "output_type": "execute_result",
          "data": {
            "text/plain": [
              "0.775290066743909"
            ]
          },
          "metadata": {},
          "execution_count": 34
        }
      ],
      "source": [
        "grad_model.score(X_train_s,y_train)"
      ]
    },
    {
      "cell_type": "code",
      "execution_count": null,
      "metadata": {
        "id": "o4Cm7-eZLqkA",
        "colab": {
          "base_uri": "https://localhost:8080/"
        },
        "outputId": "75e72f2d-d51e-44a1-e7ae-20e86d447fac"
      },
      "outputs": [
        {
          "output_type": "stream",
          "name": "stdout",
          "text": [
            "                precision    recall  f1-score   support\n",
            "\n",
            "        Eating       0.73      0.75      0.74      1407\n",
            "Speak and Walk       0.70      0.78      0.74      2826\n",
            "      Speaking       0.73      0.76      0.74      1996\n",
            "       Staying       0.94      0.94      0.94      2429\n",
            "       Walking       0.72      0.57      0.63      2157\n",
            "\n",
            "      accuracy                           0.77     10815\n",
            "     macro avg       0.76      0.76      0.76     10815\n",
            "  weighted avg       0.77      0.77      0.76     10815\n",
            "\n"
          ]
        }
      ],
      "source": [
        "y_pred_grad = grad_model.predict(X_test_s)\n",
        "print(classification_report(y_test, y_pred_grad))"
      ]
    },
    {
      "cell_type": "code",
      "execution_count": null,
      "metadata": {
        "colab": {
          "base_uri": "https://localhost:8080/",
          "height": 487
        },
        "id": "1cQQeDZqL7QA",
        "outputId": "6c7f1f5e-5c4c-4467-ccfd-88f425fe2012"
      },
      "outputs": [
        {
          "output_type": "display_data",
          "data": {
            "text/plain": [
              "<Figure size 500x500 with 1 Axes>"
            ],
            "image/png": "[encoded data removed]"
          },
          "metadata": {}
        }
      ],
      "source": [
        "conf_matrix(y_test, y_pred_grad)"
      ]
    },
    {
      "cell_type": "markdown",
      "metadata": {
        "id": "nXjzGmdiGMYk"
      },
      "source": [
        "**Model 3: AdaBoostClassifier**"
      ]
    },
    {
      "cell_type": "code",
      "execution_count": null,
      "metadata": {
        "colab": {
          "base_uri": "https://localhost:8080/",
          "height": 75
        },
        "id": "1gDPPnUsL_jO",
        "outputId": "88747d62-562f-483c-f3d5-e98945d9e7b5"
      },
      "outputs": [
        {
          "output_type": "execute_result",
          "data": {
            "text/plain": [
              "AdaBoostClassifier()"
            ],
            "text/html": [
              "<style>#sk-container-id-2 {color: black;background-color: white;}#sk-container-id-2 pre{padding: 0;}#sk-container-id-2 div.sk-toggleable {background-color: white;}#sk-container-id-2 label.sk-toggleable__label {cursor: pointer;display: block;width: 100%;margin-bottom: 0;padding: 0.3em;box-sizing: border-box;text-align: center;}#sk-container-id-2 label.sk-toggleable__label-arrow:before {content: \"▸\";float: left;margin-right: 0.25em;color: #696969;}#sk-container-id-2 label.sk-toggleable__label-arrow:hover:before {color: black;}#sk-container-id-2 div.sk-estimator:hover label.sk-toggleable__label-arrow:before {color: black;}#sk-container-id-2 div.sk-toggleable__content {max-height: 0;max-width: 0;overflow: hidden;text-align: left;background-color: #f0f8ff;}#sk-container-id-2 div.sk-toggleable__content pre {margin: 0.2em;color: black;border-radius: 0.25em;background-color: #f0f8ff;}#sk-container-id-2 input.sk-toggleable__control:checked~div.sk-toggleable__content {max-height: 200px;max-width: 100%;overflow: auto;}#sk-container-id-2 input.sk-toggleable__control:checked~label.sk-toggleable__label-arrow:before {content: \"▾\";}#sk-container-id-2 div.sk-estimator input.sk-toggleable__control:checked~label.sk-toggleable__label {background-color: #d4ebff;}#sk-container-id-2 div.sk-label input.sk-toggleable__control:checked~label.sk-toggleable__label {background-color: #d4ebff;}#sk-container-id-2 input.sk-hidden--visually {border: 0;clip: rect(1px 1px 1px 1px);clip: rect(1px, 1px, 1px, 1px);height: 1px;margin: -1px;overflow: hidden;padding: 0;position: absolute;width: 1px;}#sk-container-id-2 div.sk-estimator {font-family: monospace;background-color: #f0f8ff;border: 1px dotted black;border-radius: 0.25em;box-sizing: border-box;margin-bottom: 0.5em;}#sk-container-id-2 div.sk-estimator:hover {background-color: #d4ebff;}#sk-container-id-2 div.sk-parallel-item::after {content: \"\";width: 100%;border-bottom: 1px solid gray;flex-grow: 1;}#sk-container-id-2 div.sk-label:hover label.sk-toggleable__label {background-color: #d4ebff;}#sk-container-id-2 div.sk-serial::before {content: \"\";position: absolute;border-left: 1px solid gray;box-sizing: border-box;top: 0;bottom: 0;left: 50%;z-index: 0;}#sk-container-id-2 div.sk-serial {display: flex;flex-direction: column;align-items: center;background-color: white;padding-right: 0.2em;padding-left: 0.2em;position: relative;}#sk-container-id-2 div.sk-item {position: relative;z-index: 1;}#sk-container-id-2 div.sk-parallel {display: flex;align-items: stretch;justify-content: center;background-color: white;position: relative;}#sk-container-id-2 div.sk-item::before, #sk-container-id-2 div.sk-parallel-item::before {content: \"\";position: absolute;border-left: 1px solid gray;box-sizing: border-box;top: 0;bottom: 0;left: 50%;z-index: -1;}#sk-container-id-2 div.sk-parallel-item {display: flex;flex-direction: column;z-index: 1;position: relative;background-color: white;}#sk-container-id-2 div.sk-parallel-item:first-child::after {align-self: flex-end;width: 50%;}#sk-container-id-2 div.sk-parallel-item:last-child::after {align-self: flex-start;width: 50%;}#sk-container-id-2 div.sk-parallel-item:only-child::after {width: 0;}#sk-container-id-2 div.sk-dashed-wrapped {border: 1px dashed gray;margin: 0 0.4em 0.5em 0.4em;box-sizing: border-box;padding-bottom: 0.4em;background-color: white;}#sk-container-id-2 div.sk-label label {font-family: monospace;font-weight: bold;display: inline-block;line-height: 1.2em;}#sk-container-id-2 div.sk-label-container {text-align: center;}#sk-container-id-2 div.sk-container {/* jupyter's `normalize.less` sets `[hidden] { display: none; }` but bootstrap.min.css set `[hidden] { display: none !important; }` so we also need the `!important` here to be able to override the default hidden behavior on the sphinx rendered scikit-learn.org. See: https://github.com/scikit-learn/scikit-learn/issues/21755 */display: inline-block !important;position: relative;}#sk-container-id-2 div.sk-text-repr-fallback {display: none;}</style><div id=\"sk-container-id-2\" class=\"sk-top-container\"><div class=\"sk-text-repr-fallback\"><pre>AdaBoostClassifier()</pre><b>In a Jupyter environment, please rerun this cell to show the HTML representation or trust the notebook. <br />On GitHub, the HTML representation is unable to render, please try loading this page with nbviewer.org.</b></div><div class=\"sk-container\" hidden><div class=\"sk-item\"><div class=\"sk-estimator sk-toggleable\"><input class=\"sk-toggleable__control sk-hidden--visually\" id=\"sk-estimator-id-2\" type=\"checkbox\" checked><label for=\"sk-estimator-id-2\" class=\"sk-toggleable__label sk-toggleable__label-arrow\">AdaBoostClassifier</label><div class=\"sk-toggleable__content\"><pre>AdaBoostClassifier()</pre></div></div></div></div></div>"
            ]
          },
          "metadata": {},
          "execution_count": 38
        }
      ],
      "source": [
        "from sklearn.ensemble import AdaBoostClassifier\n",
        "\n",
        "ada = AdaBoostClassifier()\n",
        "ada.fit(X_train_s,y_train)"
      ]
    },
    {
      "cell_type": "code",
      "execution_count": null,
      "metadata": {
        "colab": {
          "base_uri": "https://localhost:8080/"
        },
        "id": "PBhjifw9MB2I",
        "outputId": "5a905f71-83d5-4714-bc2e-774b1e2bc2bb"
      },
      "outputs": [
        {
          "output_type": "execute_result",
          "data": {
            "text/plain": [
              "0.5822059759460827"
            ]
          },
          "metadata": {},
          "execution_count": 39
        }
      ],
      "source": [
        "ada.score(X_train_s,y_train)"
      ]
    },
    {
      "cell_type": "code",
      "execution_count": null,
      "metadata": {
        "colab": {
          "base_uri": "https://localhost:8080/"
        },
        "id": "WIRRQLwKMF-f",
        "outputId": "0fd27173-bbc8-43b2-dfde-94c4aa69ce55"
      },
      "outputs": [
        {
          "output_type": "stream",
          "name": "stdout",
          "text": [
            "                precision    recall  f1-score   support\n",
            "\n",
            "        Eating       0.56      0.57      0.57      1407\n",
            "Speak and Walk       0.57      0.61      0.59      2826\n",
            "      Speaking       0.49      0.72      0.58      1996\n",
            "       Staying       0.85      0.62      0.72      2429\n",
            "       Walking       0.50      0.38      0.43      2157\n",
            "\n",
            "      accuracy                           0.58     10815\n",
            "     macro avg       0.59      0.58      0.58     10815\n",
            "  weighted avg       0.60      0.58      0.58     10815\n",
            "\n"
          ]
        }
      ],
      "source": [
        "y_pred_ada = ada.predict(X_test_s)\n",
        "print(classification_report(y_test, y_pred_ada))"
      ]
    },
    {
      "cell_type": "code",
      "execution_count": null,
      "metadata": {
        "colab": {
          "base_uri": "https://localhost:8080/",
          "height": 487
        },
        "id": "qd7maxjsMI3D",
        "outputId": "6ecee956-d289-4e6c-d728-f2c278d51d9b"
      },
      "outputs": [
        {
          "output_type": "display_data",
          "data": {
            "text/plain": [
              "<Figure size 500x500 with 1 Axes>"
            ],
            "image/png": "[encoded data removed]"
          },
          "metadata": {}
        }
      ],
      "source": [
        "conf_matrix(y_test, y_pred_ada)"
      ]
    },
    {
      "cell_type": "markdown",
      "metadata": {
        "id": "KpkzcMr1GTs-"
      },
      "source": [
        "**Model 4: KNeighborsClassifier**"
      ]
    },
    {
      "cell_type": "code",
      "execution_count": null,
      "metadata": {
        "id": "43XaEcUV_8Z0"
      },
      "outputs": [],
      "source": [
        "from sklearn.neighbors import KNeighborsClassifier"
      ]
    },
    {
      "cell_type": "code",
      "execution_count": null,
      "metadata": {
        "id": "uMYEbXpbAS4w"
      },
      "outputs": [],
      "source": [
        "neighbors_settings=range(1,26) #KNN 25 times\n",
        "for n_neighbors in neighbors_settings:\n",
        "  knn=KNeighborsClassifier(n_neighbors=n_neighbors)\n",
        "  knn.fit(X_train_s,y_train)"
      ]
    },
    {
      "cell_type": "code",
      "execution_count": null,
      "metadata": {
        "colab": {
          "base_uri": "https://localhost:8080/"
        },
        "id": "ETo30QbMAVKn",
        "outputId": "826a2f66-a1c4-467a-9a6d-13f3feda4336"
      },
      "outputs": [
        {
          "output_type": "execute_result",
          "data": {
            "text/plain": [
              "0.7505670784444916"
            ]
          },
          "metadata": {},
          "execution_count": 44
        }
      ],
      "source": [
        "knn.score(X_train_s,y_train)"
      ]
    },
    {
      "cell_type": "code",
      "execution_count": null,
      "metadata": {
        "colab": {
          "base_uri": "https://localhost:8080/"
        },
        "id": "V48cSwL0AXYW",
        "outputId": "9d432ea5-650f-4da7-b909-e11c6d050951"
      },
      "outputs": [
        {
          "output_type": "stream",
          "name": "stdout",
          "text": [
            "                precision    recall  f1-score   support\n",
            "\n",
            "        Eating       0.64      0.70      0.67      1407\n",
            "Speak and Walk       0.74      0.70      0.72      2826\n",
            "      Speaking       0.68      0.71      0.69      1996\n",
            "       Staying       0.83      0.94      0.88      2429\n",
            "       Walking       0.72      0.58      0.64      2157\n",
            "\n",
            "      accuracy                           0.73     10815\n",
            "     macro avg       0.72      0.73      0.72     10815\n",
            "  weighted avg       0.73      0.73      0.73     10815\n",
            "\n"
          ]
        }
      ],
      "source": [
        "y_pred_knn = knn.predict(X_test_s)\n",
        "print(classification_report(y_test, y_pred_knn))"
      ]
    },
    {
      "cell_type": "code",
      "execution_count": null,
      "metadata": {
        "colab": {
          "base_uri": "https://localhost:8080/",
          "height": 487
        },
        "id": "O8QIEFPbAZ6R",
        "outputId": "8b0e6fce-0239-4819-c8e2-8f03a9eef1ba"
      },
      "outputs": [
        {
          "output_type": "display_data",
          "data": {
            "text/plain": [
              "<Figure size 500x500 with 1 Axes>"
            ],
            "image/png": "[encoded data removed]"
          },
          "metadata": {}
        }
      ],
      "source": [
        "conf_matrix(y_test, y_pred_knn)"
      ]
    },
    {
      "cell_type": "code",
      "execution_count": null,
      "metadata": {
        "id": "Jxjglbg-AcJB"
      },
      "outputs": [],
      "source": [
        "from sklearn.ensemble import GradientBoostingClassifier, AdaBoostClassifier, ExtraTreesClassifier, VotingClassifier\n",
        "#from xgboost import XGBClassifier"
      ]
    },
    {
      "cell_type": "markdown",
      "metadata": {
        "id": "6Dj52ymCGdKi"
      },
      "source": [
        "Model 5: VotingClassifier"
      ]
    },
    {
      "cell_type": "code",
      "execution_count": null,
      "metadata": {
        "id": "-X-z-QpdAhPZ"
      },
      "outputs": [],
      "source": [
        "from xgboost import XGBClassifier\n",
        "from sklearn.neural_network import MLPClassifier\n",
        "from sklearn.model_selection import GridSearchCV"
      ]
    },
    {
      "cell_type": "code",
      "execution_count": null,
      "metadata": {
        "id": "9mbmWMhZOzOG"
      },
      "outputs": [],
      "source": [
        "from sklearn.ensemble import RandomForestClassifier, VotingClassifier"
      ]
    },
    {
      "cell_type": "code",
      "execution_count": null,
      "metadata": {
        "id": "p3RCEpaSPV3a"
      },
      "outputs": [],
      "source": [
        "from sklearn.linear_model import LogisticRegression\n",
        "from sklearn.naive_bayes import GaussianNB"
      ]
    },
    {
      "cell_type": "code",
      "execution_count": null,
      "metadata": {
        "id": "FW_FRfdnO0O2"
      },
      "outputs": [],
      "source": [
        "clf1 = LogisticRegression(multi_class='multinomial', random_state=1)\n",
        "clf2 = RandomForestClassifier(n_estimators=50, random_state=1)\n",
        "clf3 = GaussianNB()"
      ]
    },
    {
      "cell_type": "code",
      "execution_count": null,
      "metadata": {
        "id": "4ObTLk1TPaZy"
      },
      "outputs": [],
      "source": [
        "eclf1 = VotingClassifier(estimators=[('lr', clf1), ('rf', clf2), ('gnb', clf3)], voting='hard')\n",
        "eclf1 = eclf1.fit(X_train_s,y_train)"
      ]
    },
    {
      "cell_type": "code",
      "execution_count": null,
      "metadata": {
        "colab": {
          "base_uri": "https://localhost:8080/"
        },
        "id": "IVO0oyFhPo9b",
        "outputId": "79e65107-d710-44e0-d05a-cc67d0a20d30"
      },
      "outputs": [
        {
          "output_type": "stream",
          "name": "stdout",
          "text": [
            "                precision    recall  f1-score   support\n",
            "\n",
            "        Eating       0.57      0.84      0.68      1407\n",
            "Speak and Walk       0.68      0.69      0.69      2826\n",
            "      Speaking       0.66      0.59      0.62      1996\n",
            "       Staying       0.90      0.96      0.93      2429\n",
            "       Walking       0.68      0.47      0.55      2157\n",
            "\n",
            "      accuracy                           0.71     10815\n",
            "     macro avg       0.70      0.71      0.69     10815\n",
            "  weighted avg       0.71      0.71      0.70     10815\n",
            "\n"
          ]
        }
      ],
      "source": [
        "y_pred_eclf1 = eclf1.predict(X_test_s)\n",
        "print(classification_report(y_test, y_pred_eclf1))"
      ]
    },
    {
      "cell_type": "code",
      "execution_count": null,
      "metadata": {
        "colab": {
          "base_uri": "https://localhost:8080/",
          "height": 487
        },
        "id": "dlqBI1DSPo9b",
        "outputId": "5ab2477d-7f3c-45ef-a8f3-cb61d8c65ee1"
      },
      "outputs": [
        {
          "output_type": "display_data",
          "data": {
            "text/plain": [
              "<Figure size 500x500 with 1 Axes>"
            ],
            "image/png": "[encoded data removed]"
          },
          "metadata": {}
        }
      ],
      "source": [
        "conf_matrix(y_test, y_pred_eclf1)"
      ]
    }
  ]
}