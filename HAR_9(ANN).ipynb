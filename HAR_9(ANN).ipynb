{
  "nbformat": 4,
  "nbformat_minor": 0,
  "metadata": {
    "colab": {
      "provenance": []
    },
    "kernelspec": {
      "name": "python3",
      "display_name": "Python 3"
    },
    "language_info": {
      "name": "python"
    },
    "accelerator": "GPU",
    "gpuClass": "standard"
  },
  "cells": [
    {
      "cell_type": "code",
      "execution_count": 1,
      "metadata": {
        "id": "A35ra1YK3_jS"
      },
      "outputs": [],
      "source": [
        "import pandas as pd\n",
        "import numpy as np\n",
        "from sklearn.model_selection import train_test_split\n",
        "from sklearn.preprocessing import LabelEncoder as LE\n",
        "from sklearn.metrics import classification_report, confusion_matrix\n",
        "#from sklearn.metrics import plot_confusion_matrix\n",
        "\n",
        "from matplotlib import pyplot\n",
        "from keras.models import Sequential\n",
        "from keras.layers import Dense\n",
        "from keras.layers import Flatten\n",
        "from keras.layers import Dropout\n",
        "from tensorflow.keras.layers import Conv1D\n",
        "from tensorflow.keras.layers import MaxPooling1D\n",
        "#from keras.layers.convolutional import MaxPooling1D\n",
        "from tensorflow.keras.models import Sequential\n",
        "from tensorflow.keras.layers import Dense\n",
        "from tensorflow.keras.layers import Flatten\n",
        "from tensorflow.keras.layers import Dropout\n",
        "from tensorflow.keras.layers import Conv1D\n",
        "from tensorflow.keras.layers import MaxPooling1D\n",
        "from tensorflow.keras.utils import to_categorical\n",
        "#from tensorflow.keras.utils import to_categorical\n",
        "import tensorflow as tf\n",
        "\n",
        "\n",
        "import matplotlib.pyplot as plt\n",
        "import seaborn as sns"
      ]
    },
    {
      "cell_type": "code",
      "source": [
        "from google.colab import drive\n",
        "drive.mount('/content/drive')"
      ],
      "metadata": {
        "id": "CavHc4IR_ahu",
        "colab": {
          "base_uri": "https://localhost:8080/"
        },
        "outputId": "93312346-fae4-4edc-cbba-24a431cc12de"
      },
      "execution_count": 2,
      "outputs": [
        {
          "output_type": "stream",
          "name": "stdout",
          "text": [
            "Mounted at /content/drive\n"
          ]
        }
      ]
    },
    {
      "cell_type": "code",
      "source": [
        "import pandas as pd\n",
        "import numpy as np\n",
        "import math\n",
        "import time\n",
        "import sys\n",
        "import pickle\n",
        "import os\n",
        "\n",
        "#import operator\n",
        "from sklearn.preprocessing import StandardScaler\n",
        "\n",
        "from sklearn.discriminant_analysis import LinearDiscriminantAnalysis  #PCA, LDA, ICA - dimension reduction, sub-space method... classifier er motoi use kora jay\n",
        "from sklearn.svm import SVC\n",
        "from sklearn.ensemble import RandomForestClassifier\n",
        "from sklearn.neighbors import KNeighborsClassifier\n",
        "\n",
        "from sklearn.model_selection import train_test_split\n",
        "from sklearn.metrics import confusion_matrix"
      ],
      "metadata": {
        "id": "gj1_v7NyqHQB"
      },
      "execution_count": 3,
      "outputs": []
    },
    {
      "cell_type": "code",
      "source": [
        "from scipy.stats import kurtosis\n",
        "from scipy.stats import skew\n",
        "from scipy import stats\n",
        "from scipy.stats import iqr\n",
        "from scipy.stats import entropy"
      ],
      "metadata": {
        "id": "tGQ6Y6J-qLd0"
      },
      "execution_count": 4,
      "outputs": []
    },
    {
      "cell_type": "markdown",
      "source": [
        "Accuracy formula"
      ],
      "metadata": {
        "id": "mKjN802u5BPe"
      }
    },
    {
      "cell_type": "code",
      "source": [
        "# user define function for accuracy\n",
        "def getAccuracy(testSet, predictions):\n",
        "\tcorrect = 0\n",
        "\tfor x in range(len(testSet)):\n",
        "\t\tif testSet[x] == predictions[x]:\n",
        "\t\t\tcorrect += 1\n",
        "\treturn (correct/float(len(testSet))) * 100.0"
      ],
      "metadata": {
        "id": "7BeFvC3AqPY4"
      },
      "execution_count": 5,
      "outputs": []
    },
    {
      "cell_type": "code",
      "source": [
        "data=pd.read_csv('/content/drive/MyDrive/NSU/HAR/AllData.csv')"
      ],
      "metadata": {
        "id": "W8e-HGUgQ0Vh"
      },
      "execution_count": 6,
      "outputs": []
    },
    {
      "cell_type": "code",
      "source": [
        "data=data.drop(['Time', 'Person'],axis=1)"
      ],
      "metadata": {
        "id": "vKekea8aHck1"
      },
      "execution_count": 7,
      "outputs": []
    },
    {
      "cell_type": "markdown",
      "source": [
        "null_percentage(column): This function calculates and prints the percentage and count of missing values in a given column of a DataFrame. Here's how the function works:\n",
        "\n",
        "column.name retrieves the name of the column.\n",
        "np.count_nonzero(column.isnull().values) counts the number of non-zero (missing) values in the column.\n",
        "column.size gets the total number of elements in the column.\n",
        "The fraction of missing values is calculated as nans / total.\n",
        "The fraction is multiplied by 100 and cast to an integer to obtain the percentage.\n",
        "The percentage and count of missing values, along with the column name, are printed.\n",
        "check_nan(df): This function iterates through all the columns of a DataFrame and applies the null_percentage() function to each column. It provides an overview of missing values in the DataFrame by calling the null_percentage() function for each column.\n",
        "\n",
        "Additionally, there is a third function make_confusion_matrix(cf, ...), which appears to be a modified version of a function that creates a heatmap visualization of a confusion matrix. However, it seems that there are some unresolved issues or missing parts in the code, as there are commented lines that suggest saving the plot to a file using plt.savefig(), but the filename and dpi are not specified.\n",
        "\n"
      ],
      "metadata": {
        "id": "Z-kzCuQA5UBJ"
      }
    },
    {
      "cell_type": "code",
      "source": [
        "def null_percentage(column):\n",
        "    df_name = column.name\n",
        "    nans = np.count_nonzero(column.isnull().values)\n",
        "    total = column.size\n",
        "    frac = nans / total\n",
        "    perc = int(frac * 100)\n",
        "    print('%d%% or %d missing values from [ %s ] column.' % (perc, nans, df_name))\n",
        "\n",
        "def check_nan(df):\n",
        "    columns = df.columns\n",
        "    for col in columns: null_percentage(df[col])\n",
        "\n",
        "def make_confusion_matrix(cf,\n",
        "                          group_names=None,\n",
        "                          categories='auto',\n",
        "                          count=True,\n",
        "                          percent=True,\n",
        "                          cbar=True,\n",
        "                          xyticks=True,\n",
        "                          xyplotlabels=True,\n",
        "                          sum_stats=True,\n",
        "                          figsize=None,\n",
        "                          cmap='Blues',\n",
        "                          title=None):\n",
        "\n",
        "    # CODE TO GENERATE TEXT INSIDE EACH SQUARE\n",
        "    blanks = ['' for i in range(cf.size)]\n",
        "\n",
        "    if group_names and len(group_names)==cf.size:\n",
        "        group_labels = [\"{}\\n\".format(value) for value in group_names]\n",
        "    else:\n",
        "        group_labels = blanks\n",
        "    if count:\n",
        "        group_counts = [\"{0:0.0f}\\n\".format(value) for value in cf.flatten()]\n",
        "    else:\n",
        "        group_counts = blanks\n",
        "    if percent:\n",
        "        # group_percentages = [\"{0:.2%}\".format(value) for value in cf.flatten()/np.sum(cf)]\n",
        "        group_percentages = [\"{0:.2%}\".format(value) for value in np.array([cf/np.sum(cf) for cf in conf_mat]).flatten()]\n",
        "\n",
        "    else:\n",
        "        group_percentages = blanks\n",
        "\n",
        "    box_labels = [f\"{v1}{v2}{v3}\".strip() for v1, v2, v3 in zip(group_labels,group_counts,group_percentages)]\n",
        "    box_labels = np.asarray(box_labels).reshape(cf.shape[0],cf.shape[1])\n",
        "    # CODE TO GENERATE SUMMARY STATISTICS & TEXT FOR SUMMARY STATS\n",
        "    if sum_stats:\n",
        "        #Accuracy is sum of diagonal divided by total observations\n",
        "        accuracy  = np.trace(cf) / float(np.sum(cf))\n",
        "        #if it is a binary confusion matrix, show some more stats\n",
        "        if len(cf)==2:\n",
        "            #Metrics for Binary Confusion Matrices\n",
        "            precision = cf[1,1] / sum(cf[:,1])\n",
        "            recall    = cf[1,1] / sum(cf[1,:])\n",
        "            f1_score  = 2*precision*recall / (precision + recall)\n",
        "            stats_text = \"\\n\\nAccuracy={:0.3f}\\nPrecision={:0.3f}\\nRecall={:0.3f}\\nF1 Score={:0.3f}\".format(\n",
        "                accuracy,precision,recall,f1_score)\n",
        "        else:\n",
        "            stats_text = \"\\n\\nAccuracy={:0.3f}\".format(accuracy)\n",
        "    else:\n",
        "        stats_text = \"\"\n",
        "    # SET FIGURE PARAMETERS ACCORDING TO OTHER ARGUMENTS\n",
        "    if figsize==None:\n",
        "        #Get default figure size if not set\n",
        "        figsize = plt.rcParams.get('figure.figsize')\n",
        "    if xyticks==False:\n",
        "        #Do not show categories if xyticks is False\n",
        "        categories=False\n",
        "    # MAKE THE HEATMAP VISUALIZATION\n",
        "    plt.figure(figsize=figsize)\n",
        "    sns.heatmap(cf,annot=box_labels,fmt=\"\",cmap=cmap,cbar=cbar,xticklabels=categories,yticklabels=categories)\n",
        "    if xyplotlabels:\n",
        "        plt.ylabel('True label')\n",
        "        plt.xlabel('Predicted label' + stats_text)\n",
        "        plt.xticks(rotation=45)\n",
        "        plt.yticks(rotation=45)\n",
        "        # plt.savefig('filename.png', dpi=300)\n",
        "    else:\n",
        "        plt.xlabel(stats_text)\n",
        "        # plt.savefig('filename.png', dpi=300)\n",
        "    if title:\n",
        "        plt.title(title)\n",
        "        # plt.savefig('filename.png', dpi=300)"
      ],
      "metadata": {
        "id": "6jDAIx225QvV"
      },
      "execution_count": 8,
      "outputs": []
    },
    {
      "cell_type": "markdown",
      "source": [
        "The function check_nan(data) will iterate through each column of the DataFrame data and display the percentage and count of missing values for each column."
      ],
      "metadata": {
        "id": "LTimkIds5W1y"
      }
    },
    {
      "cell_type": "code",
      "source": [
        "check_nan(data)"
      ],
      "metadata": {
        "colab": {
          "base_uri": "https://localhost:8080/"
        },
        "id": "E7kspDzI5S_N",
        "outputId": "72e8716e-ea26-470a-eb52-1488f0178751"
      },
      "execution_count": 9,
      "outputs": [
        {
          "output_type": "stream",
          "name": "stdout",
          "text": [
            "0% or 0 missing values from [ Acc_x ] column.\n",
            "0% or 0 missing values from [ Acc_y ] column.\n",
            "0% or 0 missing values from [ Acc_z ] column.\n",
            "0% or 0 missing values from [ Gry_x ] column.\n",
            "0% or 0 missing values from [ Gry_y ] column.\n",
            "0% or 0 missing values from [ Gry_Z ] column.\n",
            "0% or 0 missing values from [ Class ] column.\n"
          ]
        }
      ]
    },
    {
      "cell_type": "markdown",
      "source": [
        "This code will display the column names of the DataFrame data and provide the total number of columns in the DataFrame."
      ],
      "metadata": {
        "id": "1oq9xj2s5kvj"
      }
    },
    {
      "cell_type": "code",
      "source": [
        "data.columns, len(data.columns)"
      ],
      "metadata": {
        "colab": {
          "base_uri": "https://localhost:8080/"
        },
        "id": "8bg8fbLf5Vj2",
        "outputId": "01042970-6067-4967-fc3c-7dbd2208e4b7"
      },
      "execution_count": 10,
      "outputs": [
        {
          "output_type": "execute_result",
          "data": {
            "text/plain": [
              "(Index(['Acc_x', 'Acc_y', 'Acc_z', 'Gry_x', 'Gry_y', 'Gry_Z', 'Class'], dtype='object'),\n",
              " 7)"
            ]
          },
          "metadata": {},
          "execution_count": 10
        }
      ]
    },
    {
      "cell_type": "code",
      "source": [
        "data"
      ],
      "metadata": {
        "colab": {
          "base_uri": "https://localhost:8080/",
          "height": 424
        },
        "id": "CR8vggbe5YVl",
        "outputId": "71793467-dbd7-493d-c46c-6a1cf4606ef7"
      },
      "execution_count": 11,
      "outputs": [
        {
          "output_type": "execute_result",
          "data": {
            "text/plain": [
              "          Acc_x     Acc_y     Acc_z      Gry_x      Gry_y      Gry_Z    Class\n",
              "0      0.499756  0.798584 -0.313110 -16.768293 -10.091463  11.189024   Eating\n",
              "1      0.497314  0.826172 -0.312622  -6.981707 -11.310976  10.731707   Eating\n",
              "2      0.495605  0.825562 -0.313477  -5.823171 -11.402439   3.993902   Eating\n",
              "3      0.493408  0.823242 -0.314697  -5.091463 -11.067073   6.890244   Eating\n",
              "4      0.495605  0.819336 -0.315552  -4.115854 -11.189024  16.890244   Eating\n",
              "...         ...       ...       ...        ...        ...        ...      ...\n",
              "72089 -0.945923 -0.182861  0.105103 -70.457317 -11.829268  11.463415  Walking\n",
              "72090 -0.898315 -0.176880  0.078857 -71.280488 -11.890244  10.884146  Walking\n",
              "72091 -0.863159 -0.199097  0.086548 -71.676829 -19.390244  -1.006098  Walking\n",
              "72092 -0.904907 -0.189941  0.088989 -58.963415 -10.152439  25.731707  Walking\n",
              "72093 -0.941895 -0.152100  0.086914 -58.658537  -9.207317  23.048780  Walking\n",
              "\n",
              "[72094 rows x 7 columns]"
            ],
            "text/html": [
              "\n",
              "  <div id=\"df-a3565417-57e1-4003-b559-0e1b7087701b\" class=\"colab-df-container\">\n",
              "    <div>\n",
              "<style scoped>\n",
              "    .dataframe tbody tr th:only-of-type {\n",
              "        vertical-align: middle;\n",
              "    }\n",
              "\n",
              "    .dataframe tbody tr th {\n",
              "        vertical-align: top;\n",
              "    }\n",
              "\n",
              "    .dataframe thead th {\n",
              "        text-align: right;\n",
              "    }\n",
              "</style>\n",
              "<table border=\"1\" class=\"dataframe\">\n",
              "  <thead>\n",
              "    <tr style=\"text-align: right;\">\n",
              "      <th></th>\n",
              "      <th>Acc_x</th>\n",
              "      <th>Acc_y</th>\n",
              "      <th>Acc_z</th>\n",
              "      <th>Gry_x</th>\n",
              "      <th>Gry_y</th>\n",
              "      <th>Gry_Z</th>\n",
              "      <th>Class</th>\n",
              "    </tr>\n",
              "  </thead>\n",
              "  <tbody>\n",
              "    <tr>\n",
              "      <th>0</th>\n",
              "      <td>0.499756</td>\n",
              "      <td>0.798584</td>\n",
              "      <td>-0.313110</td>\n",
              "      <td>-16.768293</td>\n",
              "      <td>-10.091463</td>\n",
              "      <td>11.189024</td>\n",
              "      <td>Eating</td>\n",
              "    </tr>\n",
              "    <tr>\n",
              "      <th>1</th>\n",
              "      <td>0.497314</td>\n",
              "      <td>0.826172</td>\n",
              "      <td>-0.312622</td>\n",
              "      <td>-6.981707</td>\n",
              "      <td>-11.310976</td>\n",
              "      <td>10.731707</td>\n",
              "      <td>Eating</td>\n",
              "    </tr>\n",
              "    <tr>\n",
              "      <th>2</th>\n",
              "      <td>0.495605</td>\n",
              "      <td>0.825562</td>\n",
              "      <td>-0.313477</td>\n",
              "      <td>-5.823171</td>\n",
              "      <td>-11.402439</td>\n",
              "      <td>3.993902</td>\n",
              "      <td>Eating</td>\n",
              "    </tr>\n",
              "    <tr>\n",
              "      <th>3</th>\n",
              "      <td>0.493408</td>\n",
              "      <td>0.823242</td>\n",
              "      <td>-0.314697</td>\n",
              "      <td>-5.091463</td>\n",
              "      <td>-11.067073</td>\n",
              "      <td>6.890244</td>\n",
              "      <td>Eating</td>\n",
              "    </tr>\n",
              "    <tr>\n",
              "      <th>4</th>\n",
              "      <td>0.495605</td>\n",
              "      <td>0.819336</td>\n",
              "      <td>-0.315552</td>\n",
              "      <td>-4.115854</td>\n",
              "      <td>-11.189024</td>\n",
              "      <td>16.890244</td>\n",
              "      <td>Eating</td>\n",
              "    </tr>\n",
              "    <tr>\n",
              "      <th>...</th>\n",
              "      <td>...</td>\n",
              "      <td>...</td>\n",
              "      <td>...</td>\n",
              "      <td>...</td>\n",
              "      <td>...</td>\n",
              "      <td>...</td>\n",
              "      <td>...</td>\n",
              "    </tr>\n",
              "    <tr>\n",
              "      <th>72089</th>\n",
              "      <td>-0.945923</td>\n",
              "      <td>-0.182861</td>\n",
              "      <td>0.105103</td>\n",
              "      <td>-70.457317</td>\n",
              "      <td>-11.829268</td>\n",
              "      <td>11.463415</td>\n",
              "      <td>Walking</td>\n",
              "    </tr>\n",
              "    <tr>\n",
              "      <th>72090</th>\n",
              "      <td>-0.898315</td>\n",
              "      <td>-0.176880</td>\n",
              "      <td>0.078857</td>\n",
              "      <td>-71.280488</td>\n",
              "      <td>-11.890244</td>\n",
              "      <td>10.884146</td>\n",
              "      <td>Walking</td>\n",
              "    </tr>\n",
              "    <tr>\n",
              "      <th>72091</th>\n",
              "      <td>-0.863159</td>\n",
              "      <td>-0.199097</td>\n",
              "      <td>0.086548</td>\n",
              "      <td>-71.676829</td>\n",
              "      <td>-19.390244</td>\n",
              "      <td>-1.006098</td>\n",
              "      <td>Walking</td>\n",
              "    </tr>\n",
              "    <tr>\n",
              "      <th>72092</th>\n",
              "      <td>-0.904907</td>\n",
              "      <td>-0.189941</td>\n",
              "      <td>0.088989</td>\n",
              "      <td>-58.963415</td>\n",
              "      <td>-10.152439</td>\n",
              "      <td>25.731707</td>\n",
              "      <td>Walking</td>\n",
              "    </tr>\n",
              "    <tr>\n",
              "      <th>72093</th>\n",
              "      <td>-0.941895</td>\n",
              "      <td>-0.152100</td>\n",
              "      <td>0.086914</td>\n",
              "      <td>-58.658537</td>\n",
              "      <td>-9.207317</td>\n",
              "      <td>23.048780</td>\n",
              "      <td>Walking</td>\n",
              "    </tr>\n",
              "  </tbody>\n",
              "</table>\n",
              "<p>72094 rows × 7 columns</p>\n",
              "</div>\n",
              "    <div class=\"colab-df-buttons\">\n",
              "\n",
              "  <div class=\"colab-df-container\">\n",
              "    <button class=\"colab-df-convert\" onclick=\"convertToInteractive('df-a3565417-57e1-4003-b559-0e1b7087701b')\"\n",
              "            title=\"Convert this dataframe to an interactive table.\"\n",
              "            style=\"display:none;\">\n",
              "\n",
              "  <svg xmlns=\"http://www.w3.org/2000/svg\" height=\"24px\" viewBox=\"0 -960 960 960\">\n",
              "    <path d=\"M120-120v-720h720v720H120Zm60-500h600v-160H180v160Zm220 220h160v-160H400v160Zm0 220h160v-160H400v160ZM180-400h160v-160H180v160Zm440 0h160v-160H620v160ZM180-180h160v-160H180v160Zm440 0h160v-160H620v160Z\"/>\n",
              "  </svg>\n",
              "    </button>\n",
              "\n",
              "  <style>\n",
              "    .colab-df-container {\n",
              "      display:flex;\n",
              "      gap: 12px;\n",
              "    }\n",
              "\n",
              "    .colab-df-convert {\n",
              "      background-color: #E8F0FE;\n",
              "      border: none;\n",
              "      border-radius: 50%;\n",
              "      cursor: pointer;\n",
              "      display: none;\n",
              "      fill: #1967D2;\n",
              "      height: 32px;\n",
              "      padding: 0 0 0 0;\n",
              "      width: 32px;\n",
              "    }\n",
              "\n",
              "    .colab-df-convert:hover {\n",
              "      background-color: #E2EBFA;\n",
              "      box-shadow: 0px 1px 2px rgba(60, 64, 67, 0.3), 0px 1px 3px 1px rgba(60, 64, 67, 0.15);\n",
              "      fill: #174EA6;\n",
              "    }\n",
              "\n",
              "    .colab-df-buttons div {\n",
              "      margin-bottom: 4px;\n",
              "    }\n",
              "\n",
              "    [theme=dark] .colab-df-convert {\n",
              "      background-color: #3B4455;\n",
              "      fill: #D2E3FC;\n",
              "    }\n",
              "\n",
              "    [theme=dark] .colab-df-convert:hover {\n",
              "      background-color: #434B5C;\n",
              "      box-shadow: 0px 1px 3px 1px rgba(0, 0, 0, 0.15);\n",
              "      filter: drop-shadow(0px 1px 2px rgba(0, 0, 0, 0.3));\n",
              "      fill: #FFFFFF;\n",
              "    }\n",
              "  </style>\n",
              "\n",
              "    <script>\n",
              "      const buttonEl =\n",
              "        document.querySelector('#df-a3565417-57e1-4003-b559-0e1b7087701b button.colab-df-convert');\n",
              "      buttonEl.style.display =\n",
              "        google.colab.kernel.accessAllowed ? 'block' : 'none';\n",
              "\n",
              "      async function convertToInteractive(key) {\n",
              "        const element = document.querySelector('#df-a3565417-57e1-4003-b559-0e1b7087701b');\n",
              "        const dataTable =\n",
              "          await google.colab.kernel.invokeFunction('convertToInteractive',\n",
              "                                                    [key], {});\n",
              "        if (!dataTable) return;\n",
              "\n",
              "        const docLinkHtml = 'Like what you see? Visit the ' +\n",
              "          '<a target=\"_blank\" href=https://colab.research.google.com/notebooks/data_table.ipynb>data table notebook</a>'\n",
              "          + ' to learn more about interactive tables.';\n",
              "        element.innerHTML = '';\n",
              "        dataTable['output_type'] = 'display_data';\n",
              "        await google.colab.output.renderOutput(dataTable, element);\n",
              "        const docLink = document.createElement('div');\n",
              "        docLink.innerHTML = docLinkHtml;\n",
              "        element.appendChild(docLink);\n",
              "      }\n",
              "    </script>\n",
              "  </div>\n",
              "\n",
              "\n",
              "<div id=\"df-2ad6ed47-985f-4581-b29d-91196b5557ee\">\n",
              "  <button class=\"colab-df-quickchart\" onclick=\"quickchart('df-2ad6ed47-985f-4581-b29d-91196b5557ee')\"\n",
              "            title=\"Suggest charts.\"\n",
              "            style=\"display:none;\">\n",
              "\n",
              "<svg xmlns=\"http://www.w3.org/2000/svg\" height=\"24px\"viewBox=\"0 0 24 24\"\n",
              "     width=\"24px\">\n",
              "    <g>\n",
              "        <path d=\"M19 3H5c-1.1 0-2 .9-2 2v14c0 1.1.9 2 2 2h14c1.1 0 2-.9 2-2V5c0-1.1-.9-2-2-2zM9 17H7v-7h2v7zm4 0h-2V7h2v10zm4 0h-2v-4h2v4z\"/>\n",
              "    </g>\n",
              "</svg>\n",
              "  </button>\n",
              "\n",
              "<style>\n",
              "  .colab-df-quickchart {\n",
              "      --bg-color: #E8F0FE;\n",
              "      --fill-color: #1967D2;\n",
              "      --hover-bg-color: #E2EBFA;\n",
              "      --hover-fill-color: #174EA6;\n",
              "      --disabled-fill-color: #AAA;\n",
              "      --disabled-bg-color: #DDD;\n",
              "  }\n",
              "\n",
              "  [theme=dark] .colab-df-quickchart {\n",
              "      --bg-color: #3B4455;\n",
              "      --fill-color: #D2E3FC;\n",
              "      --hover-bg-color: #434B5C;\n",
              "      --hover-fill-color: #FFFFFF;\n",
              "      --disabled-bg-color: #3B4455;\n",
              "      --disabled-fill-color: #666;\n",
              "  }\n",
              "\n",
              "  .colab-df-quickchart {\n",
              "    background-color: var(--bg-color);\n",
              "    border: none;\n",
              "    border-radius: 50%;\n",
              "    cursor: pointer;\n",
              "    display: none;\n",
              "    fill: var(--fill-color);\n",
              "    height: 32px;\n",
              "    padding: 0;\n",
              "    width: 32px;\n",
              "  }\n",
              "\n",
              "  .colab-df-quickchart:hover {\n",
              "    background-color: var(--hover-bg-color);\n",
              "    box-shadow: 0 1px 2px rgba(60, 64, 67, 0.3), 0 1px 3px 1px rgba(60, 64, 67, 0.15);\n",
              "    fill: var(--button-hover-fill-color);\n",
              "  }\n",
              "\n",
              "  .colab-df-quickchart-complete:disabled,\n",
              "  .colab-df-quickchart-complete:disabled:hover {\n",
              "    background-color: var(--disabled-bg-color);\n",
              "    fill: var(--disabled-fill-color);\n",
              "    box-shadow: none;\n",
              "  }\n",
              "\n",
              "  .colab-df-spinner {\n",
              "    border: 2px solid var(--fill-color);\n",
              "    border-color: transparent;\n",
              "    border-bottom-color: var(--fill-color);\n",
              "    animation:\n",
              "      spin 1s steps(1) infinite;\n",
              "  }\n",
              "\n",
              "  @keyframes spin {\n",
              "    0% {\n",
              "      border-color: transparent;\n",
              "      border-bottom-color: var(--fill-color);\n",
              "      border-left-color: var(--fill-color);\n",
              "    }\n",
              "    20% {\n",
              "      border-color: transparent;\n",
              "      border-left-color: var(--fill-color);\n",
              "      border-top-color: var(--fill-color);\n",
              "    }\n",
              "    30% {\n",
              "      border-color: transparent;\n",
              "      border-left-color: var(--fill-color);\n",
              "      border-top-color: var(--fill-color);\n",
              "      border-right-color: var(--fill-color);\n",
              "    }\n",
              "    40% {\n",
              "      border-color: transparent;\n",
              "      border-right-color: var(--fill-color);\n",
              "      border-top-color: var(--fill-color);\n",
              "    }\n",
              "    60% {\n",
              "      border-color: transparent;\n",
              "      border-right-color: var(--fill-color);\n",
              "    }\n",
              "    80% {\n",
              "      border-color: transparent;\n",
              "      border-right-color: var(--fill-color);\n",
              "      border-bottom-color: var(--fill-color);\n",
              "    }\n",
              "    90% {\n",
              "      border-color: transparent;\n",
              "      border-bottom-color: var(--fill-color);\n",
              "    }\n",
              "  }\n",
              "</style>\n",
              "\n",
              "  <script>\n",
              "    async function quickchart(key) {\n",
              "      const quickchartButtonEl =\n",
              "        document.querySelector('#' + key + ' button');\n",
              "      quickchartButtonEl.disabled = true;  // To prevent multiple clicks.\n",
              "      quickchartButtonEl.classList.add('colab-df-spinner');\n",
              "      try {\n",
              "        const charts = await google.colab.kernel.invokeFunction(\n",
              "            'suggestCharts', [key], {});\n",
              "      } catch (error) {\n",
              "        console.error('Error during call to suggestCharts:', error);\n",
              "      }\n",
              "      quickchartButtonEl.classList.remove('colab-df-spinner');\n",
              "      quickchartButtonEl.classList.add('colab-df-quickchart-complete');\n",
              "    }\n",
              "    (() => {\n",
              "      let quickchartButtonEl =\n",
              "        document.querySelector('#df-2ad6ed47-985f-4581-b29d-91196b5557ee button');\n",
              "      quickchartButtonEl.style.display =\n",
              "        google.colab.kernel.accessAllowed ? 'block' : 'none';\n",
              "    })();\n",
              "  </script>\n",
              "</div>\n",
              "    </div>\n",
              "  </div>\n"
            ]
          },
          "metadata": {},
          "execution_count": 11
        }
      ]
    },
    {
      "cell_type": "markdown",
      "source": [
        "The code X = data.drop('class', axis=1) creates a new DataFrame X by removing the 'class' attribute from the original DataFrame data. Here's how it works:\n",
        "\n",
        "The drop() function is called on the DataFrame data.\n",
        "The first argument 'class' specifies the column label to be dropped.\n",
        "The axis=1 parameter indicates that the column is to be dropped (as opposed to a row).\n",
        "The resulting DataFrame without the 'class' attribute is assigned to the variable X."
      ],
      "metadata": {
        "id": "76VLaUvp5nNT"
      }
    },
    {
      "cell_type": "code",
      "source": [
        "X=data.drop('Class',axis=1)#remove class atribute"
      ],
      "metadata": {
        "id": "i-yp4tK95apF"
      },
      "execution_count": 12,
      "outputs": []
    },
    {
      "cell_type": "code",
      "source": [
        "X"
      ],
      "metadata": {
        "colab": {
          "base_uri": "https://localhost:8080/",
          "height": 424
        },
        "id": "-w1MvWnFbHF9",
        "outputId": "823ed38d-2095-4b19-b42a-a997d587949a"
      },
      "execution_count": 13,
      "outputs": [
        {
          "output_type": "execute_result",
          "data": {
            "text/plain": [
              "          Acc_x     Acc_y     Acc_z      Gry_x      Gry_y      Gry_Z\n",
              "0      0.499756  0.798584 -0.313110 -16.768293 -10.091463  11.189024\n",
              "1      0.497314  0.826172 -0.312622  -6.981707 -11.310976  10.731707\n",
              "2      0.495605  0.825562 -0.313477  -5.823171 -11.402439   3.993902\n",
              "3      0.493408  0.823242 -0.314697  -5.091463 -11.067073   6.890244\n",
              "4      0.495605  0.819336 -0.315552  -4.115854 -11.189024  16.890244\n",
              "...         ...       ...       ...        ...        ...        ...\n",
              "72089 -0.945923 -0.182861  0.105103 -70.457317 -11.829268  11.463415\n",
              "72090 -0.898315 -0.176880  0.078857 -71.280488 -11.890244  10.884146\n",
              "72091 -0.863159 -0.199097  0.086548 -71.676829 -19.390244  -1.006098\n",
              "72092 -0.904907 -0.189941  0.088989 -58.963415 -10.152439  25.731707\n",
              "72093 -0.941895 -0.152100  0.086914 -58.658537  -9.207317  23.048780\n",
              "\n",
              "[72094 rows x 6 columns]"
            ],
            "text/html": [
              "\n",
              "  <div id=\"df-6e4dadcf-fe05-4ecd-b4db-75f248e6c78e\" class=\"colab-df-container\">\n",
              "    <div>\n",
              "<style scoped>\n",
              "    .dataframe tbody tr th:only-of-type {\n",
              "        vertical-align: middle;\n",
              "    }\n",
              "\n",
              "    .dataframe tbody tr th {\n",
              "        vertical-align: top;\n",
              "    }\n",
              "\n",
              "    .dataframe thead th {\n",
              "        text-align: right;\n",
              "    }\n",
              "</style>\n",
              "<table border=\"1\" class=\"dataframe\">\n",
              "  <thead>\n",
              "    <tr style=\"text-align: right;\">\n",
              "      <th></th>\n",
              "      <th>Acc_x</th>\n",
              "      <th>Acc_y</th>\n",
              "      <th>Acc_z</th>\n",
              "      <th>Gry_x</th>\n",
              "      <th>Gry_y</th>\n",
              "      <th>Gry_Z</th>\n",
              "    </tr>\n",
              "  </thead>\n",
              "  <tbody>\n",
              "    <tr>\n",
              "      <th>0</th>\n",
              "      <td>0.499756</td>\n",
              "      <td>0.798584</td>\n",
              "      <td>-0.313110</td>\n",
              "      <td>-16.768293</td>\n",
              "      <td>-10.091463</td>\n",
              "      <td>11.189024</td>\n",
              "    </tr>\n",
              "    <tr>\n",
              "      <th>1</th>\n",
              "      <td>0.497314</td>\n",
              "      <td>0.826172</td>\n",
              "      <td>-0.312622</td>\n",
              "      <td>-6.981707</td>\n",
              "      <td>-11.310976</td>\n",
              "      <td>10.731707</td>\n",
              "    </tr>\n",
              "    <tr>\n",
              "      <th>2</th>\n",
              "      <td>0.495605</td>\n",
              "      <td>0.825562</td>\n",
              "      <td>-0.313477</td>\n",
              "      <td>-5.823171</td>\n",
              "      <td>-11.402439</td>\n",
              "      <td>3.993902</td>\n",
              "    </tr>\n",
              "    <tr>\n",
              "      <th>3</th>\n",
              "      <td>0.493408</td>\n",
              "      <td>0.823242</td>\n",
              "      <td>-0.314697</td>\n",
              "      <td>-5.091463</td>\n",
              "      <td>-11.067073</td>\n",
              "      <td>6.890244</td>\n",
              "    </tr>\n",
              "    <tr>\n",
              "      <th>4</th>\n",
              "      <td>0.495605</td>\n",
              "      <td>0.819336</td>\n",
              "      <td>-0.315552</td>\n",
              "      <td>-4.115854</td>\n",
              "      <td>-11.189024</td>\n",
              "      <td>16.890244</td>\n",
              "    </tr>\n",
              "    <tr>\n",
              "      <th>...</th>\n",
              "      <td>...</td>\n",
              "      <td>...</td>\n",
              "      <td>...</td>\n",
              "      <td>...</td>\n",
              "      <td>...</td>\n",
              "      <td>...</td>\n",
              "    </tr>\n",
              "    <tr>\n",
              "      <th>72089</th>\n",
              "      <td>-0.945923</td>\n",
              "      <td>-0.182861</td>\n",
              "      <td>0.105103</td>\n",
              "      <td>-70.457317</td>\n",
              "      <td>-11.829268</td>\n",
              "      <td>11.463415</td>\n",
              "    </tr>\n",
              "    <tr>\n",
              "      <th>72090</th>\n",
              "      <td>-0.898315</td>\n",
              "      <td>-0.176880</td>\n",
              "      <td>0.078857</td>\n",
              "      <td>-71.280488</td>\n",
              "      <td>-11.890244</td>\n",
              "      <td>10.884146</td>\n",
              "    </tr>\n",
              "    <tr>\n",
              "      <th>72091</th>\n",
              "      <td>-0.863159</td>\n",
              "      <td>-0.199097</td>\n",
              "      <td>0.086548</td>\n",
              "      <td>-71.676829</td>\n",
              "      <td>-19.390244</td>\n",
              "      <td>-1.006098</td>\n",
              "    </tr>\n",
              "    <tr>\n",
              "      <th>72092</th>\n",
              "      <td>-0.904907</td>\n",
              "      <td>-0.189941</td>\n",
              "      <td>0.088989</td>\n",
              "      <td>-58.963415</td>\n",
              "      <td>-10.152439</td>\n",
              "      <td>25.731707</td>\n",
              "    </tr>\n",
              "    <tr>\n",
              "      <th>72093</th>\n",
              "      <td>-0.941895</td>\n",
              "      <td>-0.152100</td>\n",
              "      <td>0.086914</td>\n",
              "      <td>-58.658537</td>\n",
              "      <td>-9.207317</td>\n",
              "      <td>23.048780</td>\n",
              "    </tr>\n",
              "  </tbody>\n",
              "</table>\n",
              "<p>72094 rows × 6 columns</p>\n",
              "</div>\n",
              "    <div class=\"colab-df-buttons\">\n",
              "\n",
              "  <div class=\"colab-df-container\">\n",
              "    <button class=\"colab-df-convert\" onclick=\"convertToInteractive('df-6e4dadcf-fe05-4ecd-b4db-75f248e6c78e')\"\n",
              "            title=\"Convert this dataframe to an interactive table.\"\n",
              "            style=\"display:none;\">\n",
              "\n",
              "  <svg xmlns=\"http://www.w3.org/2000/svg\" height=\"24px\" viewBox=\"0 -960 960 960\">\n",
              "    <path d=\"M120-120v-720h720v720H120Zm60-500h600v-160H180v160Zm220 220h160v-160H400v160Zm0 220h160v-160H400v160ZM180-400h160v-160H180v160Zm440 0h160v-160H620v160ZM180-180h160v-160H180v160Zm440 0h160v-160H620v160Z\"/>\n",
              "  </svg>\n",
              "    </button>\n",
              "\n",
              "  <style>\n",
              "    .colab-df-container {\n",
              "      display:flex;\n",
              "      gap: 12px;\n",
              "    }\n",
              "\n",
              "    .colab-df-convert {\n",
              "      background-color: #E8F0FE;\n",
              "      border: none;\n",
              "      border-radius: 50%;\n",
              "      cursor: pointer;\n",
              "      display: none;\n",
              "      fill: #1967D2;\n",
              "      height: 32px;\n",
              "      padding: 0 0 0 0;\n",
              "      width: 32px;\n",
              "    }\n",
              "\n",
              "    .colab-df-convert:hover {\n",
              "      background-color: #E2EBFA;\n",
              "      box-shadow: 0px 1px 2px rgba(60, 64, 67, 0.3), 0px 1px 3px 1px rgba(60, 64, 67, 0.15);\n",
              "      fill: #174EA6;\n",
              "    }\n",
              "\n",
              "    .colab-df-buttons div {\n",
              "      margin-bottom: 4px;\n",
              "    }\n",
              "\n",
              "    [theme=dark] .colab-df-convert {\n",
              "      background-color: #3B4455;\n",
              "      fill: #D2E3FC;\n",
              "    }\n",
              "\n",
              "    [theme=dark] .colab-df-convert:hover {\n",
              "      background-color: #434B5C;\n",
              "      box-shadow: 0px 1px 3px 1px rgba(0, 0, 0, 0.15);\n",
              "      filter: drop-shadow(0px 1px 2px rgba(0, 0, 0, 0.3));\n",
              "      fill: #FFFFFF;\n",
              "    }\n",
              "  </style>\n",
              "\n",
              "    <script>\n",
              "      const buttonEl =\n",
              "        document.querySelector('#df-6e4dadcf-fe05-4ecd-b4db-75f248e6c78e button.colab-df-convert');\n",
              "      buttonEl.style.display =\n",
              "        google.colab.kernel.accessAllowed ? 'block' : 'none';\n",
              "\n",
              "      async function convertToInteractive(key) {\n",
              "        const element = document.querySelector('#df-6e4dadcf-fe05-4ecd-b4db-75f248e6c78e');\n",
              "        const dataTable =\n",
              "          await google.colab.kernel.invokeFunction('convertToInteractive',\n",
              "                                                    [key], {});\n",
              "        if (!dataTable) return;\n",
              "\n",
              "        const docLinkHtml = 'Like what you see? Visit the ' +\n",
              "          '<a target=\"_blank\" href=https://colab.research.google.com/notebooks/data_table.ipynb>data table notebook</a>'\n",
              "          + ' to learn more about interactive tables.';\n",
              "        element.innerHTML = '';\n",
              "        dataTable['output_type'] = 'display_data';\n",
              "        await google.colab.output.renderOutput(dataTable, element);\n",
              "        const docLink = document.createElement('div');\n",
              "        docLink.innerHTML = docLinkHtml;\n",
              "        element.appendChild(docLink);\n",
              "      }\n",
              "    </script>\n",
              "  </div>\n",
              "\n",
              "\n",
              "<div id=\"df-b433a7b0-4490-4103-a32d-de0102851236\">\n",
              "  <button class=\"colab-df-quickchart\" onclick=\"quickchart('df-b433a7b0-4490-4103-a32d-de0102851236')\"\n",
              "            title=\"Suggest charts.\"\n",
              "            style=\"display:none;\">\n",
              "\n",
              "<svg xmlns=\"http://www.w3.org/2000/svg\" height=\"24px\"viewBox=\"0 0 24 24\"\n",
              "     width=\"24px\">\n",
              "    <g>\n",
              "        <path d=\"M19 3H5c-1.1 0-2 .9-2 2v14c0 1.1.9 2 2 2h14c1.1 0 2-.9 2-2V5c0-1.1-.9-2-2-2zM9 17H7v-7h2v7zm4 0h-2V7h2v10zm4 0h-2v-4h2v4z\"/>\n",
              "    </g>\n",
              "</svg>\n",
              "  </button>\n",
              "\n",
              "<style>\n",
              "  .colab-df-quickchart {\n",
              "      --bg-color: #E8F0FE;\n",
              "      --fill-color: #1967D2;\n",
              "      --hover-bg-color: #E2EBFA;\n",
              "      --hover-fill-color: #174EA6;\n",
              "      --disabled-fill-color: #AAA;\n",
              "      --disabled-bg-color: #DDD;\n",
              "  }\n",
              "\n",
              "  [theme=dark] .colab-df-quickchart {\n",
              "      --bg-color: #3B4455;\n",
              "      --fill-color: #D2E3FC;\n",
              "      --hover-bg-color: #434B5C;\n",
              "      --hover-fill-color: #FFFFFF;\n",
              "      --disabled-bg-color: #3B4455;\n",
              "      --disabled-fill-color: #666;\n",
              "  }\n",
              "\n",
              "  .colab-df-quickchart {\n",
              "    background-color: var(--bg-color);\n",
              "    border: none;\n",
              "    border-radius: 50%;\n",
              "    cursor: pointer;\n",
              "    display: none;\n",
              "    fill: var(--fill-color);\n",
              "    height: 32px;\n",
              "    padding: 0;\n",
              "    width: 32px;\n",
              "  }\n",
              "\n",
              "  .colab-df-quickchart:hover {\n",
              "    background-color: var(--hover-bg-color);\n",
              "    box-shadow: 0 1px 2px rgba(60, 64, 67, 0.3), 0 1px 3px 1px rgba(60, 64, 67, 0.15);\n",
              "    fill: var(--button-hover-fill-color);\n",
              "  }\n",
              "\n",
              "  .colab-df-quickchart-complete:disabled,\n",
              "  .colab-df-quickchart-complete:disabled:hover {\n",
              "    background-color: var(--disabled-bg-color);\n",
              "    fill: var(--disabled-fill-color);\n",
              "    box-shadow: none;\n",
              "  }\n",
              "\n",
              "  .colab-df-spinner {\n",
              "    border: 2px solid var(--fill-color);\n",
              "    border-color: transparent;\n",
              "    border-bottom-color: var(--fill-color);\n",
              "    animation:\n",
              "      spin 1s steps(1) infinite;\n",
              "  }\n",
              "\n",
              "  @keyframes spin {\n",
              "    0% {\n",
              "      border-color: transparent;\n",
              "      border-bottom-color: var(--fill-color);\n",
              "      border-left-color: var(--fill-color);\n",
              "    }\n",
              "    20% {\n",
              "      border-color: transparent;\n",
              "      border-left-color: var(--fill-color);\n",
              "      border-top-color: var(--fill-color);\n",
              "    }\n",
              "    30% {\n",
              "      border-color: transparent;\n",
              "      border-left-color: var(--fill-color);\n",
              "      border-top-color: var(--fill-color);\n",
              "      border-right-color: var(--fill-color);\n",
              "    }\n",
              "    40% {\n",
              "      border-color: transparent;\n",
              "      border-right-color: var(--fill-color);\n",
              "      border-top-color: var(--fill-color);\n",
              "    }\n",
              "    60% {\n",
              "      border-color: transparent;\n",
              "      border-right-color: var(--fill-color);\n",
              "    }\n",
              "    80% {\n",
              "      border-color: transparent;\n",
              "      border-right-color: var(--fill-color);\n",
              "      border-bottom-color: var(--fill-color);\n",
              "    }\n",
              "    90% {\n",
              "      border-color: transparent;\n",
              "      border-bottom-color: var(--fill-color);\n",
              "    }\n",
              "  }\n",
              "</style>\n",
              "\n",
              "  <script>\n",
              "    async function quickchart(key) {\n",
              "      const quickchartButtonEl =\n",
              "        document.querySelector('#' + key + ' button');\n",
              "      quickchartButtonEl.disabled = true;  // To prevent multiple clicks.\n",
              "      quickchartButtonEl.classList.add('colab-df-spinner');\n",
              "      try {\n",
              "        const charts = await google.colab.kernel.invokeFunction(\n",
              "            'suggestCharts', [key], {});\n",
              "      } catch (error) {\n",
              "        console.error('Error during call to suggestCharts:', error);\n",
              "      }\n",
              "      quickchartButtonEl.classList.remove('colab-df-spinner');\n",
              "      quickchartButtonEl.classList.add('colab-df-quickchart-complete');\n",
              "    }\n",
              "    (() => {\n",
              "      let quickchartButtonEl =\n",
              "        document.querySelector('#df-b433a7b0-4490-4103-a32d-de0102851236 button');\n",
              "      quickchartButtonEl.style.display =\n",
              "        google.colab.kernel.accessAllowed ? 'block' : 'none';\n",
              "    })();\n",
              "  </script>\n",
              "</div>\n",
              "    </div>\n",
              "  </div>\n"
            ]
          },
          "metadata": {},
          "execution_count": 13
        }
      ]
    },
    {
      "cell_type": "markdown",
      "source": [
        "shape of x"
      ],
      "metadata": {
        "id": "DH6fAMTY5uV0"
      }
    },
    {
      "cell_type": "code",
      "source": [
        "X.shape"
      ],
      "metadata": {
        "colab": {
          "base_uri": "https://localhost:8080/"
        },
        "id": "USkn1Mw35duV",
        "outputId": "5e9b6bbb-33c8-410a-e1cc-8a676fbbe67c"
      },
      "execution_count": 14,
      "outputs": [
        {
          "output_type": "execute_result",
          "data": {
            "text/plain": [
              "(72094, 6)"
            ]
          },
          "metadata": {},
          "execution_count": 14
        }
      ]
    },
    {
      "cell_type": "markdown",
      "source": [
        "The code y = data.iloc[:, -1] sets the target column of the DataFrame data to the variable y. Here's how it works:\n",
        "\n",
        "The iloc function is used to index the DataFrame data.\n",
        "[:, -1] selects all rows (:) and the last column (-1), which corresponds to the target column.\n",
        "The resulting column is assigned to the variable y.\n"
      ],
      "metadata": {
        "id": "4sqUWglA5wpL"
      }
    },
    {
      "cell_type": "code",
      "source": [
        "y=data.iloc[:,-1] #set target column"
      ],
      "metadata": {
        "id": "st5Ks01a5kTF"
      },
      "execution_count": 15,
      "outputs": []
    },
    {
      "cell_type": "code",
      "source": [
        "y"
      ],
      "metadata": {
        "colab": {
          "base_uri": "https://localhost:8080/"
        },
        "id": "Pzt2zrThbVyC",
        "outputId": "898993c4-8942-42da-907c-86dc7ef68893"
      },
      "execution_count": 16,
      "outputs": [
        {
          "output_type": "execute_result",
          "data": {
            "text/plain": [
              "0         Eating\n",
              "1         Eating\n",
              "2         Eating\n",
              "3         Eating\n",
              "4         Eating\n",
              "          ...   \n",
              "72089    Walking\n",
              "72090    Walking\n",
              "72091    Walking\n",
              "72092    Walking\n",
              "72093    Walking\n",
              "Name: Class, Length: 72094, dtype: object"
            ]
          },
          "metadata": {},
          "execution_count": 16
        }
      ]
    },
    {
      "cell_type": "code",
      "source": [
        "X.head()"
      ],
      "metadata": {
        "colab": {
          "base_uri": "https://localhost:8080/",
          "height": 206
        },
        "id": "aLfVCYet5n51",
        "outputId": "fe8823f8-060d-4f20-b365-97ec9a5cf315"
      },
      "execution_count": 17,
      "outputs": [
        {
          "output_type": "execute_result",
          "data": {
            "text/plain": [
              "      Acc_x     Acc_y     Acc_z      Gry_x      Gry_y      Gry_Z\n",
              "0  0.499756  0.798584 -0.313110 -16.768293 -10.091463  11.189024\n",
              "1  0.497314  0.826172 -0.312622  -6.981707 -11.310976  10.731707\n",
              "2  0.495605  0.825562 -0.313477  -5.823171 -11.402439   3.993902\n",
              "3  0.493408  0.823242 -0.314697  -5.091463 -11.067073   6.890244\n",
              "4  0.495605  0.819336 -0.315552  -4.115854 -11.189024  16.890244"
            ],
            "text/html": [
              "\n",
              "  <div id=\"df-b512ad06-8774-42d4-8248-a2ddf842000b\" class=\"colab-df-container\">\n",
              "    <div>\n",
              "<style scoped>\n",
              "    .dataframe tbody tr th:only-of-type {\n",
              "        vertical-align: middle;\n",
              "    }\n",
              "\n",
              "    .dataframe tbody tr th {\n",
              "        vertical-align: top;\n",
              "    }\n",
              "\n",
              "    .dataframe thead th {\n",
              "        text-align: right;\n",
              "    }\n",
              "</style>\n",
              "<table border=\"1\" class=\"dataframe\">\n",
              "  <thead>\n",
              "    <tr style=\"text-align: right;\">\n",
              "      <th></th>\n",
              "      <th>Acc_x</th>\n",
              "      <th>Acc_y</th>\n",
              "      <th>Acc_z</th>\n",
              "      <th>Gry_x</th>\n",
              "      <th>Gry_y</th>\n",
              "      <th>Gry_Z</th>\n",
              "    </tr>\n",
              "  </thead>\n",
              "  <tbody>\n",
              "    <tr>\n",
              "      <th>0</th>\n",
              "      <td>0.499756</td>\n",
              "      <td>0.798584</td>\n",
              "      <td>-0.313110</td>\n",
              "      <td>-16.768293</td>\n",
              "      <td>-10.091463</td>\n",
              "      <td>11.189024</td>\n",
              "    </tr>\n",
              "    <tr>\n",
              "      <th>1</th>\n",
              "      <td>0.497314</td>\n",
              "      <td>0.826172</td>\n",
              "      <td>-0.312622</td>\n",
              "      <td>-6.981707</td>\n",
              "      <td>-11.310976</td>\n",
              "      <td>10.731707</td>\n",
              "    </tr>\n",
              "    <tr>\n",
              "      <th>2</th>\n",
              "      <td>0.495605</td>\n",
              "      <td>0.825562</td>\n",
              "      <td>-0.313477</td>\n",
              "      <td>-5.823171</td>\n",
              "      <td>-11.402439</td>\n",
              "      <td>3.993902</td>\n",
              "    </tr>\n",
              "    <tr>\n",
              "      <th>3</th>\n",
              "      <td>0.493408</td>\n",
              "      <td>0.823242</td>\n",
              "      <td>-0.314697</td>\n",
              "      <td>-5.091463</td>\n",
              "      <td>-11.067073</td>\n",
              "      <td>6.890244</td>\n",
              "    </tr>\n",
              "    <tr>\n",
              "      <th>4</th>\n",
              "      <td>0.495605</td>\n",
              "      <td>0.819336</td>\n",
              "      <td>-0.315552</td>\n",
              "      <td>-4.115854</td>\n",
              "      <td>-11.189024</td>\n",
              "      <td>16.890244</td>\n",
              "    </tr>\n",
              "  </tbody>\n",
              "</table>\n",
              "</div>\n",
              "    <div class=\"colab-df-buttons\">\n",
              "\n",
              "  <div class=\"colab-df-container\">\n",
              "    <button class=\"colab-df-convert\" onclick=\"convertToInteractive('df-b512ad06-8774-42d4-8248-a2ddf842000b')\"\n",
              "            title=\"Convert this dataframe to an interactive table.\"\n",
              "            style=\"display:none;\">\n",
              "\n",
              "  <svg xmlns=\"http://www.w3.org/2000/svg\" height=\"24px\" viewBox=\"0 -960 960 960\">\n",
              "    <path d=\"M120-120v-720h720v720H120Zm60-500h600v-160H180v160Zm220 220h160v-160H400v160Zm0 220h160v-160H400v160ZM180-400h160v-160H180v160Zm440 0h160v-160H620v160ZM180-180h160v-160H180v160Zm440 0h160v-160H620v160Z\"/>\n",
              "  </svg>\n",
              "    </button>\n",
              "\n",
              "  <style>\n",
              "    .colab-df-container {\n",
              "      display:flex;\n",
              "      gap: 12px;\n",
              "    }\n",
              "\n",
              "    .colab-df-convert {\n",
              "      background-color: #E8F0FE;\n",
              "      border: none;\n",
              "      border-radius: 50%;\n",
              "      cursor: pointer;\n",
              "      display: none;\n",
              "      fill: #1967D2;\n",
              "      height: 32px;\n",
              "      padding: 0 0 0 0;\n",
              "      width: 32px;\n",
              "    }\n",
              "\n",
              "    .colab-df-convert:hover {\n",
              "      background-color: #E2EBFA;\n",
              "      box-shadow: 0px 1px 2px rgba(60, 64, 67, 0.3), 0px 1px 3px 1px rgba(60, 64, 67, 0.15);\n",
              "      fill: #174EA6;\n",
              "    }\n",
              "\n",
              "    .colab-df-buttons div {\n",
              "      margin-bottom: 4px;\n",
              "    }\n",
              "\n",
              "    [theme=dark] .colab-df-convert {\n",
              "      background-color: #3B4455;\n",
              "      fill: #D2E3FC;\n",
              "    }\n",
              "\n",
              "    [theme=dark] .colab-df-convert:hover {\n",
              "      background-color: #434B5C;\n",
              "      box-shadow: 0px 1px 3px 1px rgba(0, 0, 0, 0.15);\n",
              "      filter: drop-shadow(0px 1px 2px rgba(0, 0, 0, 0.3));\n",
              "      fill: #FFFFFF;\n",
              "    }\n",
              "  </style>\n",
              "\n",
              "    <script>\n",
              "      const buttonEl =\n",
              "        document.querySelector('#df-b512ad06-8774-42d4-8248-a2ddf842000b button.colab-df-convert');\n",
              "      buttonEl.style.display =\n",
              "        google.colab.kernel.accessAllowed ? 'block' : 'none';\n",
              "\n",
              "      async function convertToInteractive(key) {\n",
              "        const element = document.querySelector('#df-b512ad06-8774-42d4-8248-a2ddf842000b');\n",
              "        const dataTable =\n",
              "          await google.colab.kernel.invokeFunction('convertToInteractive',\n",
              "                                                    [key], {});\n",
              "        if (!dataTable) return;\n",
              "\n",
              "        const docLinkHtml = 'Like what you see? Visit the ' +\n",
              "          '<a target=\"_blank\" href=https://colab.research.google.com/notebooks/data_table.ipynb>data table notebook</a>'\n",
              "          + ' to learn more about interactive tables.';\n",
              "        element.innerHTML = '';\n",
              "        dataTable['output_type'] = 'display_data';\n",
              "        await google.colab.output.renderOutput(dataTable, element);\n",
              "        const docLink = document.createElement('div');\n",
              "        docLink.innerHTML = docLinkHtml;\n",
              "        element.appendChild(docLink);\n",
              "      }\n",
              "    </script>\n",
              "  </div>\n",
              "\n",
              "\n",
              "<div id=\"df-791cfe07-87b4-4252-828f-f8af214cb085\">\n",
              "  <button class=\"colab-df-quickchart\" onclick=\"quickchart('df-791cfe07-87b4-4252-828f-f8af214cb085')\"\n",
              "            title=\"Suggest charts.\"\n",
              "            style=\"display:none;\">\n",
              "\n",
              "<svg xmlns=\"http://www.w3.org/2000/svg\" height=\"24px\"viewBox=\"0 0 24 24\"\n",
              "     width=\"24px\">\n",
              "    <g>\n",
              "        <path d=\"M19 3H5c-1.1 0-2 .9-2 2v14c0 1.1.9 2 2 2h14c1.1 0 2-.9 2-2V5c0-1.1-.9-2-2-2zM9 17H7v-7h2v7zm4 0h-2V7h2v10zm4 0h-2v-4h2v4z\"/>\n",
              "    </g>\n",
              "</svg>\n",
              "  </button>\n",
              "\n",
              "<style>\n",
              "  .colab-df-quickchart {\n",
              "      --bg-color: #E8F0FE;\n",
              "      --fill-color: #1967D2;\n",
              "      --hover-bg-color: #E2EBFA;\n",
              "      --hover-fill-color: #174EA6;\n",
              "      --disabled-fill-color: #AAA;\n",
              "      --disabled-bg-color: #DDD;\n",
              "  }\n",
              "\n",
              "  [theme=dark] .colab-df-quickchart {\n",
              "      --bg-color: #3B4455;\n",
              "      --fill-color: #D2E3FC;\n",
              "      --hover-bg-color: #434B5C;\n",
              "      --hover-fill-color: #FFFFFF;\n",
              "      --disabled-bg-color: #3B4455;\n",
              "      --disabled-fill-color: #666;\n",
              "  }\n",
              "\n",
              "  .colab-df-quickchart {\n",
              "    background-color: var(--bg-color);\n",
              "    border: none;\n",
              "    border-radius: 50%;\n",
              "    cursor: pointer;\n",
              "    display: none;\n",
              "    fill: var(--fill-color);\n",
              "    height: 32px;\n",
              "    padding: 0;\n",
              "    width: 32px;\n",
              "  }\n",
              "\n",
              "  .colab-df-quickchart:hover {\n",
              "    background-color: var(--hover-bg-color);\n",
              "    box-shadow: 0 1px 2px rgba(60, 64, 67, 0.3), 0 1px 3px 1px rgba(60, 64, 67, 0.15);\n",
              "    fill: var(--button-hover-fill-color);\n",
              "  }\n",
              "\n",
              "  .colab-df-quickchart-complete:disabled,\n",
              "  .colab-df-quickchart-complete:disabled:hover {\n",
              "    background-color: var(--disabled-bg-color);\n",
              "    fill: var(--disabled-fill-color);\n",
              "    box-shadow: none;\n",
              "  }\n",
              "\n",
              "  .colab-df-spinner {\n",
              "    border: 2px solid var(--fill-color);\n",
              "    border-color: transparent;\n",
              "    border-bottom-color: var(--fill-color);\n",
              "    animation:\n",
              "      spin 1s steps(1) infinite;\n",
              "  }\n",
              "\n",
              "  @keyframes spin {\n",
              "    0% {\n",
              "      border-color: transparent;\n",
              "      border-bottom-color: var(--fill-color);\n",
              "      border-left-color: var(--fill-color);\n",
              "    }\n",
              "    20% {\n",
              "      border-color: transparent;\n",
              "      border-left-color: var(--fill-color);\n",
              "      border-top-color: var(--fill-color);\n",
              "    }\n",
              "    30% {\n",
              "      border-color: transparent;\n",
              "      border-left-color: var(--fill-color);\n",
              "      border-top-color: var(--fill-color);\n",
              "      border-right-color: var(--fill-color);\n",
              "    }\n",
              "    40% {\n",
              "      border-color: transparent;\n",
              "      border-right-color: var(--fill-color);\n",
              "      border-top-color: var(--fill-color);\n",
              "    }\n",
              "    60% {\n",
              "      border-color: transparent;\n",
              "      border-right-color: var(--fill-color);\n",
              "    }\n",
              "    80% {\n",
              "      border-color: transparent;\n",
              "      border-right-color: var(--fill-color);\n",
              "      border-bottom-color: var(--fill-color);\n",
              "    }\n",
              "    90% {\n",
              "      border-color: transparent;\n",
              "      border-bottom-color: var(--fill-color);\n",
              "    }\n",
              "  }\n",
              "</style>\n",
              "\n",
              "  <script>\n",
              "    async function quickchart(key) {\n",
              "      const quickchartButtonEl =\n",
              "        document.querySelector('#' + key + ' button');\n",
              "      quickchartButtonEl.disabled = true;  // To prevent multiple clicks.\n",
              "      quickchartButtonEl.classList.add('colab-df-spinner');\n",
              "      try {\n",
              "        const charts = await google.colab.kernel.invokeFunction(\n",
              "            'suggestCharts', [key], {});\n",
              "      } catch (error) {\n",
              "        console.error('Error during call to suggestCharts:', error);\n",
              "      }\n",
              "      quickchartButtonEl.classList.remove('colab-df-spinner');\n",
              "      quickchartButtonEl.classList.add('colab-df-quickchart-complete');\n",
              "    }\n",
              "    (() => {\n",
              "      let quickchartButtonEl =\n",
              "        document.querySelector('#df-791cfe07-87b4-4252-828f-f8af214cb085 button');\n",
              "      quickchartButtonEl.style.display =\n",
              "        google.colab.kernel.accessAllowed ? 'block' : 'none';\n",
              "    })();\n",
              "  </script>\n",
              "</div>\n",
              "    </div>\n",
              "  </div>\n"
            ]
          },
          "metadata": {},
          "execution_count": 17
        }
      ]
    },
    {
      "cell_type": "code",
      "source": [
        "y.head()"
      ],
      "metadata": {
        "colab": {
          "base_uri": "https://localhost:8080/"
        },
        "id": "h6AuOzGs5p0l",
        "outputId": "826d8d2a-9673-4459-c4dc-ceb23bd95fca"
      },
      "execution_count": 18,
      "outputs": [
        {
          "output_type": "execute_result",
          "data": {
            "text/plain": [
              "0    Eating\n",
              "1    Eating\n",
              "2    Eating\n",
              "3    Eating\n",
              "4    Eating\n",
              "Name: Class, dtype: object"
            ]
          },
          "metadata": {},
          "execution_count": 18
        }
      ]
    },
    {
      "cell_type": "markdown",
      "source": [
        "The Counter class from the collections module is used to count the occurrences of each unique value in a sequence. In this case, you can use Counter(y) to count the occurrences of each unique value in the variable y, which represents the target column."
      ],
      "metadata": {
        "id": "bkSsMiu254d1"
      }
    },
    {
      "cell_type": "code",
      "source": [
        "from collections import Counter\n",
        "Counter(y)"
      ],
      "metadata": {
        "colab": {
          "base_uri": "https://localhost:8080/"
        },
        "id": "9qoGsnUn5sFt",
        "outputId": "c470ceef-3f1a-46d5-f4d8-b4bbdc120a47"
      },
      "execution_count": 19,
      "outputs": [
        {
          "output_type": "execute_result",
          "data": {
            "text/plain": [
              "Counter({'Eating': 9560,\n",
              "         'Speak and Walk': 18673,\n",
              "         'Speaking': 12867,\n",
              "         'Staying': 16453,\n",
              "         'Walking': 14541})"
            ]
          },
          "metadata": {},
          "execution_count": 19
        }
      ]
    },
    {
      "cell_type": "markdown",
      "source": [
        "le = LE() and y = le.fit_transform(y.astype(str)) suggests that you are using a label encoder to convert the values in the variable y to numerical labels.\n",
        "\n",
        "Here's a breakdown of the code:\n",
        "\n",
        "le = LE(): This line creates an instance of the label encoder object, which is typically imported from the scikit-learn library using from sklearn.preprocessing import LabelEncoder. The label encoder is used to transform categorical labels into numerical values.\n",
        "\n",
        "y = le.fit_transform(y.astype(str)): This line applies the label encoder to the variable y.\n",
        "\n",
        "y.astype(str) converts the values in y to strings. This step is necessary if the original values are not already of type str.\n",
        "le.fit_transform() applies the label encoder to the values in y and returns the encoded labels. The original values in y are replaced with the encoded labels.\n",
        "After executing these lines, the variable y will contain the transformed numerical labels obtained from the label encoder."
      ],
      "metadata": {
        "id": "NBcPOuqw5-eN"
      }
    },
    {
      "cell_type": "code",
      "source": [
        "le = LE()\n",
        "y = le.fit_transform(y.astype(str))"
      ],
      "metadata": {
        "id": "_R0p1Vyp5uWn"
      },
      "execution_count": 20,
      "outputs": []
    },
    {
      "cell_type": "markdown",
      "source": [
        "The Counter class from the collections module is used to count the occurrences of each unique value in a sequence. In this case, you can use Counter(y) to count the occurrences of each unique value in the variable y, which represents the transformed numerical labels."
      ],
      "metadata": {
        "id": "MhEk06eE6PWC"
      }
    },
    {
      "cell_type": "code",
      "source": [
        "from collections import Counter\n",
        "Counter(y)"
      ],
      "metadata": {
        "colab": {
          "base_uri": "https://localhost:8080/"
        },
        "id": "X8XR4vy35wb2",
        "outputId": "c0e60f9c-058f-4cc4-d485-3e9e1644c17d"
      },
      "execution_count": 21,
      "outputs": [
        {
          "output_type": "execute_result",
          "data": {
            "text/plain": [
              "Counter({0: 9560, 1: 18673, 2: 12867, 3: 16453, 4: 14541})"
            ]
          },
          "metadata": {},
          "execution_count": 21
        }
      ]
    },
    {
      "cell_type": "markdown",
      "source": [
        "a train-test split and a subsequent train-validation split on the features (X) and target variable (y)."
      ],
      "metadata": {
        "id": "-JR8dUp26XTv"
      }
    },
    {
      "cell_type": "code",
      "source": [
        "trainX, testX, train_y, test_y = train_test_split(X,y,test_size=0.20)\n",
        "trainX, valX, train_y, val_y = train_test_split(trainX,train_y,test_size=0.20)"
      ],
      "metadata": {
        "id": "kFa_ZwPU5yLN"
      },
      "execution_count": 22,
      "outputs": []
    },
    {
      "cell_type": "code",
      "source": [
        "print(\"Train: {:.2f}%\".format( (len(trainX)/len(data))*100 ))\n",
        "print(\"Validation: {:.2f}%\".format( (len(valX)/len(data))*100 ))\n",
        "print(\"Test: {:.2f}%\".format( (len(testX)/len(data))*100 ))"
      ],
      "metadata": {
        "colab": {
          "base_uri": "https://localhost:8080/"
        },
        "id": "1ImlxcVP50SG",
        "outputId": "aff4b0fa-51ce-45cb-9ea7-80b907752d65"
      },
      "execution_count": 23,
      "outputs": [
        {
          "output_type": "stream",
          "name": "stdout",
          "text": [
            "Train: 64.00%\n",
            "Validation: 16.00%\n",
            "Test: 20.00%\n"
          ]
        }
      ]
    },
    {
      "cell_type": "code",
      "source": [
        "trainX.shape"
      ],
      "metadata": {
        "colab": {
          "base_uri": "https://localhost:8080/"
        },
        "id": "CASEW7dr52IW",
        "outputId": "7d987957-a5ff-4d0a-dfe9-dd383df3397c"
      },
      "execution_count": 24,
      "outputs": [
        {
          "output_type": "execute_result",
          "data": {
            "text/plain": [
              "(46140, 6)"
            ]
          },
          "metadata": {},
          "execution_count": 24
        }
      ]
    },
    {
      "cell_type": "code",
      "source": [
        "trainX = trainX.values\n",
        "testX = testX.values\n",
        "valX = valX.values"
      ],
      "metadata": {
        "id": "wHbPjNMw5382"
      },
      "execution_count": 25,
      "outputs": []
    },
    {
      "cell_type": "markdown",
      "source": [
        "a function called scale_data that performs standardization on input data using the StandardScaler class from scikit-learn.\n",
        "\n",
        "Here's a step-by-step description of the code:\n",
        "\n",
        "The function takes three input arguments: trainX, testX, and valX, representing the training, testing, and validation data, respectively.\n",
        "\n",
        "An instance of the StandardScaler class is created and assigned to the variable s.\n",
        "\n",
        "The fit() method of the scaler is called on trainX to compute the mean and standard deviation of the training data. This step allows the scaler to learn the transformation parameters based on the training set.\n",
        "\n",
        "The transform() method is then called on trainX, testX, and valX to apply the learned transformation to each dataset. This step scales the data using the computed mean and standard deviation.\n",
        "\n",
        "The scaled data is reshaped back to the original shape of each dataset using the reshape() method. This step assumes that the input data has a shape of (samples, features).\n",
        "\n",
        "The function returns the scaled training data as flatTrainX, the scaled testing data as flatTestX, and the scaled validation data as flatValX."
      ],
      "metadata": {
        "id": "w-_dCQ7w6aIf"
      }
    },
    {
      "cell_type": "code",
      "source": [
        "# standardize data\n",
        "from sklearn.preprocessing import StandardScaler\n",
        "def scale_data(trainX, testX, valX):\n",
        "  s = StandardScaler()\n",
        "  # fit on training data\n",
        "  s.fit(trainX)\n",
        "  # apply to training and test data\n",
        "  flatTrainX = s.transform(trainX)\n",
        "  flatTestX = s.transform(testX)\n",
        "  flatValX = s.transform(valX)\n",
        "\n",
        "\t# reshape\n",
        "  flatTrainX = flatTrainX.reshape((trainX.shape))\n",
        "  flatTestX = flatTestX.reshape((testX.shape))\n",
        "  flatValX = flatValX.reshape((valX.shape))\n",
        "\n",
        "  return flatTrainX, flatTestX, flatValX"
      ],
      "metadata": {
        "id": "JJFTtW1h56lO"
      },
      "execution_count": 26,
      "outputs": []
    },
    {
      "cell_type": "markdown",
      "source": [
        "trainX, testX, valX = scale_data(trainX, testX, valX) calls the scale_data function to perform standardization on the input data (trainX, testX, and valX), and assigns the scaled data back to the same variables.\n",
        "\n"
      ],
      "metadata": {
        "id": "WAYkTLzz6vgz"
      }
    },
    {
      "cell_type": "code",
      "source": [
        "trainX, testX, valX = scale_data(trainX, testX, valX)"
      ],
      "metadata": {
        "id": "cePNjCD959o2"
      },
      "execution_count": 27,
      "outputs": []
    },
    {
      "cell_type": "markdown",
      "source": [
        "The code trainX = trainX.reshape(trainX.shape[0], trainX.shape[1], 1), testX = testX.reshape(testX.shape[0], testX.shape[1], 1), and valX = valX.reshape(valX.shape[0], valX.shape[1], 1) reshapes the input data to add an extra dimension of size 1. This is often used when working with Convolutional Neural Networks (CNNs) that expect input data to have a certain shape.\n",
        "\n"
      ],
      "metadata": {
        "id": "1oEJoex961zg"
      }
    },
    {
      "cell_type": "code",
      "source": [
        "trainX = trainX.reshape(trainX.shape[0], trainX.shape[1], 1)\n",
        "testX = testX.reshape(testX.shape[0], testX.shape[1], 1)\n",
        "valX = valX.reshape(valX.shape[0], valX.shape[1], 1)"
      ],
      "metadata": {
        "id": "2kb_EGvt5_xl"
      },
      "execution_count": 28,
      "outputs": []
    },
    {
      "cell_type": "code",
      "source": [
        "print(trainX.shape)\n",
        "print(testX.shape)\n",
        "print(valX.shape)"
      ],
      "metadata": {
        "colab": {
          "base_uri": "https://localhost:8080/"
        },
        "id": "20uLTfEx6BvW",
        "outputId": "fb1e5670-1701-4c51-b8c9-dea93fad2805"
      },
      "execution_count": 29,
      "outputs": [
        {
          "output_type": "stream",
          "name": "stdout",
          "text": [
            "(46140, 6, 1)\n",
            "(14419, 6, 1)\n",
            "(11535, 6, 1)\n"
          ]
        }
      ]
    },
    {
      "cell_type": "markdown",
      "source": [
        "train_y = to_categorical(train_y) and val_y = to_categorical(val_y) converts the target labels (train_y and val_y) into one-hot encoded format using the to_categorical function. It seems that the intention was to convert the target labels into categorical variables for multi-class classification tasks."
      ],
      "metadata": {
        "id": "bp9b9_EU67Ol"
      }
    },
    {
      "cell_type": "code",
      "source": [
        "train_y = to_categorical(train_y)\n",
        "val_y = to_categorical(val_y)\n",
        "# test_y = to_categorical(test_y)"
      ],
      "metadata": {
        "id": "_KgXqlvd6Dgl"
      },
      "execution_count": 30,
      "outputs": []
    },
    {
      "cell_type": "code",
      "source": [
        "train_y"
      ],
      "metadata": {
        "colab": {
          "base_uri": "https://localhost:8080/"
        },
        "id": "K5pAINpw6Fb-",
        "outputId": "be8b2922-62c7-4cc0-8e76-42f3542812b6"
      },
      "execution_count": 31,
      "outputs": [
        {
          "output_type": "execute_result",
          "data": {
            "text/plain": [
              "array([[1., 0., 0., 0., 0.],\n",
              "       [0., 0., 0., 1., 0.],\n",
              "       [0., 0., 1., 0., 0.],\n",
              "       ...,\n",
              "       [0., 0., 0., 0., 1.],\n",
              "       [1., 0., 0., 0., 0.],\n",
              "       [0., 0., 1., 0., 0.]], dtype=float32)"
            ]
          },
          "metadata": {},
          "execution_count": 31
        }
      ]
    },
    {
      "cell_type": "code",
      "source": [
        "test_y"
      ],
      "metadata": {
        "colab": {
          "base_uri": "https://localhost:8080/"
        },
        "id": "4n6HZKxH6Ig9",
        "outputId": "53443415-b59a-44c7-ef21-4cad6f2f8c5d"
      },
      "execution_count": 32,
      "outputs": [
        {
          "output_type": "execute_result",
          "data": {
            "text/plain": [
              "array([0, 4, 3, ..., 0, 3, 0])"
            ]
          },
          "metadata": {},
          "execution_count": 32
        }
      ]
    },
    {
      "cell_type": "markdown",
      "source": [
        "The code Counter(test_y) uses the Counter class from the collections module to count the occurrences of each unique element in the test_y variable."
      ],
      "metadata": {
        "id": "toYCp9VO7AWl"
      }
    },
    {
      "cell_type": "code",
      "source": [
        "from collections import Counter\n",
        "Counter(test_y)"
      ],
      "metadata": {
        "colab": {
          "base_uri": "https://localhost:8080/"
        },
        "id": "noEdm06M6Kje",
        "outputId": "1b9c86b3-3327-4f3d-ab05-9bff4450dcbd"
      },
      "execution_count": 33,
      "outputs": [
        {
          "output_type": "execute_result",
          "data": {
            "text/plain": [
              "Counter({0: 1992, 4: 2933, 3: 3286, 1: 3705, 2: 2503})"
            ]
          },
          "metadata": {},
          "execution_count": 33
        }
      ]
    },
    {
      "cell_type": "markdown",
      "source": [
        "n_timesteps, n_features = trainX.shape[0], trainX.shape[1] assigns the number of timesteps and number of features to the variables n_timesteps and n_features, respectively. The values are obtained from the shape of the trainX array."
      ],
      "metadata": {
        "id": "BrnIsG3F7Mn5"
      }
    },
    {
      "cell_type": "code",
      "source": [
        "verbose, epochs, batch_size = 1, 100, 32\n",
        "n_timesteps, n_features = trainX.shape[0], trainX.shape[1]\n",
        "n_timesteps, n_features"
      ],
      "metadata": {
        "colab": {
          "base_uri": "https://localhost:8080/"
        },
        "id": "nnyYZg0_6MbN",
        "outputId": "ea970d72-30a4-4f41-8baf-d8500a30023f"
      },
      "execution_count": 34,
      "outputs": [
        {
          "output_type": "execute_result",
          "data": {
            "text/plain": [
              "(46140, 6)"
            ]
          },
          "metadata": {},
          "execution_count": 34
        }
      ]
    },
    {
      "cell_type": "markdown",
      "source": [
        "The code defines a sequential model in Keras for a Convolutional Neural Network (CNN). Here's a breakdown of the code:\n",
        "\n",
        "model = Sequential() initializes a sequential model.\n",
        "\n",
        "model.add(Conv1D(filters=16, kernel_size=3, activation='relu', input_shape=(trainX.shape[1],trainX.shape[2]))) adds a 1D convolutional layer to the model. It has 16 filters, a kernel size of 3, and uses the ReLU activation function. The input_shape parameter is set to (trainX.shape[1], trainX.shape[2]), which corresponds to the shape of the input data.\n",
        "\n",
        "model.add(MaxPooling1D(pool_size=2)) adds a 1D max pooling layer with a pool size of 2. This layer reduces the spatial dimensions of the input by taking the maximum value within each pool.\n",
        "\n",
        "model.add(Conv1D(filters=32, kernel_size=3, activation='relu')) adds another 1D convolutional layer with 32 filters and a kernel size of 3. It also uses the ReLU activation function.\n",
        "\n",
        "model.add(MaxPooling1D(pool_size=2)) adds another 1D max pooling layer with a pool size of 2.\n",
        "\n",
        "model.add(Flatten()) flattens the input data, converting it from a 3D shape to a 1D shape.\n",
        "\n",
        "model.add(Dense(64, activation='relu')) adds a fully connected dense layer with 64 units and the ReLU activation function.\n",
        "\n",
        "model.add(Dense(2, activation='softmax')) adds the final dense layer with 2 units and the softmax activation function. This layer is responsible for the output predictions.\n",
        "\n",
        "opt = tf.keras.optimizers.Adam(learning_rate=0.0001) defines the Adam optimizer with a learning rate of 0.0001.\n",
        "\n",
        "model.compile(loss='categorical_crossentropy', optimizer=opt, metrics=['accuracy']) compiles the model by specifying the loss function, optimizer, and evaluation metrics. In this case, the categorical cross-entropy loss function is used, and the accuracy metric is computed.\n",
        "\n",
        "model.summary() prints a summary of the model architecture, including the layer types, output shapes, and the total number of parameters.\n",
        "\n",
        "\n",
        "\n"
      ],
      "metadata": {
        "id": "9YlHhzB87-hM"
      }
    },
    {
      "cell_type": "markdown",
      "source": [
        "he model summary shows the architecture of the CNN model. Here's a breakdown of the summary:\n",
        "\n",
        "Layer (type): This column indicates the type of layer in the model.\n",
        "\n",
        "conv1d: 1D Convolutional layer.\n",
        "max_pooling1d: 1D Max Pooling layer.\n",
        "flatten: Flatten layer.\n",
        "dense: Fully connected dense layer.\n",
        "Output Shape: This column shows the shape of the output from each layer. The None dimension represents the batch size.\n",
        "\n",
        "Param #: This column displays the number of parameters (weights and biases) in each layer.\n",
        "\n",
        "The model summary shows the following layers and their details:\n",
        "\n",
        "conv1d layer:\n",
        "\n",
        "Output Shape: (None, 30, 16)\n",
        "Param #: 64\n",
        "max_pooling1d layer:\n",
        "\n",
        "Output Shape: (None, 15, 16)\n",
        "Param #: 0\n",
        "conv1d_1 layer:\n",
        "\n",
        "Output Shape: (None, 13, 32)\n",
        "Param #: 1568\n",
        "max_pooling1d_1 layer:\n",
        "\n",
        "Output Shape: (None, 6, 32)\n",
        "Param #: 0\n",
        "flatten layer:\n",
        "\n",
        "Output Shape: (None, 192)\n",
        "Param #: 0\n",
        "dense layer:\n",
        "\n",
        "Output Shape: (None, 64)\n",
        "Param #: 12352\n",
        "dense_1 layer:\n",
        "\n",
        "Output Shape: (None, 2)\n",
        "Param #: 130\n",
        "The \"Total params\" field indicates the total number of parameters in the model, which is 14,114. All of these parameters are trainable."
      ],
      "metadata": {
        "id": "9DkpDGVD8WGy"
      }
    },
    {
      "cell_type": "code",
      "source": [
        "from tensorflow.keras.models import Sequential\n",
        "from tensorflow.keras.layers import Dense\n",
        "import tensorflow as tf\n",
        "\n",
        "model = Sequential()\n",
        "# Input layer with input_shape equals to the number of features in your flattened data.\n",
        "model.add(Dense(64, activation='relu', input_shape=(trainX.shape[1],)))\n",
        "# Hidden layer 1\n",
        "model.add(Dense(128, activation='relu'))\n",
        "# Hidden layer 2\n",
        "model.add(Dense(64, activation='relu'))\n",
        "# Hidden layer 3\n",
        "model.add(Dense(32, activation='relu'))\n",
        "# Output layer. The number of neurons should equal the number of classes.\n",
        "# Using softmax activation function for multi-class classification.\n",
        "model.add(Dense(5, activation='softmax'))\n",
        "\n",
        "# Using Adam optimizer with a learning rate of 0.0001.\n",
        "opt = tf.keras.optimizers.Adam(learning_rate=0.0001)\n",
        "\n",
        "# Compiling the model using categorical_crossentropy loss for multi-class classification.\n",
        "model.compile(loss='categorical_crossentropy', optimizer=opt, metrics=['accuracy'])\n",
        "model.summary()\n"
      ],
      "metadata": {
        "colab": {
          "base_uri": "https://localhost:8080/"
        },
        "id": "siKlT-Ss6Oht",
        "outputId": "1bcf5d8a-30bd-4947-d0b5-8bf0cd2a9a3e"
      },
      "execution_count": 35,
      "outputs": [
        {
          "output_type": "stream",
          "name": "stdout",
          "text": [
            "Model: \"sequential\"\n",
            "_________________________________________________________________\n",
            " Layer (type)                Output Shape              Param #   \n",
            "=================================================================\n",
            " dense (Dense)               (None, 64)                448       \n",
            "                                                                 \n",
            " dense_1 (Dense)             (None, 128)               8320      \n",
            "                                                                 \n",
            " dense_2 (Dense)             (None, 64)                8256      \n",
            "                                                                 \n",
            " dense_3 (Dense)             (None, 32)                2080      \n",
            "                                                                 \n",
            " dense_4 (Dense)             (None, 5)                 165       \n",
            "                                                                 \n",
            "=================================================================\n",
            "Total params: 19269 (75.27 KB)\n",
            "Trainable params: 19269 (75.27 KB)\n",
            "Non-trainable params: 0 (0.00 Byte)\n",
            "_________________________________________________________________\n"
          ]
        }
      ]
    },
    {
      "cell_type": "code",
      "source": [
        "tf.keras.utils.plot_model(model,show_shapes=True)"
      ],
      "metadata": {
        "colab": {
          "base_uri": "https://localhost:8080/",
          "height": 644
        },
        "id": "JCi2Q-466Qed",
        "outputId": "f61e23d4-e1c4-45cb-91a9-4ca661ea143f"
      },
      "execution_count": 36,
      "outputs": [
        {
          "output_type": "execute_result",
          "data": {
            "image/png": "[encoded data removed]",
            "text/plain": [
              "<IPython.core.display.Image object>"
            ]
          },
          "metadata": {},
          "execution_count": 36
        }
      ]
    },
    {
      "cell_type": "markdown",
      "source": [
        "The fit function is used to train the model. It takes the following arguments:\n",
        "\n",
        "trainX: The input training data (features) of shape (number of samples, number of timesteps, number of features).\n",
        "train_y: The target training data (labels) in categorical format.\n",
        "epochs: The number of times to iterate over the entire training dataset.\n",
        "batch_size: The number of samples per gradient update.\n",
        "verbose: Verbosity mode (0: silent, 1: progress bar).\n",
        "validation_data: Data on which to evaluate the loss and any model metrics at the end of each epoch. Here, it's the validation data (valX, val_y).\n",
        "The model will be trained for the specified number of epochs, and the training progress will be displayed based on the verbose argument.\n",
        "\n",
        "The training history, including the loss and accuracy metrics for both the training and validation sets, will be stored in the history object."
      ],
      "metadata": {
        "id": "naOKY29u9EUl"
      }
    },
    {
      "cell_type": "code",
      "source": [
        "# fit network\n",
        "history = model.fit(trainX, train_y, epochs=epochs,\n",
        "          batch_size=batch_size, verbose=1,\n",
        "          validation_data=(valX, val_y))"
      ],
      "metadata": {
        "colab": {
          "base_uri": "https://localhost:8080/"
        },
        "id": "9S6EsSD-6S3t",
        "outputId": "85c64b4a-8183-41bf-d493-bfe0ea5ff4ac"
      },
      "execution_count": 37,
      "outputs": [
        {
          "output_type": "stream",
          "name": "stdout",
          "text": [
            "Epoch 1/100\n",
            "1442/1442 [==============================] - 15s 6ms/step - loss: 1.0919 - accuracy: 0.5788 - val_loss: 0.8336 - val_accuracy: 0.6741\n",
            "Epoch 2/100\n",
            "1442/1442 [==============================] - 6s 4ms/step - loss: 0.7677 - accuracy: 0.6947 - val_loss: 0.7296 - val_accuracy: 0.7028\n",
            "Epoch 3/100\n",
            "1442/1442 [==============================] - 7s 5ms/step - loss: 0.7010 - accuracy: 0.7137 - val_loss: 0.6915 - val_accuracy: 0.7134\n",
            "Epoch 4/100\n",
            "1442/1442 [==============================] - 6s 4ms/step - loss: 0.6668 - accuracy: 0.7237 - val_loss: 0.6634 - val_accuracy: 0.7249\n",
            "Epoch 5/100\n",
            "1442/1442 [==============================] - 7s 5ms/step - loss: 0.6429 - accuracy: 0.7329 - val_loss: 0.6414 - val_accuracy: 0.7319\n",
            "Epoch 6/100\n",
            "1442/1442 [==============================] - 6s 4ms/step - loss: 0.6251 - accuracy: 0.7394 - val_loss: 0.6246 - val_accuracy: 0.7397\n",
            "Epoch 7/100\n",
            "1442/1442 [==============================] - 7s 5ms/step - loss: 0.6096 - accuracy: 0.7464 - val_loss: 0.6098 - val_accuracy: 0.7476\n",
            "Epoch 8/100\n",
            "1442/1442 [==============================] - 7s 5ms/step - loss: 0.5973 - accuracy: 0.7520 - val_loss: 0.5997 - val_accuracy: 0.7495\n",
            "Epoch 9/100\n",
            "1442/1442 [==============================] - 7s 5ms/step - loss: 0.5870 - accuracy: 0.7558 - val_loss: 0.5896 - val_accuracy: 0.7523\n",
            "Epoch 10/100\n",
            "1442/1442 [==============================] - 6s 4ms/step - loss: 0.5774 - accuracy: 0.7614 - val_loss: 0.5814 - val_accuracy: 0.7592\n",
            "Epoch 11/100\n",
            "1442/1442 [==============================] - 7s 5ms/step - loss: 0.5697 - accuracy: 0.7647 - val_loss: 0.5746 - val_accuracy: 0.7635\n",
            "Epoch 12/100\n",
            "1442/1442 [==============================] - 6s 4ms/step - loss: 0.5623 - accuracy: 0.7683 - val_loss: 0.5699 - val_accuracy: 0.7621\n",
            "Epoch 13/100\n",
            "1442/1442 [==============================] - 7s 5ms/step - loss: 0.5560 - accuracy: 0.7707 - val_loss: 0.5633 - val_accuracy: 0.7651\n",
            "Epoch 14/100\n",
            "1442/1442 [==============================] - 6s 4ms/step - loss: 0.5498 - accuracy: 0.7739 - val_loss: 0.5585 - val_accuracy: 0.7683\n",
            "Epoch 15/100\n",
            "1442/1442 [==============================] - 8s 5ms/step - loss: 0.5444 - accuracy: 0.7773 - val_loss: 0.5504 - val_accuracy: 0.7741\n",
            "Epoch 16/100\n",
            "1442/1442 [==============================] - 7s 5ms/step - loss: 0.5397 - accuracy: 0.7777 - val_loss: 0.5488 - val_accuracy: 0.7709\n",
            "Epoch 17/100\n",
            "1442/1442 [==============================] - 7s 5ms/step - loss: 0.5356 - accuracy: 0.7797 - val_loss: 0.5479 - val_accuracy: 0.7717\n",
            "Epoch 18/100\n",
            "1442/1442 [==============================] - 6s 4ms/step - loss: 0.5317 - accuracy: 0.7821 - val_loss: 0.5439 - val_accuracy: 0.7716\n",
            "Epoch 19/100\n",
            "1442/1442 [==============================] - 7s 5ms/step - loss: 0.5279 - accuracy: 0.7832 - val_loss: 0.5419 - val_accuracy: 0.7777\n",
            "Epoch 20/100\n",
            "1442/1442 [==============================] - 6s 4ms/step - loss: 0.5242 - accuracy: 0.7840 - val_loss: 0.5314 - val_accuracy: 0.7779\n",
            "Epoch 21/100\n",
            "1442/1442 [==============================] - 6s 4ms/step - loss: 0.5210 - accuracy: 0.7859 - val_loss: 0.5279 - val_accuracy: 0.7791\n",
            "Epoch 22/100\n",
            "1442/1442 [==============================] - 7s 5ms/step - loss: 0.5180 - accuracy: 0.7862 - val_loss: 0.5279 - val_accuracy: 0.7795\n",
            "Epoch 23/100\n",
            "1442/1442 [==============================] - 6s 4ms/step - loss: 0.5158 - accuracy: 0.7879 - val_loss: 0.5228 - val_accuracy: 0.7853\n",
            "Epoch 24/100\n",
            "1442/1442 [==============================] - 9s 6ms/step - loss: 0.5127 - accuracy: 0.7903 - val_loss: 0.5193 - val_accuracy: 0.7832\n",
            "Epoch 25/100\n",
            "1442/1442 [==============================] - 7s 5ms/step - loss: 0.5103 - accuracy: 0.7899 - val_loss: 0.5232 - val_accuracy: 0.7877\n",
            "Epoch 26/100\n",
            "1442/1442 [==============================] - 6s 4ms/step - loss: 0.5073 - accuracy: 0.7924 - val_loss: 0.5221 - val_accuracy: 0.7816\n",
            "Epoch 27/100\n",
            "1442/1442 [==============================] - 6s 4ms/step - loss: 0.5054 - accuracy: 0.7928 - val_loss: 0.5134 - val_accuracy: 0.7873\n",
            "Epoch 28/100\n",
            "1442/1442 [==============================] - 6s 4ms/step - loss: 0.5032 - accuracy: 0.7929 - val_loss: 0.5122 - val_accuracy: 0.7864\n",
            "Epoch 29/100\n",
            "1442/1442 [==============================] - 6s 4ms/step - loss: 0.5009 - accuracy: 0.7948 - val_loss: 0.5203 - val_accuracy: 0.7832\n",
            "Epoch 30/100\n",
            "1442/1442 [==============================] - 7s 5ms/step - loss: 0.4993 - accuracy: 0.7944 - val_loss: 0.5104 - val_accuracy: 0.7875\n",
            "Epoch 31/100\n",
            "1442/1442 [==============================] - 6s 4ms/step - loss: 0.4970 - accuracy: 0.7964 - val_loss: 0.5109 - val_accuracy: 0.7871\n",
            "Epoch 32/100\n",
            "1442/1442 [==============================] - 7s 5ms/step - loss: 0.4949 - accuracy: 0.7979 - val_loss: 0.5111 - val_accuracy: 0.7886\n",
            "Epoch 33/100\n",
            "1442/1442 [==============================] - 6s 4ms/step - loss: 0.4931 - accuracy: 0.7977 - val_loss: 0.5123 - val_accuracy: 0.7867\n",
            "Epoch 34/100\n",
            "1442/1442 [==============================] - 7s 5ms/step - loss: 0.4913 - accuracy: 0.7991 - val_loss: 0.5033 - val_accuracy: 0.7914\n",
            "Epoch 35/100\n",
            "1442/1442 [==============================] - 7s 5ms/step - loss: 0.4900 - accuracy: 0.7996 - val_loss: 0.5036 - val_accuracy: 0.7891\n",
            "Epoch 36/100\n",
            "1442/1442 [==============================] - 7s 5ms/step - loss: 0.4882 - accuracy: 0.7995 - val_loss: 0.5040 - val_accuracy: 0.7891\n",
            "Epoch 37/100\n",
            "1442/1442 [==============================] - 6s 4ms/step - loss: 0.4861 - accuracy: 0.8008 - val_loss: 0.4990 - val_accuracy: 0.7918\n",
            "Epoch 38/100\n",
            "1442/1442 [==============================] - 7s 5ms/step - loss: 0.4851 - accuracy: 0.8013 - val_loss: 0.5030 - val_accuracy: 0.7892\n",
            "Epoch 39/100\n",
            "1442/1442 [==============================] - 6s 4ms/step - loss: 0.4833 - accuracy: 0.8022 - val_loss: 0.5029 - val_accuracy: 0.7890\n",
            "Epoch 40/100\n",
            "1442/1442 [==============================] - 7s 5ms/step - loss: 0.4813 - accuracy: 0.8019 - val_loss: 0.4997 - val_accuracy: 0.7927\n",
            "Epoch 41/100\n",
            "1442/1442 [==============================] - 6s 4ms/step - loss: 0.4800 - accuracy: 0.8051 - val_loss: 0.4973 - val_accuracy: 0.7932\n",
            "Epoch 42/100\n",
            "1442/1442 [==============================] - 7s 5ms/step - loss: 0.4790 - accuracy: 0.8042 - val_loss: 0.4937 - val_accuracy: 0.7927\n",
            "Epoch 43/100\n",
            "1442/1442 [==============================] - 7s 5ms/step - loss: 0.4774 - accuracy: 0.8053 - val_loss: 0.4936 - val_accuracy: 0.7934\n",
            "Epoch 44/100\n",
            "1442/1442 [==============================] - 7s 5ms/step - loss: 0.4758 - accuracy: 0.8046 - val_loss: 0.4920 - val_accuracy: 0.7981\n",
            "Epoch 45/100\n",
            "1442/1442 [==============================] - 6s 4ms/step - loss: 0.4753 - accuracy: 0.8064 - val_loss: 0.4949 - val_accuracy: 0.7943\n",
            "Epoch 46/100\n",
            "1442/1442 [==============================] - 7s 5ms/step - loss: 0.4736 - accuracy: 0.8073 - val_loss: 0.4920 - val_accuracy: 0.7961\n",
            "Epoch 47/100\n",
            "1442/1442 [==============================] - 6s 4ms/step - loss: 0.4725 - accuracy: 0.8071 - val_loss: 0.4935 - val_accuracy: 0.7932\n",
            "Epoch 48/100\n",
            "1442/1442 [==============================] - 7s 5ms/step - loss: 0.4714 - accuracy: 0.8087 - val_loss: 0.4916 - val_accuracy: 0.7953\n",
            "Epoch 49/100\n",
            "1442/1442 [==============================] - 6s 4ms/step - loss: 0.4697 - accuracy: 0.8085 - val_loss: 0.4892 - val_accuracy: 0.7992\n",
            "Epoch 50/100\n",
            "1442/1442 [==============================] - 7s 5ms/step - loss: 0.4684 - accuracy: 0.8093 - val_loss: 0.4889 - val_accuracy: 0.7971\n",
            "Epoch 51/100\n",
            "1442/1442 [==============================] - 7s 5ms/step - loss: 0.4675 - accuracy: 0.8086 - val_loss: 0.4875 - val_accuracy: 0.7965\n",
            "Epoch 52/100\n",
            "1442/1442 [==============================] - 7s 5ms/step - loss: 0.4662 - accuracy: 0.8102 - val_loss: 0.4883 - val_accuracy: 0.7977\n",
            "Epoch 53/100\n",
            "1442/1442 [==============================] - 6s 4ms/step - loss: 0.4649 - accuracy: 0.8107 - val_loss: 0.4851 - val_accuracy: 0.7994\n",
            "Epoch 54/100\n",
            "1442/1442 [==============================] - 6s 4ms/step - loss: 0.4642 - accuracy: 0.8098 - val_loss: 0.4852 - val_accuracy: 0.7993\n",
            "Epoch 55/100\n",
            "1442/1442 [==============================] - 6s 4ms/step - loss: 0.4630 - accuracy: 0.8115 - val_loss: 0.4862 - val_accuracy: 0.7993\n",
            "Epoch 56/100\n",
            "1442/1442 [==============================] - 6s 4ms/step - loss: 0.4615 - accuracy: 0.8119 - val_loss: 0.4841 - val_accuracy: 0.7977\n",
            "Epoch 57/100\n",
            "1442/1442 [==============================] - 7s 5ms/step - loss: 0.4608 - accuracy: 0.8131 - val_loss: 0.4828 - val_accuracy: 0.7999\n",
            "Epoch 58/100\n",
            "1442/1442 [==============================] - 6s 4ms/step - loss: 0.4587 - accuracy: 0.8136 - val_loss: 0.4828 - val_accuracy: 0.8022\n",
            "Epoch 59/100\n",
            "1442/1442 [==============================] - 7s 5ms/step - loss: 0.4593 - accuracy: 0.8138 - val_loss: 0.4800 - val_accuracy: 0.8009\n",
            "Epoch 60/100\n",
            "1442/1442 [==============================] - 7s 5ms/step - loss: 0.4576 - accuracy: 0.8132 - val_loss: 0.4864 - val_accuracy: 0.7949\n",
            "Epoch 61/100\n",
            "1442/1442 [==============================] - 8s 5ms/step - loss: 0.4561 - accuracy: 0.8145 - val_loss: 0.4836 - val_accuracy: 0.7984\n",
            "Epoch 62/100\n",
            "1442/1442 [==============================] - 6s 4ms/step - loss: 0.4554 - accuracy: 0.8141 - val_loss: 0.4792 - val_accuracy: 0.8026\n",
            "Epoch 63/100\n",
            "1442/1442 [==============================] - 7s 5ms/step - loss: 0.4544 - accuracy: 0.8145 - val_loss: 0.4833 - val_accuracy: 0.7990\n",
            "Epoch 64/100\n",
            "1442/1442 [==============================] - 7s 5ms/step - loss: 0.4540 - accuracy: 0.8148 - val_loss: 0.4793 - val_accuracy: 0.8032\n",
            "Epoch 65/100\n",
            "1442/1442 [==============================] - 7s 5ms/step - loss: 0.4521 - accuracy: 0.8163 - val_loss: 0.4769 - val_accuracy: 0.8045\n",
            "Epoch 66/100\n",
            "1442/1442 [==============================] - 6s 4ms/step - loss: 0.4515 - accuracy: 0.8154 - val_loss: 0.4806 - val_accuracy: 0.8030\n",
            "Epoch 67/100\n",
            "1442/1442 [==============================] - 7s 5ms/step - loss: 0.4504 - accuracy: 0.8163 - val_loss: 0.4845 - val_accuracy: 0.7959\n",
            "Epoch 68/100\n",
            "1442/1442 [==============================] - 6s 4ms/step - loss: 0.4506 - accuracy: 0.8163 - val_loss: 0.4767 - val_accuracy: 0.8031\n",
            "Epoch 69/100\n",
            "1442/1442 [==============================] - 7s 5ms/step - loss: 0.4493 - accuracy: 0.8168 - val_loss: 0.4769 - val_accuracy: 0.8025\n",
            "Epoch 70/100\n",
            "1442/1442 [==============================] - 7s 5ms/step - loss: 0.4480 - accuracy: 0.8191 - val_loss: 0.4768 - val_accuracy: 0.8037\n",
            "Epoch 71/100\n",
            "1442/1442 [==============================] - 7s 5ms/step - loss: 0.4475 - accuracy: 0.8177 - val_loss: 0.4751 - val_accuracy: 0.8042\n",
            "Epoch 72/100\n",
            "1442/1442 [==============================] - 6s 4ms/step - loss: 0.4457 - accuracy: 0.8189 - val_loss: 0.4827 - val_accuracy: 0.8027\n",
            "Epoch 73/100\n",
            "1442/1442 [==============================] - 7s 5ms/step - loss: 0.4454 - accuracy: 0.8182 - val_loss: 0.4738 - val_accuracy: 0.8046\n",
            "Epoch 74/100\n",
            "1442/1442 [==============================] - 6s 4ms/step - loss: 0.4447 - accuracy: 0.8185 - val_loss: 0.4755 - val_accuracy: 0.8057\n",
            "Epoch 75/100\n",
            "1442/1442 [==============================] - 7s 5ms/step - loss: 0.4443 - accuracy: 0.8192 - val_loss: 0.4706 - val_accuracy: 0.8069\n",
            "Epoch 76/100\n",
            "1442/1442 [==============================] - 6s 4ms/step - loss: 0.4428 - accuracy: 0.8199 - val_loss: 0.4747 - val_accuracy: 0.8062\n",
            "Epoch 77/100\n",
            "1442/1442 [==============================] - 7s 5ms/step - loss: 0.4423 - accuracy: 0.8215 - val_loss: 0.4766 - val_accuracy: 0.8036\n",
            "Epoch 78/100\n",
            "1442/1442 [==============================] - 6s 4ms/step - loss: 0.4420 - accuracy: 0.8205 - val_loss: 0.4729 - val_accuracy: 0.8026\n",
            "Epoch 79/100\n",
            "1442/1442 [==============================] - 7s 5ms/step - loss: 0.4409 - accuracy: 0.8206 - val_loss: 0.4765 - val_accuracy: 0.8052\n",
            "Epoch 80/100\n",
            "1442/1442 [==============================] - 8s 5ms/step - loss: 0.4404 - accuracy: 0.8199 - val_loss: 0.4695 - val_accuracy: 0.8048\n",
            "Epoch 81/100\n",
            "1442/1442 [==============================] - 7s 5ms/step - loss: 0.4389 - accuracy: 0.8213 - val_loss: 0.4709 - val_accuracy: 0.8041\n",
            "Epoch 82/100\n",
            "1442/1442 [==============================] - 6s 4ms/step - loss: 0.4385 - accuracy: 0.8229 - val_loss: 0.4708 - val_accuracy: 0.8038\n",
            "Epoch 83/100\n",
            "1442/1442 [==============================] - 7s 5ms/step - loss: 0.4379 - accuracy: 0.8228 - val_loss: 0.4713 - val_accuracy: 0.8098\n",
            "Epoch 84/100\n",
            "1442/1442 [==============================] - 6s 4ms/step - loss: 0.4367 - accuracy: 0.8225 - val_loss: 0.4744 - val_accuracy: 0.8042\n",
            "Epoch 85/100\n",
            "1442/1442 [==============================] - 7s 5ms/step - loss: 0.4362 - accuracy: 0.8242 - val_loss: 0.4685 - val_accuracy: 0.8095\n",
            "Epoch 86/100\n",
            "1442/1442 [==============================] - 6s 4ms/step - loss: 0.4354 - accuracy: 0.8212 - val_loss: 0.4793 - val_accuracy: 0.8037\n",
            "Epoch 87/100\n",
            "1442/1442 [==============================] - 6s 4ms/step - loss: 0.4354 - accuracy: 0.8232 - val_loss: 0.4657 - val_accuracy: 0.8100\n",
            "Epoch 88/100\n",
            "1442/1442 [==============================] - 7s 5ms/step - loss: 0.4335 - accuracy: 0.8232 - val_loss: 0.4656 - val_accuracy: 0.8094\n",
            "Epoch 89/100\n",
            "1442/1442 [==============================] - 6s 5ms/step - loss: 0.4325 - accuracy: 0.8262 - val_loss: 0.4622 - val_accuracy: 0.8126\n",
            "Epoch 90/100\n",
            "1442/1442 [==============================] - 7s 5ms/step - loss: 0.4327 - accuracy: 0.8237 - val_loss: 0.4677 - val_accuracy: 0.8062\n",
            "Epoch 91/100\n",
            "1442/1442 [==============================] - 6s 4ms/step - loss: 0.4321 - accuracy: 0.8244 - val_loss: 0.4679 - val_accuracy: 0.8068\n",
            "Epoch 92/100\n",
            "1442/1442 [==============================] - 7s 5ms/step - loss: 0.4314 - accuracy: 0.8245 - val_loss: 0.4620 - val_accuracy: 0.8098\n",
            "Epoch 93/100\n",
            "1442/1442 [==============================] - 6s 4ms/step - loss: 0.4299 - accuracy: 0.8254 - val_loss: 0.4666 - val_accuracy: 0.8064\n",
            "Epoch 94/100\n",
            "1442/1442 [==============================] - 7s 5ms/step - loss: 0.4299 - accuracy: 0.8260 - val_loss: 0.4653 - val_accuracy: 0.8092\n",
            "Epoch 95/100\n",
            "1442/1442 [==============================] - 6s 4ms/step - loss: 0.4291 - accuracy: 0.8258 - val_loss: 0.4656 - val_accuracy: 0.8089\n",
            "Epoch 96/100\n",
            "1442/1442 [==============================] - 7s 5ms/step - loss: 0.4278 - accuracy: 0.8267 - val_loss: 0.4630 - val_accuracy: 0.8088\n",
            "Epoch 97/100\n",
            "1442/1442 [==============================] - 6s 4ms/step - loss: 0.4278 - accuracy: 0.8257 - val_loss: 0.4723 - val_accuracy: 0.8041\n",
            "Epoch 98/100\n",
            "1442/1442 [==============================] - 7s 5ms/step - loss: 0.4273 - accuracy: 0.8256 - val_loss: 0.4654 - val_accuracy: 0.8107\n",
            "Epoch 99/100\n",
            "1442/1442 [==============================] - 6s 4ms/step - loss: 0.4260 - accuracy: 0.8278 - val_loss: 0.4599 - val_accuracy: 0.8113\n",
            "Epoch 100/100\n",
            "1442/1442 [==============================] - 7s 5ms/step - loss: 0.4261 - accuracy: 0.8269 - val_loss: 0.4678 - val_accuracy: 0.8098\n"
          ]
        }
      ]
    },
    {
      "cell_type": "markdown",
      "source": [
        "The predict function is called on the model to generate predictions for the input test data (testX). It returns the predicted probabilities for each class.\n",
        "\n",
        "The predicted probabilities (prb) represent the model's confidence or likelihood for each class label for the given test samples.\n",
        "\n",
        "These predicted probabilities can be further processed or evaluated for tasks such as classification or performance analysis."
      ],
      "metadata": {
        "id": "A4gw8g9X9IAb"
      }
    },
    {
      "cell_type": "code",
      "source": [
        "prb = model.predict(testX)"
      ],
      "metadata": {
        "id": "IhRPVzzQ6Vht",
        "colab": {
          "base_uri": "https://localhost:8080/"
        },
        "outputId": "5f8f8f67-0253-40f0-d69b-54ba9e77fa23"
      },
      "execution_count": 38,
      "outputs": [
        {
          "output_type": "stream",
          "name": "stdout",
          "text": [
            "451/451 [==============================] - 1s 2ms/step\n"
          ]
        }
      ]
    },
    {
      "cell_type": "markdown",
      "source": [
        "The argmax function is applied to prb along axis=1, which means it will find the index (class) with the highest probability for each sample. The resulting array, predictions, will contain the predicted class labels for the test samples.\n",
        "\n",
        "By taking the argmax along axis=1, we are selecting the class label with the highest probability for each sample, effectively converting the predicted probabilities into discrete class labels.\n",
        "\n"
      ],
      "metadata": {
        "id": "GDFf6fCy9VjS"
      }
    },
    {
      "cell_type": "code",
      "source": [
        "predictions = np.argmax(prb, axis=1)"
      ],
      "metadata": {
        "id": "dL4M3DZX6Xbl"
      },
      "execution_count": 39,
      "outputs": []
    },
    {
      "cell_type": "markdown",
      "source": [
        "The classification_report function is called with the true labels (test_y) and the predicted labels (predictions) as arguments. It calculates various metrics such as precision, recall, F1-score, and support for each class. The classification report summarizes these metrics for each class, as well as the average values across all classes.\n",
        "\n",
        "The printed classification report provides insights into the model's performance, including metrics such as precision (the proportion of correctly predicted positive instances out of all predicted positive instances), recall (the proportion of correctly predicted positive instances out of all actual positive instances), F1-score (the harmonic mean of precision and recall), and support (the number of samples in each class).\n",
        "\n",
        "By examining the classification report, you can assess the model's performance for each class and overall.\n",
        "\n",
        "\n",
        "\n",
        "\n",
        "\n"
      ],
      "metadata": {
        "id": "4pPOfk5x9Xqr"
      }
    },
    {
      "cell_type": "code",
      "source": [
        "print(classification_report(test_y, predictions))"
      ],
      "metadata": {
        "colab": {
          "base_uri": "https://localhost:8080/"
        },
        "id": "vk0pLMYZ6cXO",
        "outputId": "5128b21f-60d8-4c12-98f1-2aae377d5ca0"
      },
      "execution_count": 40,
      "outputs": [
        {
          "output_type": "stream",
          "name": "stdout",
          "text": [
            "              precision    recall  f1-score   support\n",
            "\n",
            "           0       0.82      0.79      0.81      1992\n",
            "           1       0.76      0.78      0.77      3705\n",
            "           2       0.73      0.77      0.75      2503\n",
            "           3       0.97      0.96      0.96      3286\n",
            "           4       0.75      0.71      0.73      2933\n",
            "\n",
            "    accuracy                           0.81     14419\n",
            "   macro avg       0.81      0.80      0.80     14419\n",
            "weighted avg       0.81      0.81      0.81     14419\n",
            "\n"
          ]
        }
      ]
    },
    {
      "cell_type": "markdown",
      "source": [
        "conf_mat = confusion_matrix(test_y, predictions)\n",
        "print(conf_mat)"
      ],
      "metadata": {
        "id": "gt-bzMdo90RG"
      }
    },
    {
      "cell_type": "code",
      "source": [
        "conf_mat = confusion_matrix(test_y, predictions)\n",
        "print(conf_mat)"
      ],
      "metadata": {
        "colab": {
          "base_uri": "https://localhost:8080/"
        },
        "id": "a6cr6IRB6equ",
        "outputId": "a5fdae1b-95bc-434b-d9ab-8b966786c481"
      },
      "execution_count": 41,
      "outputs": [
        {
          "output_type": "stream",
          "name": "stdout",
          "text": [
            "[[1582   52  252   36   70]\n",
            " [  56 2900  239   15  495]\n",
            " [ 236  198 1921   38  110]\n",
            " [   8   20   89 3156   13]\n",
            " [  55  671  115   13 2079]]\n"
          ]
        }
      ]
    },
    {
      "cell_type": "code",
      "source": [
        "class_names = ['Eating', 'Speak and walking','speaking','staying','walking']\n",
        "make_confusion_matrix(conf_mat, figsize=(10,5),percent=False,categories=class_names,cbar=True)\n",
        "plt.savefig('conf_mat.png', dpi=300)"
      ],
      "metadata": {
        "colab": {
          "base_uri": "https://localhost:8080/",
          "height": 575
        },
        "id": "1S4yyQoo6ggG",
        "outputId": "67f77326-8800-4a9e-de3e-c32e565d00f6"
      },
      "execution_count": 42,
      "outputs": [
        {
          "output_type": "display_data",
          "data": {
            "text/plain": [
              "<Figure size 1000x500 with 2 Axes>"
            ],
            "image/png": "[encoded data removed]"
          },
          "metadata": {}
        }
      ]
    },
    {
      "cell_type": "code",
      "source": [
        "model.save('model.h5')"
      ],
      "metadata": {
        "id": "jzQu6nclAX45",
        "colab": {
          "base_uri": "https://localhost:8080/"
        },
        "outputId": "8b980afd-8223-4632-bcb7-43a0ffbc1982"
      },
      "execution_count": 43,
      "outputs": [
        {
          "output_type": "stream",
          "name": "stderr",
          "text": [
            "/usr/local/lib/python3.10/dist-packages/keras/src/engine/training.py:3000: UserWarning: You are saving your model as an HDF5 file via `model.save()`. This file format is considered legacy. We recommend using instead the native Keras format, e.g. `model.save('my_model.keras')`.\n",
            "  saving_api.save_model(\n"
          ]
        }
      ]
    },
    {
      "cell_type": "code",
      "source": [
        "acc = history.history['accuracy']\n",
        "val_acc = history.history['val_accuracy']\n",
        "loss = history.history['loss']\n",
        "val_loss = history.history['val_loss']\n",
        "\n",
        "epochs_range = range(100)\n",
        "\n",
        "plt.figure(figsize=(15, 15))\n",
        "plt.subplot(2, 2, 1)\n",
        "plt.plot(epochs_range, acc, label='Training Accuracy')\n",
        "plt.plot(epochs_range, val_acc, label='Validation Accuracy')\n",
        "plt.legend(loc='lower right')\n",
        "plt.title('Training and Validation Accuracy')\n",
        "\n",
        "plt.subplot(2, 2, 2)\n",
        "plt.plot(epochs_range, loss, label='Training Loss')\n",
        "plt.plot(epochs_range, val_loss, label='Validation Loss')\n",
        "plt.legend(loc='upper right')\n",
        "plt.title('Training and Validation Loss')\n",
        "plt.show()"
      ],
      "metadata": {
        "colab": {
          "base_uri": "https://localhost:8080/",
          "height": 431
        },
        "id": "9jlwXNfRAdpf",
        "outputId": "755f63e9-10c5-4ac4-9840-4e94f30b974b"
      },
      "execution_count": 44,
      "outputs": [
        {
          "output_type": "display_data",
          "data": {
            "text/plain": [
              "<Figure size 1500x1500 with 2 Axes>"
            ],
            "image/png": "[encoded data removed]"
          },
          "metadata": {}
        }
      ]
    }
  ]
}