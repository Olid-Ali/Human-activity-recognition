{
  "nbformat": 4,
  "nbformat_minor": 0,
  "metadata": {
    "colab": {
      "provenance": []
    },
    "kernelspec": {
      "name": "python3",
      "display_name": "Python 3"
    },
    "language_info": {
      "name": "python"
    }
  },
  "cells": [
    {
      "cell_type": "code",
      "metadata": {
        "colab": {
          "base_uri": "https://localhost:8080/"
        },
        "id": "1oKMoQ2pIwAP",
        "outputId": "36a80f36-7004-4694-de40-268e208f3e54"
      },
      "source": [
        "from google.colab import drive\n",
        "drive.mount('/content/drive')"
      ],
      "execution_count": 1,
      "outputs": [
        {
          "output_type": "stream",
          "name": "stdout",
          "text": [
            "Mounted at /content/drive\n"
          ]
        }
      ]
    },
    {
      "cell_type": "markdown",
      "source": [
        "Important Library Import"
      ],
      "metadata": {
        "id": "jSjuKmvQD4IQ"
      }
    },
    {
      "cell_type": "code",
      "metadata": {
        "id": "INUXK3b6Ixqu"
      },
      "source": [
        "import numpy as np\n",
        "import pandas as pd\n",
        "import matplotlib.pyplot as plt\n",
        "from matplotlib import rcParams\n",
        "from matplotlib.cm import rainbow\n",
        "%matplotlib inline\n",
        "import warnings\n",
        "warnings.filterwarnings('ignore')"
      ],
      "execution_count": 2,
      "outputs": []
    },
    {
      "cell_type": "code",
      "metadata": {
        "id": "AHZLEoR7JCNG"
      },
      "source": [
        "import seaborn"
      ],
      "execution_count": 3,
      "outputs": []
    },
    {
      "cell_type": "markdown",
      "source": [
        "Dataset load"
      ],
      "metadata": {
        "id": "dlwKmMcyD9gU"
      }
    },
    {
      "cell_type": "code",
      "metadata": {
        "id": "NVSbqf4jJEJW"
      },
      "source": [
        "df=pd.read_csv(\"/content/drive/MyDrive/NSU/HAR/AllData.csv\")"
      ],
      "execution_count": 4,
      "outputs": []
    },
    {
      "cell_type": "code",
      "metadata": {
        "colab": {
          "base_uri": "https://localhost:8080/",
          "height": 424
        },
        "id": "OQ0Gf2QCJOMZ",
        "outputId": "61b2b83d-0e60-4c28-e35c-5d86cb0edc87"
      },
      "source": [
        "df.head(200)"
      ],
      "execution_count": 5,
      "outputs": [
        {
          "output_type": "execute_result",
          "data": {
            "text/plain": [
              "             Time     Acc_x     Acc_y     Acc_z      Gry_x      Gry_y  \\\n",
              "0    1.560000e+12  0.499756  0.798584 -0.313110 -16.768293 -10.091463   \n",
              "1    1.560000e+12  0.497314  0.826172 -0.312622  -6.981707 -11.310976   \n",
              "2    1.560000e+12  0.495605  0.825562 -0.313477  -5.823171 -11.402439   \n",
              "3    1.560000e+12  0.493408  0.823242 -0.314697  -5.091463 -11.067073   \n",
              "4    1.560000e+12  0.495605  0.819336 -0.315552  -4.115854 -11.189024   \n",
              "..            ...       ...       ...       ...        ...        ...   \n",
              "195  1.560000e+12 -0.415161  0.886719 -0.390259  -4.024390  -3.384146   \n",
              "196  1.560000e+12 -0.360596  0.836304 -0.378174 -18.506098   4.451220   \n",
              "197  1.560000e+12 -0.408447  0.833862 -0.339233 -17.713415   6.463415   \n",
              "198  1.560000e+12 -0.367920  0.877563 -0.336914  -8.780488   1.615854   \n",
              "199  1.560000e+12 -0.365601  0.885864 -0.378784   0.792683  -4.237805   \n",
              "\n",
              "         Gry_Z  Person   Class  \n",
              "0    11.189024       4  Eating  \n",
              "1    10.731707       4  Eating  \n",
              "2     3.993902       4  Eating  \n",
              "3     6.890244       4  Eating  \n",
              "4    16.890244       4  Eating  \n",
              "..         ...     ...     ...  \n",
              "195  22.408537       4  Eating  \n",
              "196   3.993902       4  Eating  \n",
              "197  -1.463415       4  Eating  \n",
              "198   8.628049       4  Eating  \n",
              "199   3.871951       4  Eating  \n",
              "\n",
              "[200 rows x 9 columns]"
            ],
            "text/html": [
              "\n",
              "  <div id=\"df-425a3846-ac83-4a12-9b00-4252903fda82\">\n",
              "    <div class=\"colab-df-container\">\n",
              "      <div>\n",
              "<style scoped>\n",
              "    .dataframe tbody tr th:only-of-type {\n",
              "        vertical-align: middle;\n",
              "    }\n",
              "\n",
              "    .dataframe tbody tr th {\n",
              "        vertical-align: top;\n",
              "    }\n",
              "\n",
              "    .dataframe thead th {\n",
              "        text-align: right;\n",
              "    }\n",
              "</style>\n",
              "<table border=\"1\" class=\"dataframe\">\n",
              "  <thead>\n",
              "    <tr style=\"text-align: right;\">\n",
              "      <th></th>\n",
              "      <th>Time</th>\n",
              "      <th>Acc_x</th>\n",
              "      <th>Acc_y</th>\n",
              "      <th>Acc_z</th>\n",
              "      <th>Gry_x</th>\n",
              "      <th>Gry_y</th>\n",
              "      <th>Gry_Z</th>\n",
              "      <th>Person</th>\n",
              "      <th>Class</th>\n",
              "    </tr>\n",
              "  </thead>\n",
              "  <tbody>\n",
              "    <tr>\n",
              "      <th>0</th>\n",
              "      <td>1.560000e+12</td>\n",
              "      <td>0.499756</td>\n",
              "      <td>0.798584</td>\n",
              "      <td>-0.313110</td>\n",
              "      <td>-16.768293</td>\n",
              "      <td>-10.091463</td>\n",
              "      <td>11.189024</td>\n",
              "      <td>4</td>\n",
              "      <td>Eating</td>\n",
              "    </tr>\n",
              "    <tr>\n",
              "      <th>1</th>\n",
              "      <td>1.560000e+12</td>\n",
              "      <td>0.497314</td>\n",
              "      <td>0.826172</td>\n",
              "      <td>-0.312622</td>\n",
              "      <td>-6.981707</td>\n",
              "      <td>-11.310976</td>\n",
              "      <td>10.731707</td>\n",
              "      <td>4</td>\n",
              "      <td>Eating</td>\n",
              "    </tr>\n",
              "    <tr>\n",
              "      <th>2</th>\n",
              "      <td>1.560000e+12</td>\n",
              "      <td>0.495605</td>\n",
              "      <td>0.825562</td>\n",
              "      <td>-0.313477</td>\n",
              "      <td>-5.823171</td>\n",
              "      <td>-11.402439</td>\n",
              "      <td>3.993902</td>\n",
              "      <td>4</td>\n",
              "      <td>Eating</td>\n",
              "    </tr>\n",
              "    <tr>\n",
              "      <th>3</th>\n",
              "      <td>1.560000e+12</td>\n",
              "      <td>0.493408</td>\n",
              "      <td>0.823242</td>\n",
              "      <td>-0.314697</td>\n",
              "      <td>-5.091463</td>\n",
              "      <td>-11.067073</td>\n",
              "      <td>6.890244</td>\n",
              "      <td>4</td>\n",
              "      <td>Eating</td>\n",
              "    </tr>\n",
              "    <tr>\n",
              "      <th>4</th>\n",
              "      <td>1.560000e+12</td>\n",
              "      <td>0.495605</td>\n",
              "      <td>0.819336</td>\n",
              "      <td>-0.315552</td>\n",
              "      <td>-4.115854</td>\n",
              "      <td>-11.189024</td>\n",
              "      <td>16.890244</td>\n",
              "      <td>4</td>\n",
              "      <td>Eating</td>\n",
              "    </tr>\n",
              "    <tr>\n",
              "      <th>...</th>\n",
              "      <td>...</td>\n",
              "      <td>...</td>\n",
              "      <td>...</td>\n",
              "      <td>...</td>\n",
              "      <td>...</td>\n",
              "      <td>...</td>\n",
              "      <td>...</td>\n",
              "      <td>...</td>\n",
              "      <td>...</td>\n",
              "    </tr>\n",
              "    <tr>\n",
              "      <th>195</th>\n",
              "      <td>1.560000e+12</td>\n",
              "      <td>-0.415161</td>\n",
              "      <td>0.886719</td>\n",
              "      <td>-0.390259</td>\n",
              "      <td>-4.024390</td>\n",
              "      <td>-3.384146</td>\n",
              "      <td>22.408537</td>\n",
              "      <td>4</td>\n",
              "      <td>Eating</td>\n",
              "    </tr>\n",
              "    <tr>\n",
              "      <th>196</th>\n",
              "      <td>1.560000e+12</td>\n",
              "      <td>-0.360596</td>\n",
              "      <td>0.836304</td>\n",
              "      <td>-0.378174</td>\n",
              "      <td>-18.506098</td>\n",
              "      <td>4.451220</td>\n",
              "      <td>3.993902</td>\n",
              "      <td>4</td>\n",
              "      <td>Eating</td>\n",
              "    </tr>\n",
              "    <tr>\n",
              "      <th>197</th>\n",
              "      <td>1.560000e+12</td>\n",
              "      <td>-0.408447</td>\n",
              "      <td>0.833862</td>\n",
              "      <td>-0.339233</td>\n",
              "      <td>-17.713415</td>\n",
              "      <td>6.463415</td>\n",
              "      <td>-1.463415</td>\n",
              "      <td>4</td>\n",
              "      <td>Eating</td>\n",
              "    </tr>\n",
              "    <tr>\n",
              "      <th>198</th>\n",
              "      <td>1.560000e+12</td>\n",
              "      <td>-0.367920</td>\n",
              "      <td>0.877563</td>\n",
              "      <td>-0.336914</td>\n",
              "      <td>-8.780488</td>\n",
              "      <td>1.615854</td>\n",
              "      <td>8.628049</td>\n",
              "      <td>4</td>\n",
              "      <td>Eating</td>\n",
              "    </tr>\n",
              "    <tr>\n",
              "      <th>199</th>\n",
              "      <td>1.560000e+12</td>\n",
              "      <td>-0.365601</td>\n",
              "      <td>0.885864</td>\n",
              "      <td>-0.378784</td>\n",
              "      <td>0.792683</td>\n",
              "      <td>-4.237805</td>\n",
              "      <td>3.871951</td>\n",
              "      <td>4</td>\n",
              "      <td>Eating</td>\n",
              "    </tr>\n",
              "  </tbody>\n",
              "</table>\n",
              "<p>200 rows × 9 columns</p>\n",
              "</div>\n",
              "      <button class=\"colab-df-convert\" onclick=\"convertToInteractive('df-425a3846-ac83-4a12-9b00-4252903fda82')\"\n",
              "              title=\"Convert this dataframe to an interactive table.\"\n",
              "              style=\"display:none;\">\n",
              "        \n",
              "  <svg xmlns=\"http://www.w3.org/2000/svg\" height=\"24px\"viewBox=\"0 0 24 24\"\n",
              "       width=\"24px\">\n",
              "    <path d=\"M0 0h24v24H0V0z\" fill=\"none\"/>\n",
              "    <path d=\"M18.56 5.44l.94 2.06.94-2.06 2.06-.94-2.06-.94-.94-2.06-.94 2.06-2.06.94zm-11 1L8.5 8.5l.94-2.06 2.06-.94-2.06-.94L8.5 2.5l-.94 2.06-2.06.94zm10 10l.94 2.06.94-2.06 2.06-.94-2.06-.94-.94-2.06-.94 2.06-2.06.94z\"/><path d=\"M17.41 7.96l-1.37-1.37c-.4-.4-.92-.59-1.43-.59-.52 0-1.04.2-1.43.59L10.3 9.45l-7.72 7.72c-.78.78-.78 2.05 0 2.83L4 21.41c.39.39.9.59 1.41.59.51 0 1.02-.2 1.41-.59l7.78-7.78 2.81-2.81c.8-.78.8-2.07 0-2.86zM5.41 20L4 18.59l7.72-7.72 1.47 1.35L5.41 20z\"/>\n",
              "  </svg>\n",
              "      </button>\n",
              "      \n",
              "  <style>\n",
              "    .colab-df-container {\n",
              "      display:flex;\n",
              "      flex-wrap:wrap;\n",
              "      gap: 12px;\n",
              "    }\n",
              "\n",
              "    .colab-df-convert {\n",
              "      background-color: #E8F0FE;\n",
              "      border: none;\n",
              "      border-radius: 50%;\n",
              "      cursor: pointer;\n",
              "      display: none;\n",
              "      fill: #1967D2;\n",
              "      height: 32px;\n",
              "      padding: 0 0 0 0;\n",
              "      width: 32px;\n",
              "    }\n",
              "\n",
              "    .colab-df-convert:hover {\n",
              "      background-color: #E2EBFA;\n",
              "      box-shadow: 0px 1px 2px rgba(60, 64, 67, 0.3), 0px 1px 3px 1px rgba(60, 64, 67, 0.15);\n",
              "      fill: #174EA6;\n",
              "    }\n",
              "\n",
              "    [theme=dark] .colab-df-convert {\n",
              "      background-color: #3B4455;\n",
              "      fill: #D2E3FC;\n",
              "    }\n",
              "\n",
              "    [theme=dark] .colab-df-convert:hover {\n",
              "      background-color: #434B5C;\n",
              "      box-shadow: 0px 1px 3px 1px rgba(0, 0, 0, 0.15);\n",
              "      filter: drop-shadow(0px 1px 2px rgba(0, 0, 0, 0.3));\n",
              "      fill: #FFFFFF;\n",
              "    }\n",
              "  </style>\n",
              "\n",
              "      <script>\n",
              "        const buttonEl =\n",
              "          document.querySelector('#df-425a3846-ac83-4a12-9b00-4252903fda82 button.colab-df-convert');\n",
              "        buttonEl.style.display =\n",
              "          google.colab.kernel.accessAllowed ? 'block' : 'none';\n",
              "\n",
              "        async function convertToInteractive(key) {\n",
              "          const element = document.querySelector('#df-425a3846-ac83-4a12-9b00-4252903fda82');\n",
              "          const dataTable =\n",
              "            await google.colab.kernel.invokeFunction('convertToInteractive',\n",
              "                                                     [key], {});\n",
              "          if (!dataTable) return;\n",
              "\n",
              "          const docLinkHtml = 'Like what you see? Visit the ' +\n",
              "            '<a target=\"_blank\" href=https://colab.research.google.com/notebooks/data_table.ipynb>data table notebook</a>'\n",
              "            + ' to learn more about interactive tables.';\n",
              "          element.innerHTML = '';\n",
              "          dataTable['output_type'] = 'display_data';\n",
              "          await google.colab.output.renderOutput(dataTable, element);\n",
              "          const docLink = document.createElement('div');\n",
              "          docLink.innerHTML = docLinkHtml;\n",
              "          element.appendChild(docLink);\n",
              "        }\n",
              "      </script>\n",
              "    </div>\n",
              "  </div>\n",
              "  "
            ]
          },
          "metadata": {},
          "execution_count": 5
        }
      ]
    },
    {
      "cell_type": "code",
      "source": [
        "df=df.drop('Person',axis=1)\n",
        "df=df.drop('Time',axis=1)"
      ],
      "metadata": {
        "id": "TxeOgVCuXrZn"
      },
      "execution_count": 6,
      "outputs": []
    },
    {
      "cell_type": "code",
      "source": [
        "df"
      ],
      "metadata": {
        "colab": {
          "base_uri": "https://localhost:8080/",
          "height": 424
        },
        "id": "Dtnzy9nfX3MF",
        "outputId": "64aafe6c-409f-4f2a-961d-101064bc189f"
      },
      "execution_count": 7,
      "outputs": [
        {
          "output_type": "execute_result",
          "data": {
            "text/plain": [
              "          Acc_x     Acc_y     Acc_z      Gry_x      Gry_y      Gry_Z    Class\n",
              "0      0.499756  0.798584 -0.313110 -16.768293 -10.091463  11.189024   Eating\n",
              "1      0.497314  0.826172 -0.312622  -6.981707 -11.310976  10.731707   Eating\n",
              "2      0.495605  0.825562 -0.313477  -5.823171 -11.402439   3.993902   Eating\n",
              "3      0.493408  0.823242 -0.314697  -5.091463 -11.067073   6.890244   Eating\n",
              "4      0.495605  0.819336 -0.315552  -4.115854 -11.189024  16.890244   Eating\n",
              "...         ...       ...       ...        ...        ...        ...      ...\n",
              "72089 -0.945923 -0.182861  0.105103 -70.457317 -11.829268  11.463415  Walking\n",
              "72090 -0.898315 -0.176880  0.078857 -71.280488 -11.890244  10.884146  Walking\n",
              "72091 -0.863159 -0.199097  0.086548 -71.676829 -19.390244  -1.006098  Walking\n",
              "72092 -0.904907 -0.189941  0.088989 -58.963415 -10.152439  25.731707  Walking\n",
              "72093 -0.941895 -0.152100  0.086914 -58.658537  -9.207317  23.048780  Walking\n",
              "\n",
              "[72094 rows x 7 columns]"
            ],
            "text/html": [
              "\n",
              "  <div id=\"df-5f9bdf59-df32-4ee9-906b-0b655bdec4fd\">\n",
              "    <div class=\"colab-df-container\">\n",
              "      <div>\n",
              "<style scoped>\n",
              "    .dataframe tbody tr th:only-of-type {\n",
              "        vertical-align: middle;\n",
              "    }\n",
              "\n",
              "    .dataframe tbody tr th {\n",
              "        vertical-align: top;\n",
              "    }\n",
              "\n",
              "    .dataframe thead th {\n",
              "        text-align: right;\n",
              "    }\n",
              "</style>\n",
              "<table border=\"1\" class=\"dataframe\">\n",
              "  <thead>\n",
              "    <tr style=\"text-align: right;\">\n",
              "      <th></th>\n",
              "      <th>Acc_x</th>\n",
              "      <th>Acc_y</th>\n",
              "      <th>Acc_z</th>\n",
              "      <th>Gry_x</th>\n",
              "      <th>Gry_y</th>\n",
              "      <th>Gry_Z</th>\n",
              "      <th>Class</th>\n",
              "    </tr>\n",
              "  </thead>\n",
              "  <tbody>\n",
              "    <tr>\n",
              "      <th>0</th>\n",
              "      <td>0.499756</td>\n",
              "      <td>0.798584</td>\n",
              "      <td>-0.313110</td>\n",
              "      <td>-16.768293</td>\n",
              "      <td>-10.091463</td>\n",
              "      <td>11.189024</td>\n",
              "      <td>Eating</td>\n",
              "    </tr>\n",
              "    <tr>\n",
              "      <th>1</th>\n",
              "      <td>0.497314</td>\n",
              "      <td>0.826172</td>\n",
              "      <td>-0.312622</td>\n",
              "      <td>-6.981707</td>\n",
              "      <td>-11.310976</td>\n",
              "      <td>10.731707</td>\n",
              "      <td>Eating</td>\n",
              "    </tr>\n",
              "    <tr>\n",
              "      <th>2</th>\n",
              "      <td>0.495605</td>\n",
              "      <td>0.825562</td>\n",
              "      <td>-0.313477</td>\n",
              "      <td>-5.823171</td>\n",
              "      <td>-11.402439</td>\n",
              "      <td>3.993902</td>\n",
              "      <td>Eating</td>\n",
              "    </tr>\n",
              "    <tr>\n",
              "      <th>3</th>\n",
              "      <td>0.493408</td>\n",
              "      <td>0.823242</td>\n",
              "      <td>-0.314697</td>\n",
              "      <td>-5.091463</td>\n",
              "      <td>-11.067073</td>\n",
              "      <td>6.890244</td>\n",
              "      <td>Eating</td>\n",
              "    </tr>\n",
              "    <tr>\n",
              "      <th>4</th>\n",
              "      <td>0.495605</td>\n",
              "      <td>0.819336</td>\n",
              "      <td>-0.315552</td>\n",
              "      <td>-4.115854</td>\n",
              "      <td>-11.189024</td>\n",
              "      <td>16.890244</td>\n",
              "      <td>Eating</td>\n",
              "    </tr>\n",
              "    <tr>\n",
              "      <th>...</th>\n",
              "      <td>...</td>\n",
              "      <td>...</td>\n",
              "      <td>...</td>\n",
              "      <td>...</td>\n",
              "      <td>...</td>\n",
              "      <td>...</td>\n",
              "      <td>...</td>\n",
              "    </tr>\n",
              "    <tr>\n",
              "      <th>72089</th>\n",
              "      <td>-0.945923</td>\n",
              "      <td>-0.182861</td>\n",
              "      <td>0.105103</td>\n",
              "      <td>-70.457317</td>\n",
              "      <td>-11.829268</td>\n",
              "      <td>11.463415</td>\n",
              "      <td>Walking</td>\n",
              "    </tr>\n",
              "    <tr>\n",
              "      <th>72090</th>\n",
              "      <td>-0.898315</td>\n",
              "      <td>-0.176880</td>\n",
              "      <td>0.078857</td>\n",
              "      <td>-71.280488</td>\n",
              "      <td>-11.890244</td>\n",
              "      <td>10.884146</td>\n",
              "      <td>Walking</td>\n",
              "    </tr>\n",
              "    <tr>\n",
              "      <th>72091</th>\n",
              "      <td>-0.863159</td>\n",
              "      <td>-0.199097</td>\n",
              "      <td>0.086548</td>\n",
              "      <td>-71.676829</td>\n",
              "      <td>-19.390244</td>\n",
              "      <td>-1.006098</td>\n",
              "      <td>Walking</td>\n",
              "    </tr>\n",
              "    <tr>\n",
              "      <th>72092</th>\n",
              "      <td>-0.904907</td>\n",
              "      <td>-0.189941</td>\n",
              "      <td>0.088989</td>\n",
              "      <td>-58.963415</td>\n",
              "      <td>-10.152439</td>\n",
              "      <td>25.731707</td>\n",
              "      <td>Walking</td>\n",
              "    </tr>\n",
              "    <tr>\n",
              "      <th>72093</th>\n",
              "      <td>-0.941895</td>\n",
              "      <td>-0.152100</td>\n",
              "      <td>0.086914</td>\n",
              "      <td>-58.658537</td>\n",
              "      <td>-9.207317</td>\n",
              "      <td>23.048780</td>\n",
              "      <td>Walking</td>\n",
              "    </tr>\n",
              "  </tbody>\n",
              "</table>\n",
              "<p>72094 rows × 7 columns</p>\n",
              "</div>\n",
              "      <button class=\"colab-df-convert\" onclick=\"convertToInteractive('df-5f9bdf59-df32-4ee9-906b-0b655bdec4fd')\"\n",
              "              title=\"Convert this dataframe to an interactive table.\"\n",
              "              style=\"display:none;\">\n",
              "        \n",
              "  <svg xmlns=\"http://www.w3.org/2000/svg\" height=\"24px\"viewBox=\"0 0 24 24\"\n",
              "       width=\"24px\">\n",
              "    <path d=\"M0 0h24v24H0V0z\" fill=\"none\"/>\n",
              "    <path d=\"M18.56 5.44l.94 2.06.94-2.06 2.06-.94-2.06-.94-.94-2.06-.94 2.06-2.06.94zm-11 1L8.5 8.5l.94-2.06 2.06-.94-2.06-.94L8.5 2.5l-.94 2.06-2.06.94zm10 10l.94 2.06.94-2.06 2.06-.94-2.06-.94-.94-2.06-.94 2.06-2.06.94z\"/><path d=\"M17.41 7.96l-1.37-1.37c-.4-.4-.92-.59-1.43-.59-.52 0-1.04.2-1.43.59L10.3 9.45l-7.72 7.72c-.78.78-.78 2.05 0 2.83L4 21.41c.39.39.9.59 1.41.59.51 0 1.02-.2 1.41-.59l7.78-7.78 2.81-2.81c.8-.78.8-2.07 0-2.86zM5.41 20L4 18.59l7.72-7.72 1.47 1.35L5.41 20z\"/>\n",
              "  </svg>\n",
              "      </button>\n",
              "      \n",
              "  <style>\n",
              "    .colab-df-container {\n",
              "      display:flex;\n",
              "      flex-wrap:wrap;\n",
              "      gap: 12px;\n",
              "    }\n",
              "\n",
              "    .colab-df-convert {\n",
              "      background-color: #E8F0FE;\n",
              "      border: none;\n",
              "      border-radius: 50%;\n",
              "      cursor: pointer;\n",
              "      display: none;\n",
              "      fill: #1967D2;\n",
              "      height: 32px;\n",
              "      padding: 0 0 0 0;\n",
              "      width: 32px;\n",
              "    }\n",
              "\n",
              "    .colab-df-convert:hover {\n",
              "      background-color: #E2EBFA;\n",
              "      box-shadow: 0px 1px 2px rgba(60, 64, 67, 0.3), 0px 1px 3px 1px rgba(60, 64, 67, 0.15);\n",
              "      fill: #174EA6;\n",
              "    }\n",
              "\n",
              "    [theme=dark] .colab-df-convert {\n",
              "      background-color: #3B4455;\n",
              "      fill: #D2E3FC;\n",
              "    }\n",
              "\n",
              "    [theme=dark] .colab-df-convert:hover {\n",
              "      background-color: #434B5C;\n",
              "      box-shadow: 0px 1px 3px 1px rgba(0, 0, 0, 0.15);\n",
              "      filter: drop-shadow(0px 1px 2px rgba(0, 0, 0, 0.3));\n",
              "      fill: #FFFFFF;\n",
              "    }\n",
              "  </style>\n",
              "\n",
              "      <script>\n",
              "        const buttonEl =\n",
              "          document.querySelector('#df-5f9bdf59-df32-4ee9-906b-0b655bdec4fd button.colab-df-convert');\n",
              "        buttonEl.style.display =\n",
              "          google.colab.kernel.accessAllowed ? 'block' : 'none';\n",
              "\n",
              "        async function convertToInteractive(key) {\n",
              "          const element = document.querySelector('#df-5f9bdf59-df32-4ee9-906b-0b655bdec4fd');\n",
              "          const dataTable =\n",
              "            await google.colab.kernel.invokeFunction('convertToInteractive',\n",
              "                                                     [key], {});\n",
              "          if (!dataTable) return;\n",
              "\n",
              "          const docLinkHtml = 'Like what you see? Visit the ' +\n",
              "            '<a target=\"_blank\" href=https://colab.research.google.com/notebooks/data_table.ipynb>data table notebook</a>'\n",
              "            + ' to learn more about interactive tables.';\n",
              "          element.innerHTML = '';\n",
              "          dataTable['output_type'] = 'display_data';\n",
              "          await google.colab.output.renderOutput(dataTable, element);\n",
              "          const docLink = document.createElement('div');\n",
              "          docLink.innerHTML = docLinkHtml;\n",
              "          element.appendChild(docLink);\n",
              "        }\n",
              "      </script>\n",
              "    </div>\n",
              "  </div>\n",
              "  "
            ]
          },
          "metadata": {},
          "execution_count": 7
        }
      ]
    },
    {
      "cell_type": "markdown",
      "source": [
        "Dataset shape (Number of row, number of column)"
      ],
      "metadata": {
        "id": "Jc7iLbGKEA13"
      }
    },
    {
      "cell_type": "code",
      "metadata": {
        "colab": {
          "base_uri": "https://localhost:8080/"
        },
        "id": "qrn3fhd2JPGG",
        "outputId": "b0b4cf14-6f23-48be-f9fd-1fb2d7c35f28"
      },
      "source": [
        "df.shape"
      ],
      "execution_count": 8,
      "outputs": [
        {
          "output_type": "execute_result",
          "data": {
            "text/plain": [
              "(72094, 7)"
            ]
          },
          "metadata": {},
          "execution_count": 8
        }
      ]
    },
    {
      "cell_type": "markdown",
      "source": [
        "label is the target column which we need to predict"
      ],
      "metadata": {
        "id": "fGuB2YZiEGxk"
      }
    },
    {
      "cell_type": "code",
      "metadata": {
        "colab": {
          "base_uri": "https://localhost:8080/"
        },
        "id": "TMjgUDSQJRRn",
        "outputId": "b519ab29-5ea1-456a-ab6a-047da25532e0"
      },
      "source": [
        "df['Class'].value_counts()"
      ],
      "execution_count": 9,
      "outputs": [
        {
          "output_type": "execute_result",
          "data": {
            "text/plain": [
              "Speak and Walk    18673\n",
              "Staying           16453\n",
              "Walking           14541\n",
              "Speaking          12867\n",
              "Eating             9560\n",
              "Name: Class, dtype: int64"
            ]
          },
          "metadata": {},
          "execution_count": 9
        }
      ]
    },
    {
      "cell_type": "code",
      "metadata": {
        "colab": {
          "base_uri": "https://localhost:8080/"
        },
        "id": "n8K8tpI8JWH1",
        "outputId": "b9604c73-27f6-48f5-ac22-f4620adfb144"
      },
      "source": [
        "df.isnull().sum() #find missing data"
      ],
      "execution_count": 10,
      "outputs": [
        {
          "output_type": "execute_result",
          "data": {
            "text/plain": [
              "Acc_x    0\n",
              "Acc_y    0\n",
              "Acc_z    0\n",
              "Gry_x    0\n",
              "Gry_y    0\n",
              "Gry_Z    0\n",
              "Class    0\n",
              "dtype: int64"
            ]
          },
          "metadata": {},
          "execution_count": 10
        }
      ]
    },
    {
      "cell_type": "code",
      "source": [
        "df.isnull().values.any() #no missing data"
      ],
      "metadata": {
        "colab": {
          "base_uri": "https://localhost:8080/"
        },
        "id": "hIIbj5Ic34rB",
        "outputId": "ea21f90e-bb87-4a08-f19f-7b56314ea751"
      },
      "execution_count": 11,
      "outputs": [
        {
          "output_type": "execute_result",
          "data": {
            "text/plain": [
              "False"
            ]
          },
          "metadata": {},
          "execution_count": 11
        }
      ]
    },
    {
      "cell_type": "code",
      "metadata": {
        "colab": {
          "base_uri": "https://localhost:8080/",
          "height": 300
        },
        "id": "Yl6EE_WbJ2BG",
        "outputId": "cc676f8f-ade6-49a6-bf37-b9bcf1f7a0e0"
      },
      "source": [
        "df.describe() #feature engineering "
      ],
      "execution_count": 12,
      "outputs": [
        {
          "output_type": "execute_result",
          "data": {
            "text/plain": [
              "              Acc_x         Acc_y         Acc_z         Gry_x         Gry_y  \\\n",
              "count  72094.000000  72094.000000  72094.000000  72094.000000  72094.000000   \n",
              "mean      -0.447154      0.402126     -0.189126     -2.895353     -0.584548   \n",
              "std        0.572069      0.465418      0.210580     42.258991     41.297331   \n",
              "min       -1.283447     -1.066040     -1.184326   -588.658537   -664.634146   \n",
              "25%       -0.863892     -0.031494     -0.349243    -11.615854    -10.091463   \n",
              "50%       -0.743408      0.556519     -0.214478     -5.274390      0.000000   \n",
              "75%       -0.036987      0.782440     -0.057495      4.359756      4.756098   \n",
              "max        1.146362      1.199951      0.564331    414.878049    625.335366   \n",
              "\n",
              "              Gry_Z  \n",
              "count  72094.000000  \n",
              "mean      -0.605051  \n",
              "std       27.830226  \n",
              "min     -340.792683  \n",
              "25%       -8.864329  \n",
              "50%        1.006098  \n",
              "75%        8.445122  \n",
              "max      504.054878  "
            ],
            "text/html": [
              "\n",
              "  <div id=\"df-fd3d7c96-fd08-45ea-b982-0bdb013946ba\">\n",
              "    <div class=\"colab-df-container\">\n",
              "      <div>\n",
              "<style scoped>\n",
              "    .dataframe tbody tr th:only-of-type {\n",
              "        vertical-align: middle;\n",
              "    }\n",
              "\n",
              "    .dataframe tbody tr th {\n",
              "        vertical-align: top;\n",
              "    }\n",
              "\n",
              "    .dataframe thead th {\n",
              "        text-align: right;\n",
              "    }\n",
              "</style>\n",
              "<table border=\"1\" class=\"dataframe\">\n",
              "  <thead>\n",
              "    <tr style=\"text-align: right;\">\n",
              "      <th></th>\n",
              "      <th>Acc_x</th>\n",
              "      <th>Acc_y</th>\n",
              "      <th>Acc_z</th>\n",
              "      <th>Gry_x</th>\n",
              "      <th>Gry_y</th>\n",
              "      <th>Gry_Z</th>\n",
              "    </tr>\n",
              "  </thead>\n",
              "  <tbody>\n",
              "    <tr>\n",
              "      <th>count</th>\n",
              "      <td>72094.000000</td>\n",
              "      <td>72094.000000</td>\n",
              "      <td>72094.000000</td>\n",
              "      <td>72094.000000</td>\n",
              "      <td>72094.000000</td>\n",
              "      <td>72094.000000</td>\n",
              "    </tr>\n",
              "    <tr>\n",
              "      <th>mean</th>\n",
              "      <td>-0.447154</td>\n",
              "      <td>0.402126</td>\n",
              "      <td>-0.189126</td>\n",
              "      <td>-2.895353</td>\n",
              "      <td>-0.584548</td>\n",
              "      <td>-0.605051</td>\n",
              "    </tr>\n",
              "    <tr>\n",
              "      <th>std</th>\n",
              "      <td>0.572069</td>\n",
              "      <td>0.465418</td>\n",
              "      <td>0.210580</td>\n",
              "      <td>42.258991</td>\n",
              "      <td>41.297331</td>\n",
              "      <td>27.830226</td>\n",
              "    </tr>\n",
              "    <tr>\n",
              "      <th>min</th>\n",
              "      <td>-1.283447</td>\n",
              "      <td>-1.066040</td>\n",
              "      <td>-1.184326</td>\n",
              "      <td>-588.658537</td>\n",
              "      <td>-664.634146</td>\n",
              "      <td>-340.792683</td>\n",
              "    </tr>\n",
              "    <tr>\n",
              "      <th>25%</th>\n",
              "      <td>-0.863892</td>\n",
              "      <td>-0.031494</td>\n",
              "      <td>-0.349243</td>\n",
              "      <td>-11.615854</td>\n",
              "      <td>-10.091463</td>\n",
              "      <td>-8.864329</td>\n",
              "    </tr>\n",
              "    <tr>\n",
              "      <th>50%</th>\n",
              "      <td>-0.743408</td>\n",
              "      <td>0.556519</td>\n",
              "      <td>-0.214478</td>\n",
              "      <td>-5.274390</td>\n",
              "      <td>0.000000</td>\n",
              "      <td>1.006098</td>\n",
              "    </tr>\n",
              "    <tr>\n",
              "      <th>75%</th>\n",
              "      <td>-0.036987</td>\n",
              "      <td>0.782440</td>\n",
              "      <td>-0.057495</td>\n",
              "      <td>4.359756</td>\n",
              "      <td>4.756098</td>\n",
              "      <td>8.445122</td>\n",
              "    </tr>\n",
              "    <tr>\n",
              "      <th>max</th>\n",
              "      <td>1.146362</td>\n",
              "      <td>1.199951</td>\n",
              "      <td>0.564331</td>\n",
              "      <td>414.878049</td>\n",
              "      <td>625.335366</td>\n",
              "      <td>504.054878</td>\n",
              "    </tr>\n",
              "  </tbody>\n",
              "</table>\n",
              "</div>\n",
              "      <button class=\"colab-df-convert\" onclick=\"convertToInteractive('df-fd3d7c96-fd08-45ea-b982-0bdb013946ba')\"\n",
              "              title=\"Convert this dataframe to an interactive table.\"\n",
              "              style=\"display:none;\">\n",
              "        \n",
              "  <svg xmlns=\"http://www.w3.org/2000/svg\" height=\"24px\"viewBox=\"0 0 24 24\"\n",
              "       width=\"24px\">\n",
              "    <path d=\"M0 0h24v24H0V0z\" fill=\"none\"/>\n",
              "    <path d=\"M18.56 5.44l.94 2.06.94-2.06 2.06-.94-2.06-.94-.94-2.06-.94 2.06-2.06.94zm-11 1L8.5 8.5l.94-2.06 2.06-.94-2.06-.94L8.5 2.5l-.94 2.06-2.06.94zm10 10l.94 2.06.94-2.06 2.06-.94-2.06-.94-.94-2.06-.94 2.06-2.06.94z\"/><path d=\"M17.41 7.96l-1.37-1.37c-.4-.4-.92-.59-1.43-.59-.52 0-1.04.2-1.43.59L10.3 9.45l-7.72 7.72c-.78.78-.78 2.05 0 2.83L4 21.41c.39.39.9.59 1.41.59.51 0 1.02-.2 1.41-.59l7.78-7.78 2.81-2.81c.8-.78.8-2.07 0-2.86zM5.41 20L4 18.59l7.72-7.72 1.47 1.35L5.41 20z\"/>\n",
              "  </svg>\n",
              "      </button>\n",
              "      \n",
              "  <style>\n",
              "    .colab-df-container {\n",
              "      display:flex;\n",
              "      flex-wrap:wrap;\n",
              "      gap: 12px;\n",
              "    }\n",
              "\n",
              "    .colab-df-convert {\n",
              "      background-color: #E8F0FE;\n",
              "      border: none;\n",
              "      border-radius: 50%;\n",
              "      cursor: pointer;\n",
              "      display: none;\n",
              "      fill: #1967D2;\n",
              "      height: 32px;\n",
              "      padding: 0 0 0 0;\n",
              "      width: 32px;\n",
              "    }\n",
              "\n",
              "    .colab-df-convert:hover {\n",
              "      background-color: #E2EBFA;\n",
              "      box-shadow: 0px 1px 2px rgba(60, 64, 67, 0.3), 0px 1px 3px 1px rgba(60, 64, 67, 0.15);\n",
              "      fill: #174EA6;\n",
              "    }\n",
              "\n",
              "    [theme=dark] .colab-df-convert {\n",
              "      background-color: #3B4455;\n",
              "      fill: #D2E3FC;\n",
              "    }\n",
              "\n",
              "    [theme=dark] .colab-df-convert:hover {\n",
              "      background-color: #434B5C;\n",
              "      box-shadow: 0px 1px 3px 1px rgba(0, 0, 0, 0.15);\n",
              "      filter: drop-shadow(0px 1px 2px rgba(0, 0, 0, 0.3));\n",
              "      fill: #FFFFFF;\n",
              "    }\n",
              "  </style>\n",
              "\n",
              "      <script>\n",
              "        const buttonEl =\n",
              "          document.querySelector('#df-fd3d7c96-fd08-45ea-b982-0bdb013946ba button.colab-df-convert');\n",
              "        buttonEl.style.display =\n",
              "          google.colab.kernel.accessAllowed ? 'block' : 'none';\n",
              "\n",
              "        async function convertToInteractive(key) {\n",
              "          const element = document.querySelector('#df-fd3d7c96-fd08-45ea-b982-0bdb013946ba');\n",
              "          const dataTable =\n",
              "            await google.colab.kernel.invokeFunction('convertToInteractive',\n",
              "                                                     [key], {});\n",
              "          if (!dataTable) return;\n",
              "\n",
              "          const docLinkHtml = 'Like what you see? Visit the ' +\n",
              "            '<a target=\"_blank\" href=https://colab.research.google.com/notebooks/data_table.ipynb>data table notebook</a>'\n",
              "            + ' to learn more about interactive tables.';\n",
              "          element.innerHTML = '';\n",
              "          dataTable['output_type'] = 'display_data';\n",
              "          await google.colab.output.renderOutput(dataTable, element);\n",
              "          const docLink = document.createElement('div');\n",
              "          docLink.innerHTML = docLinkHtml;\n",
              "          element.appendChild(docLink);\n",
              "        }\n",
              "      </script>\n",
              "    </div>\n",
              "  </div>\n",
              "  "
            ]
          },
          "metadata": {},
          "execution_count": 12
        }
      ]
    },
    {
      "cell_type": "code",
      "metadata": {
        "colab": {
          "base_uri": "https://localhost:8080/",
          "height": 238
        },
        "id": "iI3rXOpIKbHm",
        "outputId": "3590a3a9-4da4-4b13-8008-d6a34e4c3dd9"
      },
      "source": [
        "df.corr() #feature selection"
      ],
      "execution_count": 13,
      "outputs": [
        {
          "output_type": "execute_result",
          "data": {
            "text/plain": [
              "          Acc_x     Acc_y     Acc_z     Gry_x     Gry_y     Gry_Z\n",
              "Acc_x  1.000000  0.576228 -0.427687  0.047156  0.064115  0.018388\n",
              "Acc_y  0.576228  1.000000 -0.749424 -0.033066  0.006125  0.054869\n",
              "Acc_z -0.427687 -0.749424  1.000000  0.041120 -0.007340 -0.028219\n",
              "Gry_x  0.047156 -0.033066  0.041120  1.000000  0.114890 -0.113659\n",
              "Gry_y  0.064115  0.006125 -0.007340  0.114890  1.000000 -0.383033\n",
              "Gry_Z  0.018388  0.054869 -0.028219 -0.113659 -0.383033  1.000000"
            ],
            "text/html": [
              "\n",
              "  <div id=\"df-5ab97c0e-00ac-4e50-b1fc-25909abdc917\">\n",
              "    <div class=\"colab-df-container\">\n",
              "      <div>\n",
              "<style scoped>\n",
              "    .dataframe tbody tr th:only-of-type {\n",
              "        vertical-align: middle;\n",
              "    }\n",
              "\n",
              "    .dataframe tbody tr th {\n",
              "        vertical-align: top;\n",
              "    }\n",
              "\n",
              "    .dataframe thead th {\n",
              "        text-align: right;\n",
              "    }\n",
              "</style>\n",
              "<table border=\"1\" class=\"dataframe\">\n",
              "  <thead>\n",
              "    <tr style=\"text-align: right;\">\n",
              "      <th></th>\n",
              "      <th>Acc_x</th>\n",
              "      <th>Acc_y</th>\n",
              "      <th>Acc_z</th>\n",
              "      <th>Gry_x</th>\n",
              "      <th>Gry_y</th>\n",
              "      <th>Gry_Z</th>\n",
              "    </tr>\n",
              "  </thead>\n",
              "  <tbody>\n",
              "    <tr>\n",
              "      <th>Acc_x</th>\n",
              "      <td>1.000000</td>\n",
              "      <td>0.576228</td>\n",
              "      <td>-0.427687</td>\n",
              "      <td>0.047156</td>\n",
              "      <td>0.064115</td>\n",
              "      <td>0.018388</td>\n",
              "    </tr>\n",
              "    <tr>\n",
              "      <th>Acc_y</th>\n",
              "      <td>0.576228</td>\n",
              "      <td>1.000000</td>\n",
              "      <td>-0.749424</td>\n",
              "      <td>-0.033066</td>\n",
              "      <td>0.006125</td>\n",
              "      <td>0.054869</td>\n",
              "    </tr>\n",
              "    <tr>\n",
              "      <th>Acc_z</th>\n",
              "      <td>-0.427687</td>\n",
              "      <td>-0.749424</td>\n",
              "      <td>1.000000</td>\n",
              "      <td>0.041120</td>\n",
              "      <td>-0.007340</td>\n",
              "      <td>-0.028219</td>\n",
              "    </tr>\n",
              "    <tr>\n",
              "      <th>Gry_x</th>\n",
              "      <td>0.047156</td>\n",
              "      <td>-0.033066</td>\n",
              "      <td>0.041120</td>\n",
              "      <td>1.000000</td>\n",
              "      <td>0.114890</td>\n",
              "      <td>-0.113659</td>\n",
              "    </tr>\n",
              "    <tr>\n",
              "      <th>Gry_y</th>\n",
              "      <td>0.064115</td>\n",
              "      <td>0.006125</td>\n",
              "      <td>-0.007340</td>\n",
              "      <td>0.114890</td>\n",
              "      <td>1.000000</td>\n",
              "      <td>-0.383033</td>\n",
              "    </tr>\n",
              "    <tr>\n",
              "      <th>Gry_Z</th>\n",
              "      <td>0.018388</td>\n",
              "      <td>0.054869</td>\n",
              "      <td>-0.028219</td>\n",
              "      <td>-0.113659</td>\n",
              "      <td>-0.383033</td>\n",
              "      <td>1.000000</td>\n",
              "    </tr>\n",
              "  </tbody>\n",
              "</table>\n",
              "</div>\n",
              "      <button class=\"colab-df-convert\" onclick=\"convertToInteractive('df-5ab97c0e-00ac-4e50-b1fc-25909abdc917')\"\n",
              "              title=\"Convert this dataframe to an interactive table.\"\n",
              "              style=\"display:none;\">\n",
              "        \n",
              "  <svg xmlns=\"http://www.w3.org/2000/svg\" height=\"24px\"viewBox=\"0 0 24 24\"\n",
              "       width=\"24px\">\n",
              "    <path d=\"M0 0h24v24H0V0z\" fill=\"none\"/>\n",
              "    <path d=\"M18.56 5.44l.94 2.06.94-2.06 2.06-.94-2.06-.94-.94-2.06-.94 2.06-2.06.94zm-11 1L8.5 8.5l.94-2.06 2.06-.94-2.06-.94L8.5 2.5l-.94 2.06-2.06.94zm10 10l.94 2.06.94-2.06 2.06-.94-2.06-.94-.94-2.06-.94 2.06-2.06.94z\"/><path d=\"M17.41 7.96l-1.37-1.37c-.4-.4-.92-.59-1.43-.59-.52 0-1.04.2-1.43.59L10.3 9.45l-7.72 7.72c-.78.78-.78 2.05 0 2.83L4 21.41c.39.39.9.59 1.41.59.51 0 1.02-.2 1.41-.59l7.78-7.78 2.81-2.81c.8-.78.8-2.07 0-2.86zM5.41 20L4 18.59l7.72-7.72 1.47 1.35L5.41 20z\"/>\n",
              "  </svg>\n",
              "      </button>\n",
              "      \n",
              "  <style>\n",
              "    .colab-df-container {\n",
              "      display:flex;\n",
              "      flex-wrap:wrap;\n",
              "      gap: 12px;\n",
              "    }\n",
              "\n",
              "    .colab-df-convert {\n",
              "      background-color: #E8F0FE;\n",
              "      border: none;\n",
              "      border-radius: 50%;\n",
              "      cursor: pointer;\n",
              "      display: none;\n",
              "      fill: #1967D2;\n",
              "      height: 32px;\n",
              "      padding: 0 0 0 0;\n",
              "      width: 32px;\n",
              "    }\n",
              "\n",
              "    .colab-df-convert:hover {\n",
              "      background-color: #E2EBFA;\n",
              "      box-shadow: 0px 1px 2px rgba(60, 64, 67, 0.3), 0px 1px 3px 1px rgba(60, 64, 67, 0.15);\n",
              "      fill: #174EA6;\n",
              "    }\n",
              "\n",
              "    [theme=dark] .colab-df-convert {\n",
              "      background-color: #3B4455;\n",
              "      fill: #D2E3FC;\n",
              "    }\n",
              "\n",
              "    [theme=dark] .colab-df-convert:hover {\n",
              "      background-color: #434B5C;\n",
              "      box-shadow: 0px 1px 3px 1px rgba(0, 0, 0, 0.15);\n",
              "      filter: drop-shadow(0px 1px 2px rgba(0, 0, 0, 0.3));\n",
              "      fill: #FFFFFF;\n",
              "    }\n",
              "  </style>\n",
              "\n",
              "      <script>\n",
              "        const buttonEl =\n",
              "          document.querySelector('#df-5ab97c0e-00ac-4e50-b1fc-25909abdc917 button.colab-df-convert');\n",
              "        buttonEl.style.display =\n",
              "          google.colab.kernel.accessAllowed ? 'block' : 'none';\n",
              "\n",
              "        async function convertToInteractive(key) {\n",
              "          const element = document.querySelector('#df-5ab97c0e-00ac-4e50-b1fc-25909abdc917');\n",
              "          const dataTable =\n",
              "            await google.colab.kernel.invokeFunction('convertToInteractive',\n",
              "                                                     [key], {});\n",
              "          if (!dataTable) return;\n",
              "\n",
              "          const docLinkHtml = 'Like what you see? Visit the ' +\n",
              "            '<a target=\"_blank\" href=https://colab.research.google.com/notebooks/data_table.ipynb>data table notebook</a>'\n",
              "            + ' to learn more about interactive tables.';\n",
              "          element.innerHTML = '';\n",
              "          dataTable['output_type'] = 'display_data';\n",
              "          await google.colab.output.renderOutput(dataTable, element);\n",
              "          const docLink = document.createElement('div');\n",
              "          docLink.innerHTML = docLinkHtml;\n",
              "          element.appendChild(docLink);\n",
              "        }\n",
              "      </script>\n",
              "    </div>\n",
              "  </div>\n",
              "  "
            ]
          },
          "metadata": {},
          "execution_count": 13
        }
      ]
    },
    {
      "cell_type": "markdown",
      "source": [
        "Feature Selection heatmap"
      ],
      "metadata": {
        "id": "cRwP2VyREzn5"
      }
    },
    {
      "cell_type": "code",
      "metadata": {
        "colab": {
          "base_uri": "https://localhost:8080/",
          "height": 936
        },
        "id": "SI7QOWNkKdXn",
        "outputId": "cb5a8a8a-e783-4539-bb63-8586cb8edf53"
      },
      "source": [
        "import seaborn as sns\n",
        "#get correlations of each features in dataset\n",
        "corrmat = df.corr()\n",
        "top_corr_features = corrmat.index\n",
        "plt.figure(figsize=(20,20))\n",
        "#plot heat map\n",
        "g=sns.heatmap(df[top_corr_features].corr(),annot=True,cmap=\"RdYlGn\")"
      ],
      "execution_count": 14,
      "outputs": [
        {
          "output_type": "display_data",
          "data": {
            "text/plain": [
              "<Figure size 2000x2000 with 2 Axes>"
            ],
            "image/png": "[encoded data removed]"
          },
          "metadata": {}
        }
      ]
    },
    {
      "cell_type": "markdown",
      "source": [
        "Extract statistical features"
      ],
      "metadata": {
        "id": "Hfsn3P1ILhox"
      }
    },
    {
      "cell_type": "code",
      "source": [
        "# Extract the accelerometer and gyroscope data into separate arrays\n",
        "acc_data = df[['Acc_x', 'Acc_y', 'Acc_z']].values\n",
        "gyro_data = df[['Gry_x', 'Gry_y', 'Gry_Z']].values\n"
      ],
      "metadata": {
        "id": "DfOyIDA5LnU3"
      },
      "execution_count": 15,
      "outputs": []
    },
    {
      "cell_type": "code",
      "source": [
        "from scipy.stats import skew, kurtosis"
      ],
      "metadata": {
        "id": "KTt9JeJOMIWz"
      },
      "execution_count": 16,
      "outputs": []
    },
    {
      "cell_type": "code",
      "source": [
        "data=df"
      ],
      "metadata": {
        "id": "P2U3W7OprD71"
      },
      "execution_count": 17,
      "outputs": []
    },
    {
      "cell_type": "code",
      "source": [
        "# function to compute statistical features\n",
        "def compute_features(data):\n",
        "    mean = np.mean(data, axis=0)\n",
        "    std = np.std(data, axis=0)\n",
        "    min = np.min(data, axis=0)\n",
        "    max = np.max(data, axis=0)\n",
        "    rms = np.sqrt(np.mean(np.square(data), axis=0))\n",
        "    skewness = skew(data, axis=0)\n",
        "    kurtosis_ = kurtosis(data, axis=0)\n",
        "    features = []\n",
        "    for f in [mean, std, (max-min), rms, skewness, kurtosis_]:\n",
        "        if isinstance(f, float):\n",
        "            features.append(f)\n",
        "        else:\n",
        "            features.extend(f.flatten())\n",
        "    return features"
      ],
      "metadata": {
        "id": "YfCZt3urrCCB"
      },
      "execution_count": 25,
      "outputs": []
    },
    {
      "cell_type": "code",
      "source": [
        "# compute features for accelerometer and gyroscope data\n",
        "acc_features = np.apply_along_axis(compute_features, 1, acc_data)\n",
        "gyro_features = np.apply_along_axis(compute_features, 1, gyro_data)\n"
      ],
      "metadata": {
        "id": "ruTaqcIgrG4k"
      },
      "execution_count": 26,
      "outputs": []
    },
    {
      "cell_type": "code",
      "source": [
        "# concatenate accelerometer and gyroscope features\n",
        "features = np.concatenate([acc_features, gyro_features], axis=1)"
      ],
      "metadata": {
        "id": "7bATKWWysXAx"
      },
      "execution_count": 27,
      "outputs": []
    },
    {
      "cell_type": "code",
      "source": [
        "features"
      ],
      "metadata": {
        "colab": {
          "base_uri": "https://localhost:8080/"
        },
        "id": "IzF18hVCtObN",
        "outputId": "5bec415b-70e0-41b7-83db-cd80cd878b76"
      },
      "execution_count": 28,
      "outputs": [
        {
          "output_type": "execute_result",
          "data": {
            "text/plain": [
              "array([[ 0.32840983,  0.46974154,  1.11169434, ..., 13.01547207,\n",
              "         0.54441885, -1.5       ],\n",
              "       [ 0.33695475,  0.47853898,  1.13879394, ...,  9.86326431,\n",
              "         0.59937443, -1.5       ],\n",
              "       [ 0.33589681,  0.47852696,  1.13903809, ...,  7.74330226,\n",
              "         0.32199616, -1.5       ],\n",
              "       ...,\n",
              "       [-0.325236  ,  0.39784353,  0.94970703, ..., 42.87408559,\n",
              "        -0.51243437, -1.5       ],\n",
              "       [-0.33528646,  0.41857014,  0.99389649, ..., 37.60264638,\n",
              "        -0.18429549, -1.5       ],\n",
              "       [-0.33569336,  0.43961482,  1.02880859, ..., 36.77338206,\n",
              "        -0.25090006, -1.5       ]])"
            ]
          },
          "metadata": {},
          "execution_count": 28
        }
      ]
    },
    {
      "cell_type": "code",
      "source": [
        "from sklearn.model_selection import train_test_split\n",
        "from sklearn.preprocessing import StandardScaler\n",
        "from sklearn.svm import SVC\n",
        "from sklearn.ensemble import RandomForestClassifier"
      ],
      "metadata": {
        "id": "ogMeg2mQthzo"
      },
      "execution_count": 30,
      "outputs": []
    },
    {
      "cell_type": "code",
      "source": [
        "labels=df['Class']"
      ],
      "metadata": {
        "id": "N2iM-4d5uRHo"
      },
      "execution_count": 32,
      "outputs": []
    },
    {
      "cell_type": "code",
      "source": [
        "# split data into training and testing sets\n",
        "X_train, X_test, y_train, y_test = train_test_split(features, labels, test_size=0.2, random_state=42)\n"
      ],
      "metadata": {
        "id": "xcnGEZ0rtfHi"
      },
      "execution_count": 33,
      "outputs": []
    },
    {
      "cell_type": "code",
      "source": [
        "# standardize features\n",
        "scaler = StandardScaler()\n",
        "X_train = scaler.fit_transform(X_train)\n",
        "X_test = scaler.transform(X_test)\n"
      ],
      "metadata": {
        "id": "12orm47LugHM"
      },
      "execution_count": 34,
      "outputs": []
    },
    {
      "cell_type": "code",
      "source": [
        "# train and test support vector machine classifier\n",
        "svm = SVC(kernel='rbf', C=1, gamma='auto')\n",
        "svm.fit(X_train, y_train)\n",
        "svm_acc = svm.score(X_test, y_test)"
      ],
      "metadata": {
        "id": "2ZA1rVLlumvN"
      },
      "execution_count": 35,
      "outputs": []
    },
    {
      "cell_type": "code",
      "source": [
        "# train and test random forest classifier\n",
        "rf = RandomForestClassifier(n_estimators=100, random_state=42)\n",
        "rf.fit(X_train, y_train)\n",
        "rf_acc = rf.score(X_test, y_test)"
      ],
      "metadata": {
        "id": "BfdGi9Bkupt9"
      },
      "execution_count": 36,
      "outputs": []
    },
    {
      "cell_type": "code",
      "source": [
        "print('SVM accuracy: {:.3f}'.format(svm_acc))\n",
        "print('Random forest accuracy: {:.3f}'.format(rf_acc))"
      ],
      "metadata": {
        "colab": {
          "base_uri": "https://localhost:8080/"
        },
        "id": "iBmZgWr1uy2h",
        "outputId": "4d77ab53-044f-4a24-f6cd-421a9eb3e841"
      },
      "execution_count": 37,
      "outputs": [
        {
          "output_type": "stream",
          "name": "stdout",
          "text": [
            "SVM accuracy: 0.749\n",
            "Random forest accuracy: 0.817\n"
          ]
        }
      ]
    }
  ]
}